{
 "cells": [
  {
   "cell_type": "markdown",
   "metadata": {},
   "source": [
    "## Урок 3. Model as a service и разные применения Transfer learning\n",
    "\n",
    "### Домашнее задание\n",
    "\n",
    "Реализуйте классификацию эмоциональной окрашенности текстов при помощи объекта pipeline.\n",
    "\n",
    "1. Найдите тип задач Sentiment Analysis на huggingface.co\n",
    "2. Найдите модель для русского языка (примеры: rubert-tiny2..., rubert-base...)"
   ]
  },
  {
   "cell_type": "code",
   "execution_count": 18,
   "metadata": {},
   "outputs": [],
   "source": [
    "import transformers\n",
    "# Use a pipeline as a high-level helper\n",
    "from transformers import pipeline\n",
    "\n",
    "pipe = pipeline(\"text-classification\", model=\"seara/rubert-base-cased-ru-go-emotions\")"
   ]
  },
  {
   "cell_type": "code",
   "execution_count": 19,
   "metadata": {},
   "outputs": [],
   "source": [
    "dict_label = {\n",
    "'admiration': 'восхищение',\n",
    "'amusement': 'веселье',\n",
    "'anger': 'злость',\n",
    "'annoyance': 'раздражение',\n",
    "'approval': 'одобрение',\n",
    "'caring': 'забота',\n",
    "'confusion': 'непонимание',\n",
    "'curiosity': 'любопытство',\n",
    "'desire': 'желание',\n",
    "'disappointment': 'разочарование',\n",
    "'disapproval': 'неодобрение',\n",
    "'disgust': 'отвращение',\n",
    "'embarrassment': 'смущение',\n",
    "'excitement': 'возбуждение',\n",
    "'fear': 'страх',\n",
    "'gratitude': 'признательность',\n",
    "'grief': 'горе',\n",
    "'joy': 'радость',\n",
    "'love': 'любовь',\n",
    "'nervousness': 'нервозность',\n",
    "'optimism': 'оптимизм',\n",
    "'pride': 'гордость',\n",
    "'realization': 'осознание',\n",
    "'relief': 'облегчение',\n",
    "'remorse': 'раскаяние',\n",
    "'sadness': 'грусть',\n",
    "'surprise': 'удивление',\n",
    "'neutral': 'нейтральность',\n",
    "}"
   ]
  },
  {
   "cell_type": "code",
   "execution_count": 20,
   "metadata": {},
   "outputs": [
    {
     "data": {
      "text/plain": [
       "[{'label': 'admiration', 'score': 0.9238640666007996},\n",
       " {'label': 'neutral', 'score': 0.40719014406204224},\n",
       " {'label': 'admiration', 'score': 0.9382498860359192},\n",
       " {'label': 'neutral', 'score': 0.41783222556114197},\n",
       " {'label': 'amusement', 'score': 0.40310126543045044}]"
      ]
     },
     "execution_count": 20,
     "metadata": {},
     "output_type": "execute_result"
    }
   ],
   "source": [
    "text = [\"Отличный товар\",\n",
    "        \"Мне не понравилось\",\n",
    "        \"Прекрасно выглядит, ничего не меняйте!\",\n",
    "        \"Ничего не понял\",\n",
    "        \"У меня не работала розетка, в остальном все отлично\"]\n",
    "pipe(text)"
   ]
  },
  {
   "cell_type": "code",
   "execution_count": 21,
   "metadata": {},
   "outputs": [
    {
     "data": {
      "text/html": [
       "<div>\n",
       "<style scoped>\n",
       "    .dataframe tbody tr th:only-of-type {\n",
       "        vertical-align: middle;\n",
       "    }\n",
       "\n",
       "    .dataframe tbody tr th {\n",
       "        vertical-align: top;\n",
       "    }\n",
       "\n",
       "    .dataframe thead th {\n",
       "        text-align: right;\n",
       "    }\n",
       "</style>\n",
       "<table border=\"1\" class=\"dataframe\">\n",
       "  <thead>\n",
       "    <tr style=\"text-align: right;\">\n",
       "      <th></th>\n",
       "      <th>text</th>\n",
       "    </tr>\n",
       "  </thead>\n",
       "  <tbody>\n",
       "    <tr>\n",
       "      <th>0</th>\n",
       "      <td>Отличный товар</td>\n",
       "    </tr>\n",
       "    <tr>\n",
       "      <th>1</th>\n",
       "      <td>Мне не понравилось</td>\n",
       "    </tr>\n",
       "    <tr>\n",
       "      <th>2</th>\n",
       "      <td>Прекрасно выглядит, ничего не меняйте!</td>\n",
       "    </tr>\n",
       "    <tr>\n",
       "      <th>3</th>\n",
       "      <td>Ничего не понял</td>\n",
       "    </tr>\n",
       "    <tr>\n",
       "      <th>4</th>\n",
       "      <td>У меня не работала розетка, в остальном все от...</td>\n",
       "    </tr>\n",
       "  </tbody>\n",
       "</table>\n",
       "</div>"
      ],
      "text/plain": [
       "                                                text\n",
       "0                                     Отличный товар\n",
       "1                                 Мне не понравилось\n",
       "2             Прекрасно выглядит, ничего не меняйте!\n",
       "3                                    Ничего не понял\n",
       "4  У меня не работала розетка, в остальном все от..."
      ]
     },
     "execution_count": 21,
     "metadata": {},
     "output_type": "execute_result"
    }
   ],
   "source": [
    "import pandas as pd\n",
    "\n",
    "df = pd.DataFrame()\n",
    "# Загружаем текст наших отзывов в датафрейм\n",
    "df['text'] =  pd.DataFrame(text)\n",
    "df"
   ]
  },
  {
   "cell_type": "code",
   "execution_count": 22,
   "metadata": {},
   "outputs": [
    {
     "data": {
      "text/html": [
       "<div>\n",
       "<style scoped>\n",
       "    .dataframe tbody tr th:only-of-type {\n",
       "        vertical-align: middle;\n",
       "    }\n",
       "\n",
       "    .dataframe tbody tr th {\n",
       "        vertical-align: top;\n",
       "    }\n",
       "\n",
       "    .dataframe thead th {\n",
       "        text-align: right;\n",
       "    }\n",
       "</style>\n",
       "<table border=\"1\" class=\"dataframe\">\n",
       "  <thead>\n",
       "    <tr style=\"text-align: right;\">\n",
       "      <th></th>\n",
       "      <th>text</th>\n",
       "      <th>sentiment</th>\n",
       "      <th>score</th>\n",
       "    </tr>\n",
       "  </thead>\n",
       "  <tbody>\n",
       "    <tr>\n",
       "      <th>0</th>\n",
       "      <td>Отличный товар</td>\n",
       "      <td>восхищение</td>\n",
       "      <td>92.4</td>\n",
       "    </tr>\n",
       "    <tr>\n",
       "      <th>1</th>\n",
       "      <td>Мне не понравилось</td>\n",
       "      <td>нейтральность</td>\n",
       "      <td>40.7</td>\n",
       "    </tr>\n",
       "    <tr>\n",
       "      <th>2</th>\n",
       "      <td>Прекрасно выглядит, ничего не меняйте!</td>\n",
       "      <td>восхищение</td>\n",
       "      <td>93.8</td>\n",
       "    </tr>\n",
       "    <tr>\n",
       "      <th>3</th>\n",
       "      <td>Ничего не понял</td>\n",
       "      <td>нейтральность</td>\n",
       "      <td>41.8</td>\n",
       "    </tr>\n",
       "    <tr>\n",
       "      <th>4</th>\n",
       "      <td>У меня не работала розетка, в остальном все от...</td>\n",
       "      <td>веселье</td>\n",
       "      <td>40.3</td>\n",
       "    </tr>\n",
       "  </tbody>\n",
       "</table>\n",
       "</div>"
      ],
      "text/plain": [
       "                                                text      sentiment  score\n",
       "0                                     Отличный товар     восхищение   92.4\n",
       "1                                 Мне не понравилось  нейтральность   40.7\n",
       "2             Прекрасно выглядит, ничего не меняйте!     восхищение   93.8\n",
       "3                                    Ничего не понял  нейтральность   41.8\n",
       "4  У меня не работала розетка, в остальном все от...        веселье   40.3"
      ]
     },
     "execution_count": 22,
     "metadata": {},
     "output_type": "execute_result"
    }
   ],
   "source": [
    "# добавляем столбцы с эмоциональной оценкой и точностью ответа\n",
    "df['sentiment'] = pd.DataFrame([dict_label[el['label']] for el in pipe(text)])\n",
    "df['score'] = pd.DataFrame([round(el['score']*100, 1) for el in pipe(text)])\n",
    "df\n",
    "    "
   ]
  },
  {
   "cell_type": "markdown",
   "metadata": {},
   "source": [
    "Вывод. <br>\n",
    "В данной работе проведена классификация эхмоциональной окрашенности текста с помощью предварительно обученной модели RuBERT <br>\n",
    "Модель была успешно применена к тексту, а результаты записаны в датафрейм. Результаты не однозначные. Модель отлично определила тональность 1 и 3 отзыва. Однако, другие отзывы показали не уверенный результат. Если 2 и 4 примером еще можно притянуть \"за уши\" к ответу \"нейтральный\", то последний отзыв явно не соответствует метке \"веселый\"."
   ]
  }
 ],
 "metadata": {
  "kernelspec": {
   "display_name": "Python 3",
   "language": "python",
   "name": "python3"
  },
  "language_info": {
   "codemirror_mode": {
    "name": "ipython",
    "version": 3
   },
   "file_extension": ".py",
   "mimetype": "text/x-python",
   "name": "python",
   "nbconvert_exporter": "python",
   "pygments_lexer": "ipython3",
   "version": "3.10.9"
  }
 },
 "nbformat": 4,
 "nbformat_minor": 2
}
