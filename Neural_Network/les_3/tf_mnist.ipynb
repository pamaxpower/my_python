{
 "cells": [
  {
   "cell_type": "code",
   "execution_count": null,
   "metadata": {},
   "outputs": [],
   "source": [
    "from __future__ import print_function\n",
    "import tensorflow.compat.v1 as tf\n",
    "tf.disable_v2_behavior()\n",
    "from tensorflow.keras.datasets import mnist"
   ]
  },
  {
   "cell_type": "code",
   "execution_count": null,
   "metadata": {},
   "outputs": [],
   "source": [
    "# загрузка данных mnist\n",
    "(x_train, y_train), (x_test, y_test) = mnist.load_data()"
   ]
  },
  {
   "cell_type": "code",
   "execution_count": null,
   "metadata": {},
   "outputs": [],
   "source": [
    "# преобразование данных в числа с плавающей точкой и нормализация\n",
    "\n",
    "x_train = x_train.astype('float32') / 255\n",
    "x_test = x_test.astype('float32') / 255\n",
    "\n",
    "x_train = x_train.reshape((-1, 784))        # или np.ravel\n",
    "x_test = x_test.reshape((-1, 784))"
   ]
  },
  {
   "cell_type": "code",
   "execution_count": null,
   "metadata": {},
   "outputs": [],
   "source": [
    "# создание функции для генерации мини_пакетов\n",
    "def next_batch(batch_size):\n",
    "    # получение случайного мини-пакета\n",
    "    idx = tf.random.uniform([batch_size], 0, len(x_train), dtype=tf.int32)\n",
    "    # извлечение данных и меток соответствующего мини-пакета\n",
    "    x_batch = tf.gather(x_train, idx)\n",
    "    y_batch = tf.gather(y_train, idx)\n",
    "    return x_batch, y_batch"
   ]
  },
  {
   "cell_type": "code",
   "execution_count": null,
   "metadata": {},
   "outputs": [],
   "source": [
    "# параметры обучения нейросети\n",
    "learn_rate = 0.1\n",
    "num_steps = 500\n",
    "batch_size = 32\n",
    "display_step = 100"
   ]
  },
  {
   "cell_type": "code",
   "execution_count": null,
   "metadata": {},
   "outputs": [],
   "source": [
    "# конфигурация нейросети\n",
    "n_hidden_1 = 256        # кол-во нейронов в 1 слое\n",
    "n_hidden_2 = 256        # кол-во нейронов во 2 слое\n",
    "num_input = 784         # MNIST-датасет = (размер изображжения 28х28)\n",
    "num_classes = 10        # MNIST кол-во классов (цифры от 0 до 9)"
   ]
  },
  {
   "cell_type": "code",
   "execution_count": null,
   "metadata": {},
   "outputs": [],
   "source": [
    "# входная часть графа\n",
    "X = tf.placeholder('float', [None, num_input])\n",
    "Y = tf.placeholder('float', [None, num_classes])\n",
    "\n",
    "# определение весов и смещения\n",
    "weights = {\n",
    "    'h1': tf.Variable(tf.random.normal([num_input, n_hidden_1])),\n",
    "    'h2': tf.Variable(tf.random.normal([n_hidden_1, n_hidden_2])),\n",
    "    'out': tf.Variable(tf.random.normal([n_hidden_2, num_classes]))\n",
    "}\n",
    "\n",
    "biases = {\n",
    "    'h1': tf.Variable(tf.random.normal([n_hidden_1])),\n",
    "    'h2': tf.Variable(tf.random.normal([n_hidden_2])),\n",
    "    'out': tf.Variable(tf.random.normal([num_classes]))\n",
    "}"
   ]
  },
  {
   "cell_type": "code",
   "execution_count": null,
   "metadata": {},
   "outputs": [],
   "source": [
    "# создание модели\n",
    "def neural_net(x):\n",
    "    # первый слой, 256 нейронов\n",
    "    layer_1 = tf.add(tf.matmul(x, weights['h1']), biases['h1'])\n",
    "    # второй слой, 256 нейронов\n",
    "    layer_2 = tf.add(tf.matmul(layer_1, weights['h2']), biases['h2'])\n",
    "    # выход полносвязанного слоя с нейроном на каждый класс\n",
    "    out_layer = tf.matmul(layer_2, weights['out']) + biases['out']\n",
    "    return out_layer"
   ]
  },
  {
   "cell_type": "code",
   "execution_count": null,
   "metadata": {},
   "outputs": [],
   "source": [
    "# конструирование модели\n",
    "logi = neural_net(X)\n",
    "prediction = tf.nn.softmax(logi)"
   ]
  },
  {
   "cell_type": "code",
   "execution_count": null,
   "metadata": {},
   "outputs": [],
   "source": [
    "# выбор loss-функции и optimizer\n",
    "loss_op = tf.reduce_mean(tf.nn.softmax_cross_entropy_with_logits(logits=logi, labels=Y))\n",
    "optimizer = tf.train.AdamOptimizer(learning_rate=learn_rate)\n",
    "train_op = optimizer.minimize(loss_op)"
   ]
  },
  {
   "cell_type": "code",
   "execution_count": null,
   "metadata": {},
   "outputs": [],
   "source": [
    "# оценка работы модели\n",
    "correct_pred = tf.equal(tf.argmax(prediction, 1), tf.argmax(Y, 1))\n",
    "accuracy = tf.reduce_mean(tf.cast(correct_pred, tf.float32))"
   ]
  },
  {
   "cell_type": "code",
   "execution_count": null,
   "metadata": {},
   "outputs": [],
   "source": [
    "# инициализация переменных (назначение значений по умолчанию)\n",
    "init = tf.global_variables_initializer()"
   ]
  },
  {
   "cell_type": "code",
   "execution_count": null,
   "metadata": {},
   "outputs": [],
   "source": [
    "# старт процесса тренировки нейронной сети\n",
    "with tf.Session() as sess:\n",
    "\n",
    "    # запуск инициализатора\n",
    "    sess.run(init)\n",
    "    print('')\n",
    "    for step in range(1, num_steps):\n",
    "        batch_x, batch_y = next_batch(batch_size)\n",
    "        # преобразование тензоров в значения\n",
    "        batch_x, batch_y = sess.run([batch_x, batch_y])\n",
    "        # преобразование пакета меток в one_hot форму (аналогично to_categorical в keras)\n",
    "        # depth=10 - кол-во классов\n",
    "        batch_y = tf.one_hot(batch_y, depth=10).eval()\n",
    "        # запуск оптимизатора весов\n",
    "        sess.run(train_op, feed_dict={X: batch_x, Y: batch_y})\n",
    "        if step % display_step == 0 or step == 1:\n",
    "            # вычисление батч ошибки и точности\n",
    "            loss, acc = sess.run([loss_op, accuracy], feed_dict={X: batch_x, Y: batch_y})\n",
    "        print(f'Step {step}, минибатч loss = {loss:.4f}, тренировочная точность = {acc:.4f}')\n",
    "    print('Оптимизация завершена')\n",
    "\n",
    "    # вычисление точности на изображениях датасета MNIST\n",
    "    print(f'Тестовая точность: {sess.run(accuracy, feed_dict={X: mnist.test.images, Y: mnist.test.labels})}')\n",
    "    "
   ]
  }
 ],
 "metadata": {
  "kernelspec": {
   "display_name": "Python 3",
   "language": "python",
   "name": "python3"
  },
  "language_info": {
   "codemirror_mode": {
    "name": "ipython",
    "version": 3
   },
   "file_extension": ".py",
   "mimetype": "text/x-python",
   "name": "python",
   "nbconvert_exporter": "python",
   "pygments_lexer": "ipython3",
   "version": "3.10.9"
  }
 },
 "nbformat": 4,
 "nbformat_minor": 2
}
