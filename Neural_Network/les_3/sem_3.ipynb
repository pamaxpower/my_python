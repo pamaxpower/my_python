{
 "cells": [
  {
   "cell_type": "markdown",
   "metadata": {},
   "source": [
    "Сравнение с Keras"
   ]
  },
  {
   "cell_type": "code",
   "execution_count": null,
   "metadata": {},
   "outputs": [],
   "source": [
    "import tensorflow as tf"
   ]
  },
  {
   "cell_type": "code",
   "execution_count": null,
   "metadata": {},
   "outputs": [],
   "source": [
    "print(tf.__version__)\n",
    "msg = tf.constant('TensorFlow 2.0 Hello World')\n",
    "tf.print(msg)"
   ]
  },
  {
   "cell_type": "code",
   "execution_count": null,
   "metadata": {},
   "outputs": [],
   "source": [
    "model = tf.keras.Sequential()\n",
    "\n",
    "model.add(tf.layers.Dense(units=64, activation='relu', input_shape=(input_size,)))\n",
    "model.add(tf.layers.Dense(units=32, activation='relu'))\n",
    "model.add(tf.layers.Dense(units=output_size, activation='softmax'))\n"
   ]
  },
  {
   "cell_type": "markdown",
   "metadata": {},
   "source": [
    "Создание модели на TensorFlow без Keras"
   ]
  },
  {
   "cell_type": "code",
   "execution_count": null,
   "metadata": {},
   "outputs": [],
   "source": [
    "# inputs = tf.placeholder(tf.float32, shape=[None, input_size])\n",
    "\n",
    "# # определение входных данных\n",
    "# weights1 = tf.Variable(tf.random_normal([input_size, 64]))\n",
    "# biases1 = tf.Variable(tf.zeros([64]))\n",
    "\n",
    "# # определение переменных для каждого слоя\n",
    "# weights2 = tf.Variable(tf.random_normal([64, 32]))\n",
    "# biases2 = tf.Variable(tf.zeros([32]))\n",
    "\n",
    "# weights3 = tf.Variable(tf.random_normal([32, output_size]))\n",
    "# biases3 = tf.Variable(tf.zeros([output_size]))\n",
    "\n",
    "# # определение операций для каждого слоя\n",
    "# hidden1 = tf.nn.relu(tf.matmul(inputs, weights1) + biases1)\n",
    "# hidden2 = tf.nn.relu(tf.matmul(hidden1, weights2) + biases2)\n",
    "# hidden3 = tf.nn.softmax(tf.matmul(hidden2, weights3) + biases3)"
   ]
  },
  {
   "cell_type": "markdown",
   "metadata": {},
   "source": [
    "Основы синтаксиса Tensorflow\n"
   ]
  },
  {
   "cell_type": "code",
   "execution_count": null,
   "metadata": {},
   "outputs": [],
   "source": [
    "# # режим совместимости v1 и v2.0\n",
    "# import tensorflow.compat.v1 as tf\n",
    "# tf.disable_v2_behavior()\n",
    "\n",
    "# # определение a и b в качестве плейсхолдеров\n",
    "# a = tf.compat.v1.placeholder(dtype=tf.int8)\n",
    "# b = tf.compat.v1.placeholder(dtype=tf.int8)\n",
    "\n",
    "\n",
    "# # определение сложения\n",
    "# c = tf.add(a, b)\n",
    "\n",
    "# # инициализация графа\n",
    "# graph = tf.Session()\n",
    "\n",
    "# # запуск графа\n",
    "# graph.run(c, feed_dict={a: 5, b: 4})"
   ]
  },
  {
   "cell_type": "code",
   "execution_count": null,
   "metadata": {},
   "outputs": [],
   "source": [
    "tensor = tf.constant([1,2,3])    # константный тензор (неизменный)\n",
    "variable = tf.Variable([4,5,6]) # переменный тензор"
   ]
  },
  {
   "cell_type": "markdown",
   "metadata": {},
   "source": [
    "Создание тензора"
   ]
  },
  {
   "cell_type": "code",
   "execution_count": null,
   "metadata": {},
   "outputs": [],
   "source": [
    "A = tf.constant([[3, 2], \n",
    "                 [5, 2]])\n",
    "\n",
    "print(A)"
   ]
  },
  {
   "cell_type": "code",
   "execution_count": null,
   "metadata": {},
   "outputs": [],
   "source": [
    "B = tf.constant([[9, 5],\n",
    "                 [1, 3]])\n",
    "print(B)"
   ]
  },
  {
   "cell_type": "markdown",
   "metadata": {},
   "source": [
    "Сложение (конкатенация) двух тензоров"
   ]
  },
  {
   "cell_type": "code",
   "execution_count": null,
   "metadata": {},
   "outputs": [],
   "source": [
    "AB = tf.concat(values=[A, B], axis=1)\n",
    "print(AB.numpy())   # выводит тензор без дополнительной информации"
   ]
  },
  {
   "cell_type": "markdown",
   "metadata": {},
   "source": [
    "Изменение размерности"
   ]
  },
  {
   "cell_type": "code",
   "execution_count": null,
   "metadata": {},
   "outputs": [],
   "source": [
    "resh_tensor = tf.reshape(tensor = AB, shape = [1, 8]) \n",
    "\n",
    "print(AB, resh_tensor)\n",
    "print(f'BEFORE {tensor.numpy()}')\n",
    "print(f'AFTER {resh_tensor.numpy()}')"
   ]
  },
  {
   "cell_type": "markdown",
   "metadata": {},
   "source": [
    "Умножение тензоров"
   ]
  },
  {
   "cell_type": "code",
   "execution_count": null,
   "metadata": {},
   "outputs": [],
   "source": [
    "A1 = tf.constant([[3, 7],\n",
    "                  [1, 9]])\n",
    "B1 = tf.constant([[10, 10],\n",
    "                  [1000, 1000]])\n",
    "\n",
    "A1B1 = tf.multiply(A1, B1)\n",
    "print(A1B1)"
   ]
  },
  {
   "cell_type": "code",
   "execution_count": null,
   "metadata": {},
   "outputs": [],
   "source": [
    "import tensorflow.compat.v1 as tf\n",
    "tf.disable_v2_behavior()\n",
    "\n",
    "a = 10\n",
    "b = 5\n",
    "c = tf.add(a, b, name='Sustruct')   #декларирование графа\n",
    "\n",
    "with tf.Session() as sess:\n",
    "    print(sess.run(c))      # запуск сессии"
   ]
  },
  {
   "cell_type": "markdown",
   "metadata": {},
   "source": [
    "Пустая сущность"
   ]
  },
  {
   "cell_type": "code",
   "execution_count": null,
   "metadata": {},
   "outputs": [],
   "source": [
    "x = tf.placeholder('float', None)\n",
    "y = x * 2"
   ]
  },
  {
   "cell_type": "markdown",
   "metadata": {},
   "source": [
    "Инициализация переменных для хранения нейросетей"
   ]
  },
  {
   "cell_type": "code",
   "execution_count": null,
   "metadata": {},
   "outputs": [],
   "source": [
    "nw = tf.Variable([.5], dtype=tf.float32)"
   ]
  },
  {
   "cell_type": "markdown",
   "metadata": {},
   "source": [
    "Слои"
   ]
  },
  {
   "cell_type": "code",
   "execution_count": null,
   "metadata": {},
   "outputs": [],
   "source": [
    "# создание слоя\n",
    "\n",
    "# l1 = tf.add(tf.matmul(X, weigth['h1']), bias['1'])\n",
    "\n",
    "# add - сложение, matmul - умножение\n",
    "# X - входные данные\n",
    "# W-вес, B-смещение\n",
    "# выходной сигнал (Y) равен: (X * W) + B"
   ]
  },
  {
   "cell_type": "code",
   "execution_count": 27,
   "metadata": {},
   "outputs": [],
   "source": [
    "# активация нейрона\n",
    "\n",
    "# pred = tf.nn.softmax(data)"
   ]
  },
  {
   "cell_type": "markdown",
   "metadata": {},
   "source": [
    "функция 'softmax' хороша, если выход нейрона надо преобразовать либо в 1, либо в 0"
   ]
  },
  {
   "cell_type": "markdown",
   "metadata": {},
   "source": [
    "Loss-функция и optimizer"
   ]
  },
  {
   "cell_type": "code",
   "execution_count": null,
   "metadata": {},
   "outputs": [],
   "source": [
    "# loss-функция\n",
    "\n",
    "# loss_op = tf.reduce_mean(tf.nn.softmax_cross_entropy_with_logits(logits=logits, labels=Y))\n",
    "\n",
    "# logits - значения, которые используются как input для softmax\n",
    "# cross_entropy - функция, которая сравнивает результаты выходного нейрона с лейблами\n",
    "\n",
    "# optimizer\n",
    "\n",
    "# optimizer = tf.train.AdamOptimizer(learning_rate=0.1)\n",
    "# train_op = optimizer.minimize(loss_op)\n"
   ]
  },
  {
   "cell_type": "markdown",
   "metadata": {},
   "source": [
    "Оптимизатор помогает найти минимальное значение функции и является частью нахождения нужных весрв в процессе тренировки нейронной сети. <br>\n",
    "Adam - продвинутая версия классического градиентного спуска и самый быстрый алгоритм "
   ]
  },
  {
   "cell_type": "markdown",
   "metadata": {},
   "source": [
    "Оценка работы модели"
   ]
  },
  {
   "cell_type": "code",
   "execution_count": null,
   "metadata": {},
   "outputs": [],
   "source": [
    "# current_pred = tf.equal(tf.argmax(prediction, 1), tf.argmax(Y, 1))\n",
    "\n",
    "# argmax - возвращает самое большое значение тензора\n",
    "# equal - сравнение векторов (предсказание нейросети и правильные ответы)\n",
    "# prediction - предсказания\n",
    "# Y - истинные значения\n",
    "\n",
    "# accuracy = tf.reduce_mean(tf.cast(correct_pred, tf.float32))\n",
    "\n",
    "# reduce_mean - средние значения в тензоре\n",
    "# cast - конвертирует 1 тип в другой\n"
   ]
  },
  {
   "cell_type": "markdown",
   "metadata": {},
   "source": [
    "Запуск обучения"
   ]
  },
  {
   "cell_type": "code",
   "execution_count": 30,
   "metadata": {},
   "outputs": [],
   "source": [
    "# запуск инициализатора\n",
    "init = tf.global_variables_initializer()"
   ]
  },
  {
   "cell_type": "code",
   "execution_count": 31,
   "metadata": {},
   "outputs": [],
   "source": [
    "# запуск самой сессии\n",
    "with tf.Session() as sess:\n",
    "    sess.run(init)"
   ]
  },
  {
   "cell_type": "markdown",
   "metadata": {},
   "source": [
    "Тестирование точности нейросети"
   ]
  },
  {
   "cell_type": "code",
   "execution_count": null,
   "metadata": {},
   "outputs": [],
   "source": [
    "# sess.run(accuracy, feed_dict={X: mnist.tast_images,\n",
    "#                               Y: mnist.test_labels})\n",
    "\n",
    "# accuracy - нужная метрика\n"
   ]
  }
 ],
 "metadata": {
  "kernelspec": {
   "display_name": "Python 3",
   "language": "python",
   "name": "python3"
  },
  "language_info": {
   "codemirror_mode": {
    "name": "ipython",
    "version": 3
   },
   "file_extension": ".py",
   "mimetype": "text/x-python",
   "name": "python",
   "nbconvert_exporter": "python",
   "pygments_lexer": "ipython3",
   "version": "3.10.9"
  }
 },
 "nbformat": 4,
 "nbformat_minor": 2
}
