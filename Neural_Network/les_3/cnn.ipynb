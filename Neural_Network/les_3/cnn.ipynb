{
 "cells": [
  {
   "cell_type": "markdown",
   "metadata": {},
   "source": [
    "Создание сверточной нейронной сети"
   ]
  },
  {
   "cell_type": "code",
   "execution_count": 7,
   "metadata": {},
   "outputs": [],
   "source": [
    "import keras\n",
    "from keras.layers import *"
   ]
  },
  {
   "cell_type": "code",
   "execution_count": 8,
   "metadata": {},
   "outputs": [],
   "source": [
    "input_shape = (28, 28, 1)"
   ]
  },
  {
   "cell_type": "code",
   "execution_count": 10,
   "metadata": {},
   "outputs": [],
   "source": [
    "model_conv = keras.Sequential([\n",
    "    keras.Input(shape=input_shape),\n",
    "    # добавляем сверточный слой для 2D-изображения\n",
    "    Conv2D(filters=32, padding='same', kernel_size=(3,3), activation='relu'),\n",
    "    # добавляем объединяющий слой\n",
    "    MaxPooling2D( (2,2), strides = 2),\n",
    "    Conv2D(64, padding = 'same', kernel_size = (3,3), activation = 'relu' ),\n",
    "    MaxPooling2D( (2,2), strides = 2),\n",
    "    Flatten(), # перевод в одномерный массив\n",
    "    # добавляем полносвязнные слои\n",
    "    Dense(128 ,activation = 'relu'), # количество входных нейронов\n",
    "    Dense(10, activation = 'softmax')   # количество выходных нейронов\n",
    "] )\n"
   ]
  }
 ],
 "metadata": {
  "kernelspec": {
   "display_name": "Python 3",
   "language": "python",
   "name": "python3"
  },
  "language_info": {
   "codemirror_mode": {
    "name": "ipython",
    "version": 3
   },
   "file_extension": ".py",
   "mimetype": "text/x-python",
   "name": "python",
   "nbconvert_exporter": "python",
   "pygments_lexer": "ipython3",
   "version": "3.10.9"
  }
 },
 "nbformat": 4,
 "nbformat_minor": 2
}
