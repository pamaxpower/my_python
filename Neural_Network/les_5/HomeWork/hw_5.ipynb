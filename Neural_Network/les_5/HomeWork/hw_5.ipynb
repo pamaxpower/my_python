{
 "cells": [
  {
   "cell_type": "code",
   "execution_count": 1,
   "metadata": {},
   "outputs": [],
   "source": [
    "import keras\n",
    "from keras.preprocessing.text import Tokenizer\n",
    "import numpy as np\n",
    "from keras.layers import *\n",
    "from keras.models import Sequential\n",
    "import matplotlib.pyplot as plt\n",
    "from keras.callbacks import EarlyStopping"
   ]
  },
  {
   "cell_type": "code",
   "execution_count": 2,
   "metadata": {},
   "outputs": [],
   "source": [
    "with open('Dune.txt', 'r', encoding='utf-8') as f:\n",
    "    texts = f.read()\n",
    "    # убираем первый невидимый символ\n",
    "    texts = texts.replace('\\ufeff', '') \n",
    "    "
   ]
  },
  {
   "cell_type": "code",
   "execution_count": 3,
   "metadata": {},
   "outputs": [
    {
     "data": {
      "text/plain": [
       "52176"
      ]
     },
     "execution_count": 3,
     "metadata": {},
     "output_type": "execute_result"
    }
   ],
   "source": [
    "len(texts)"
   ]
  },
  {
   "cell_type": "code",
   "execution_count": 4,
   "metadata": {},
   "outputs": [],
   "source": [
    "# набор уникальных слов\n",
    "maxWordsCount = 8000\n",
    "tokenizer = Tokenizer(num_words=maxWordsCount, \n",
    "                      filters='!–\"—#$%&amp;()*+,-./:;<=>?@[\\\\]^_`{|}~\\t\\n\\r«»',\n",
    "                      lower=True,\n",
    "                      split=' ',\n",
    "                      char_level=False)\n",
    "tokenizer.fit_on_texts([texts])"
   ]
  },
  {
   "cell_type": "code",
   "execution_count": 5,
   "metadata": {},
   "outputs": [
    {
     "name": "stdout",
     "output_type": "stream",
     "text": [
      "[('дюна', 9), ('фрэнк', 2), ('герберт', 2), ('вселенная', 1), ('дюныхроники', 1), ('дюны', 1), ('1', 2), ('роман', 1), ('первая', 1), ('книга', 4)]\n"
     ]
    }
   ],
   "source": [
    "dist = list(tokenizer.word_counts.items())\n",
    "print(dist[:10])"
   ]
  },
  {
   "cell_type": "code",
   "execution_count": 6,
   "metadata": {},
   "outputs": [],
   "source": [
    "# преобразуем текст в последовательность чисел в соответсвии со словарем\n",
    "data = tokenizer.texts_to_sequences([texts])"
   ]
  },
  {
   "cell_type": "code",
   "execution_count": 7,
   "metadata": {},
   "outputs": [
    {
     "data": {
      "text/plain": [
       "7934"
      ]
     },
     "execution_count": 7,
     "metadata": {},
     "output_type": "execute_result"
    }
   ],
   "source": [
    "len(data[0])"
   ]
  },
  {
   "cell_type": "code",
   "execution_count": 8,
   "metadata": {},
   "outputs": [
    {
     "name": "stdout",
     "output_type": "stream",
     "text": [
      "(7934, 8000)\n"
     ]
    }
   ],
   "source": [
    "# категоризируем слова в вектор\n",
    "res = keras.utils.to_categorical(data[0], num_classes=maxWordsCount)\n",
    "print( res.shape )"
   ]
  },
  {
   "cell_type": "code",
   "execution_count": 9,
   "metadata": {},
   "outputs": [],
   "source": [
    "# число слов, на которых строится прогноз\n",
    "inp_words = 3\n",
    "n = res.shape[0]-inp_words"
   ]
  },
  {
   "cell_type": "code",
   "execution_count": 10,
   "metadata": {},
   "outputs": [],
   "source": [
    "X = np.array([res[i:i+inp_words, :] for i in range(n)])\n",
    "Y = res[inp_words:] "
   ]
  },
  {
   "cell_type": "code",
   "execution_count": 11,
   "metadata": {},
   "outputs": [
    {
     "name": "stdout",
     "output_type": "stream",
     "text": [
      "Model: \"sequential\"\n",
      "_________________________________________________________________\n",
      " Layer (type)                Output Shape              Param #   \n",
      "=================================================================\n",
      " simple_rnn (SimpleRNN)      (None, 128)               1040512   \n",
      "                                                                 \n",
      " dense (Dense)               (None, 8000)              1032000   \n",
      "                                                                 \n",
      "=================================================================\n",
      "Total params: 2,072,512\n",
      "Trainable params: 2,072,512\n",
      "Non-trainable params: 0\n",
      "_________________________________________________________________\n"
     ]
    }
   ],
   "source": [
    "model = Sequential([\n",
    "    Input((inp_words, maxWordsCount)),\n",
    "    SimpleRNN(128, activation='tanh'),\n",
    "    Dense(maxWordsCount, activation='softmax')\n",
    "])\n",
    "\n",
    "model.summary()\n"
   ]
  },
  {
   "cell_type": "markdown",
   "metadata": {},
   "source": [
    "У данной сети мы видим около 2 млн параметров"
   ]
  },
  {
   "cell_type": "code",
   "execution_count": 12,
   "metadata": {},
   "outputs": [],
   "source": [
    "model.compile(loss='categorical_crossentropy',\n",
    "              metrics=['accuracy'],\n",
    "              optimizer='adam')"
   ]
  },
  {
   "cell_type": "code",
   "execution_count": 13,
   "metadata": {},
   "outputs": [],
   "source": [
    "# Настраиваем защиту от переобучения\n",
    "estop = EarlyStopping(monitor='accuracy', patience=2) "
   ]
  },
  {
   "cell_type": "code",
   "execution_count": 14,
   "metadata": {},
   "outputs": [
    {
     "name": "stdout",
     "output_type": "stream",
     "text": [
      "Epoch 1/100\n",
      "124/124 [==============================] - 10s 67ms/step - loss: 8.2008 - accuracy: 0.0349\n",
      "Epoch 2/100\n",
      "124/124 [==============================] - 7s 59ms/step - loss: 7.2099 - accuracy: 0.0373\n",
      "Epoch 3/100\n",
      "124/124 [==============================] - 7s 59ms/step - loss: 7.0103 - accuracy: 0.0374\n",
      "Epoch 4/100\n",
      "124/124 [==============================] - 7s 56ms/step - loss: 6.8371 - accuracy: 0.0393\n",
      "Epoch 5/100\n",
      "124/124 [==============================] - 7s 56ms/step - loss: 6.6285 - accuracy: 0.0485\n",
      "Epoch 6/100\n",
      "124/124 [==============================] - 7s 56ms/step - loss: 6.3555 - accuracy: 0.0577\n",
      "Epoch 7/100\n",
      "124/124 [==============================] - 8s 64ms/step - loss: 6.0446 - accuracy: 0.0735\n",
      "Epoch 8/100\n",
      "124/124 [==============================] - 8s 65ms/step - loss: 5.6930 - accuracy: 0.0965\n",
      "Epoch 9/100\n",
      "124/124 [==============================] - 8s 63ms/step - loss: 5.3385 - accuracy: 0.1242\n",
      "Epoch 10/100\n",
      "124/124 [==============================] - 8s 64ms/step - loss: 4.9799 - accuracy: 0.1606\n",
      "Epoch 11/100\n",
      "124/124 [==============================] - 8s 62ms/step - loss: 4.6191 - accuracy: 0.1964\n",
      "Epoch 12/100\n",
      "124/124 [==============================] - 8s 64ms/step - loss: 4.2746 - accuracy: 0.2379\n",
      "Epoch 13/100\n",
      "124/124 [==============================] - 8s 67ms/step - loss: 3.9478 - accuracy: 0.2890\n",
      "Epoch 14/100\n",
      "124/124 [==============================] - 8s 67ms/step - loss: 3.6403 - accuracy: 0.3432\n",
      "Epoch 15/100\n",
      "124/124 [==============================] - 8s 64ms/step - loss: 3.3567 - accuracy: 0.3896\n",
      "Epoch 16/100\n",
      "124/124 [==============================] - 8s 62ms/step - loss: 3.0898 - accuracy: 0.4334\n",
      "Epoch 17/100\n",
      "124/124 [==============================] - 8s 68ms/step - loss: 2.8450 - accuracy: 0.4678\n",
      "Epoch 18/100\n",
      "124/124 [==============================] - 8s 65ms/step - loss: 2.6239 - accuracy: 0.4968\n",
      "Epoch 19/100\n",
      "124/124 [==============================] - 8s 64ms/step - loss: 2.4248 - accuracy: 0.5269\n",
      "Epoch 20/100\n",
      "124/124 [==============================] - 8s 63ms/step - loss: 2.2522 - accuracy: 0.5458\n",
      "Epoch 21/100\n",
      "124/124 [==============================] - 8s 64ms/step - loss: 2.0975 - accuracy: 0.5723\n",
      "Epoch 22/100\n",
      "124/124 [==============================] - 8s 64ms/step - loss: 1.9555 - accuracy: 0.5906\n",
      "Epoch 23/100\n",
      "124/124 [==============================] - 8s 64ms/step - loss: 1.8329 - accuracy: 0.6134\n",
      "Epoch 24/100\n",
      "124/124 [==============================] - 8s 64ms/step - loss: 1.7156 - accuracy: 0.6338\n",
      "Epoch 25/100\n",
      "124/124 [==============================] - 8s 63ms/step - loss: 1.6175 - accuracy: 0.6538\n",
      "Epoch 26/100\n",
      "124/124 [==============================] - 8s 67ms/step - loss: 1.5209 - accuracy: 0.6752\n",
      "Epoch 27/100\n",
      "124/124 [==============================] - 8s 67ms/step - loss: 1.4340 - accuracy: 0.6894\n",
      "Epoch 28/100\n",
      "124/124 [==============================] - 8s 65ms/step - loss: 1.3554 - accuracy: 0.7068\n",
      "Epoch 29/100\n",
      "124/124 [==============================] - 8s 64ms/step - loss: 1.2768 - accuracy: 0.7255\n",
      "Epoch 30/100\n",
      "124/124 [==============================] - 8s 64ms/step - loss: 1.2058 - accuracy: 0.7375\n",
      "Epoch 31/100\n",
      "124/124 [==============================] - 8s 68ms/step - loss: 1.1410 - accuracy: 0.7525\n",
      "Epoch 32/100\n",
      "124/124 [==============================] - 9s 74ms/step - loss: 1.0801 - accuracy: 0.7626\n",
      "Epoch 33/100\n",
      "124/124 [==============================] - 8s 61ms/step - loss: 1.0253 - accuracy: 0.7719\n",
      "Epoch 34/100\n",
      "124/124 [==============================] - 8s 62ms/step - loss: 0.9702 - accuracy: 0.7825\n",
      "Epoch 35/100\n",
      "124/124 [==============================] - 9s 75ms/step - loss: 0.9216 - accuracy: 0.7946\n",
      "Epoch 36/100\n",
      "124/124 [==============================] - 9s 69ms/step - loss: 0.8751 - accuracy: 0.8033\n",
      "Epoch 37/100\n",
      "124/124 [==============================] - 10s 78ms/step - loss: 0.8312 - accuracy: 0.8119\n",
      "Epoch 38/100\n",
      "124/124 [==============================] - 9s 71ms/step - loss: 0.7882 - accuracy: 0.8211\n",
      "Epoch 39/100\n",
      "124/124 [==============================] - 8s 62ms/step - loss: 0.7516 - accuracy: 0.8299\n",
      "Epoch 40/100\n",
      "124/124 [==============================] - 7s 60ms/step - loss: 0.7149 - accuracy: 0.8394\n",
      "Epoch 41/100\n",
      "124/124 [==============================] - 8s 67ms/step - loss: 0.6821 - accuracy: 0.8435\n",
      "Epoch 42/100\n",
      "124/124 [==============================] - 8s 65ms/step - loss: 0.6471 - accuracy: 0.8493\n",
      "Epoch 43/100\n",
      "124/124 [==============================] - 8s 65ms/step - loss: 0.6177 - accuracy: 0.8578\n",
      "Epoch 44/100\n",
      "124/124 [==============================] - 8s 67ms/step - loss: 0.5896 - accuracy: 0.8640\n",
      "Epoch 45/100\n",
      "124/124 [==============================] - 9s 71ms/step - loss: 0.5612 - accuracy: 0.8711\n",
      "Epoch 46/100\n",
      "124/124 [==============================] - 8s 68ms/step - loss: 0.5372 - accuracy: 0.8743\n",
      "Epoch 47/100\n",
      "124/124 [==============================] - 8s 67ms/step - loss: 0.5117 - accuracy: 0.8792\n",
      "Epoch 48/100\n",
      "124/124 [==============================] - 8s 65ms/step - loss: 0.4890 - accuracy: 0.8830\n",
      "Epoch 49/100\n",
      "124/124 [==============================] - 8s 66ms/step - loss: 0.4707 - accuracy: 0.8863\n",
      "Epoch 50/100\n",
      "124/124 [==============================] - 9s 69ms/step - loss: 0.4464 - accuracy: 0.8962\n",
      "Epoch 51/100\n",
      "124/124 [==============================] - 8s 67ms/step - loss: 0.4309 - accuracy: 0.8959\n",
      "Epoch 52/100\n",
      "124/124 [==============================] - 8s 66ms/step - loss: 0.4110 - accuracy: 0.8994\n",
      "Epoch 53/100\n",
      "124/124 [==============================] - 8s 65ms/step - loss: 0.3949 - accuracy: 0.9022\n",
      "Epoch 54/100\n",
      "124/124 [==============================] - 8s 65ms/step - loss: 0.3794 - accuracy: 0.9058\n",
      "Epoch 55/100\n",
      "124/124 [==============================] - 8s 67ms/step - loss: 0.3646 - accuracy: 0.9092\n",
      "Epoch 56/100\n",
      "124/124 [==============================] - 9s 70ms/step - loss: 0.3538 - accuracy: 0.9106\n",
      "Epoch 57/100\n",
      "124/124 [==============================] - 9s 70ms/step - loss: 0.3355 - accuracy: 0.9167\n",
      "Epoch 58/100\n",
      "124/124 [==============================] - 8s 67ms/step - loss: 0.3238 - accuracy: 0.9193\n",
      "Epoch 59/100\n",
      "124/124 [==============================] - 8s 66ms/step - loss: 0.3089 - accuracy: 0.9212\n",
      "Epoch 60/100\n",
      "124/124 [==============================] - 8s 67ms/step - loss: 0.2991 - accuracy: 0.9225\n",
      "Epoch 61/100\n",
      "124/124 [==============================] - 9s 69ms/step - loss: 0.2860 - accuracy: 0.9257\n",
      "Epoch 62/100\n",
      "124/124 [==============================] - 9s 69ms/step - loss: 0.2785 - accuracy: 0.9264\n",
      "Epoch 63/100\n",
      "124/124 [==============================] - 8s 67ms/step - loss: 0.2664 - accuracy: 0.9309\n",
      "Epoch 64/100\n",
      "124/124 [==============================] - 9s 70ms/step - loss: 0.2613 - accuracy: 0.9315\n",
      "Epoch 65/100\n",
      "124/124 [==============================] - 9s 72ms/step - loss: 0.2510 - accuracy: 0.9324\n",
      "Epoch 66/100\n",
      "124/124 [==============================] - 9s 75ms/step - loss: 0.2429 - accuracy: 0.9359\n",
      "Epoch 67/100\n",
      "124/124 [==============================] - 8s 67ms/step - loss: 0.2314 - accuracy: 0.9342\n",
      "Epoch 68/100\n",
      "124/124 [==============================] - 9s 76ms/step - loss: 0.2270 - accuracy: 0.9378\n",
      "Epoch 69/100\n",
      "124/124 [==============================] - 9s 73ms/step - loss: 0.2195 - accuracy: 0.9382\n",
      "Epoch 70/100\n",
      "124/124 [==============================] - 10s 77ms/step - loss: 0.2107 - accuracy: 0.9420\n",
      "Epoch 71/100\n",
      "124/124 [==============================] - 10s 77ms/step - loss: 0.2068 - accuracy: 0.9412\n",
      "Epoch 72/100\n",
      "124/124 [==============================] - 9s 74ms/step - loss: 0.2004 - accuracy: 0.9428\n",
      "Epoch 73/100\n",
      "124/124 [==============================] - 9s 73ms/step - loss: 0.1917 - accuracy: 0.9452\n",
      "Epoch 74/100\n",
      "124/124 [==============================] - 9s 73ms/step - loss: 0.1894 - accuracy: 0.9439\n",
      "Epoch 75/100\n",
      "124/124 [==============================] - 9s 76ms/step - loss: 0.1799 - accuracy: 0.9477\n",
      "Epoch 76/100\n",
      "124/124 [==============================] - 9s 76ms/step - loss: 0.1770 - accuracy: 0.9473\n",
      "Epoch 77/100\n",
      "124/124 [==============================] - 9s 74ms/step - loss: 0.1741 - accuracy: 0.9483\n",
      "Epoch 78/100\n",
      "124/124 [==============================] - 9s 71ms/step - loss: 0.1676 - accuracy: 0.9494\n",
      "Epoch 79/100\n",
      "124/124 [==============================] - 9s 70ms/step - loss: 0.1667 - accuracy: 0.9475\n",
      "Epoch 80/100\n",
      "124/124 [==============================] - 9s 69ms/step - loss: 0.1586 - accuracy: 0.9518\n",
      "Epoch 81/100\n",
      "124/124 [==============================] - 9s 71ms/step - loss: 0.1550 - accuracy: 0.9527\n",
      "Epoch 82/100\n",
      "124/124 [==============================] - 9s 70ms/step - loss: 0.1500 - accuracy: 0.9540\n",
      "Epoch 83/100\n",
      "124/124 [==============================] - 9s 69ms/step - loss: 0.1468 - accuracy: 0.9530\n",
      "Epoch 84/100\n",
      "124/124 [==============================] - 9s 69ms/step - loss: 0.1440 - accuracy: 0.9581\n",
      "Epoch 85/100\n",
      "124/124 [==============================] - 9s 72ms/step - loss: 0.1420 - accuracy: 0.9549\n",
      "Epoch 86/100\n",
      "124/124 [==============================] - 10s 82ms/step - loss: 0.1379 - accuracy: 0.9576\n",
      "Обучение остановлено на 85 эпохе\n",
      "CPU times: total: 51min 54s\n",
      "Wall time: 12min 2s\n"
     ]
    }
   ],
   "source": [
    "%%time\n",
    "history = model.fit(X, Y, batch_size=64, epochs=100, callbacks=estop)\n",
    "if estop.stopped_epoch >= 1:\n",
    "    print(f'Обучение остановлено на {estop.stopped_epoch} эпохе')"
   ]
  },
  {
   "cell_type": "code",
   "execution_count": 15,
   "metadata": {},
   "outputs": [
    {
     "name": "stdout",
     "output_type": "stream",
     "text": [
      "Точность модели model: 95.76 %\n"
     ]
    }
   ],
   "source": [
    "print(f'Точность модели model: {100*history.history[\"accuracy\"][-1]:.2f} %')"
   ]
  },
  {
   "cell_type": "code",
   "execution_count": 16,
   "metadata": {},
   "outputs": [
    {
     "data": {
      "text/plain": [
       "[<matplotlib.lines.Line2D at 0x265301d4b20>]"
      ]
     },
     "execution_count": 16,
     "metadata": {},
     "output_type": "execute_result"
    },
    {
     "data": {
      "image/png": "[encoded data removed]",
      "text/plain": [
       "<Figure size 640x480 with 1 Axes>"
      ]
     },
     "metadata": {},
     "output_type": "display_data"
    }
   ],
   "source": [
    "plt.plot(history.history['accuracy'])"
   ]
  },
  {
   "cell_type": "code",
   "execution_count": 17,
   "metadata": {},
   "outputs": [],
   "source": [
    "def buildPhrase(texts, str_len = 30):\n",
    "  res = texts\n",
    "  data = tokenizer.texts_to_sequences([texts])[0]\n",
    "\n",
    "  for i in range(str_len):\n",
    "    x = keras.utils.to_categorical(data[i: i+inp_words], num_classes=maxWordsCount) # преобразуем в One-Hot-encoding\n",
    "    inp = x.reshape(1, inp_words, maxWordsCount)\n",
    "\n",
    "    pred = model.predict( inp, verbose=0 ) # предсказываем OHE четвертого символа\n",
    "    indx = pred.argmax(axis=1)[0]\n",
    "    data.append(indx)\n",
    " \n",
    "    res += \" \" + tokenizer.index_word[indx] # дописываем строку\n",
    " \n",
    "  return res"
   ]
  },
  {
   "cell_type": "markdown",
   "metadata": {},
   "source": [
    "Подставим в нашу модель фразу \"последнее время несколько\""
   ]
  },
  {
   "cell_type": "code",
   "execution_count": 18,
   "metadata": {},
   "outputs": [
    {
     "name": "stdout",
     "output_type": "stream",
     "text": [
      "Ожидаем увидеть: \"последнее время несколько неспокоен. А сколько специи ешь? – Разве мои развлечения так дорого стоят? Вы возражаете против них, барон?..\"\n",
      "Получаем результат: последнее время несколько неспокоен а сколько специи ешь  разве мои развлечения так дорого стоят вы возражаете против них барон  мой дорогой питер удовольствия то нас и связывают неужели я стану против них возражать\n"
     ]
    }
   ],
   "source": [
    "res = buildPhrase(\"последнее время несколько\")\n",
    "print('Ожидаем увидеть: \"последнее время несколько неспокоен. А сколько специи ешь? – Разве мои развлечения так дорого стоят? Вы возражаете против них, барон?..\"')\n",
    "print(f'Получаем результат: {res}')"
   ]
  },
  {
   "cell_type": "markdown",
   "metadata": {},
   "source": [
    "Вывод: отличный результат. Модель предсказала текст слово в слово."
   ]
  },
  {
   "cell_type": "markdown",
   "metadata": {},
   "source": [
    "### 2 вариант\n",
    "Попробуем немного модернизировать сеть, применив слой Embedding"
   ]
  },
  {
   "cell_type": "markdown",
   "metadata": {},
   "source": [
    "Embedding - такой специальный входной слой, который помогает экономить память, т.к. входной тензор прошлой модели занимает в памяти много места. <br>\n",
    "Суть работы слоя embedding заключается в том, что мы используем только связи нейрона, на который подается 1 из вектора, остальные умножаются на 0. <br>\n",
    "Слой имеет вид: <br>\n",
    "**keras.layers.Embedding(input_dim, output_dim, …, input_length)** , где \n",
    "\n",
    "* input_dim – число слов в словаре (это наш maxWordsCount)\n",
    "* output_dim – число выходов\n",
    "* input_length – размер входного вектора (inp_words)"
   ]
  },
  {
   "cell_type": "code",
   "execution_count": 27,
   "metadata": {},
   "outputs": [],
   "source": [
    "res_data = np.array(data[0])\n",
    "inp_words = 3\n",
    "n = res_data.shape[0]-inp_words\n",
    "x_text = np.array([res_data[i:i+inp_words] for i in range(n)])\n",
    "next_text = keras.utils.to_categorical(res_data[inp_words:] , num_classes=maxWordsCount)"
   ]
  },
  {
   "cell_type": "code",
   "execution_count": 28,
   "metadata": {},
   "outputs": [
    {
     "name": "stdout",
     "output_type": "stream",
     "text": [
      "Model: \"sequential_2\"\n",
      "_________________________________________________________________\n",
      " Layer (type)                Output Shape              Param #   \n",
      "=================================================================\n",
      " embedding_1 (Embedding)     (None, 3, 256)            2048000   \n",
      "                                                                 \n",
      " simple_rnn_2 (SimpleRNN)    (None, 128)               49280     \n",
      "                                                                 \n",
      " dense_2 (Dense)             (None, 8000)              1032000   \n",
      "                                                                 \n",
      "=================================================================\n",
      "Total params: 3,129,280\n",
      "Trainable params: 3,129,280\n",
      "Non-trainable params: 0\n",
      "_________________________________________________________________\n"
     ]
    }
   ],
   "source": [
    "model_2 = Sequential([\n",
    "    Embedding(maxWordsCount, 256, input_length=inp_words),\n",
    "    SimpleRNN(128, activation='tanh'),\n",
    "    Dense(maxWordsCount, activation='softmax')\n",
    "])\n",
    "\n",
    "model_2.summary()"
   ]
  },
  {
   "cell_type": "code",
   "execution_count": 29,
   "metadata": {},
   "outputs": [],
   "source": [
    "model_2.compile(loss='categorical_crossentropy',\n",
    "              metrics=['accuracy'],\n",
    "              optimizer='adam')"
   ]
  },
  {
   "cell_type": "code",
   "execution_count": 30,
   "metadata": {},
   "outputs": [
    {
     "name": "stdout",
     "output_type": "stream",
     "text": [
      "Epoch 1/100\n",
      "124/124 [==============================] - 11s 70ms/step - loss: 8.2246 - accuracy: 0.0335\n",
      "Epoch 2/100\n",
      "124/124 [==============================] - 9s 69ms/step - loss: 7.1532 - accuracy: 0.0388\n",
      "Epoch 3/100\n",
      "124/124 [==============================] - 10s 77ms/step - loss: 6.7868 - accuracy: 0.0485\n",
      "Epoch 4/100\n",
      "124/124 [==============================] - 10s 83ms/step - loss: 6.3595 - accuracy: 0.0586\n",
      "Epoch 5/100\n",
      "124/124 [==============================] - 9s 69ms/step - loss: 5.9106 - accuracy: 0.0729\n",
      "Epoch 6/100\n",
      "124/124 [==============================] - 9s 69ms/step - loss: 5.4592 - accuracy: 0.0963\n",
      "Epoch 7/100\n",
      "124/124 [==============================] - 9s 70ms/step - loss: 4.9940 - accuracy: 0.1359\n",
      "Epoch 8/100\n",
      "124/124 [==============================] - 9s 70ms/step - loss: 4.5227 - accuracy: 0.1998\n",
      "Epoch 9/100\n",
      "124/124 [==============================] - 9s 70ms/step - loss: 4.0478 - accuracy: 0.2836\n",
      "Epoch 10/100\n",
      "124/124 [==============================] - 8s 68ms/step - loss: 3.5841 - accuracy: 0.3875\n",
      "Epoch 11/100\n",
      "124/124 [==============================] - 9s 74ms/step - loss: 3.1413 - accuracy: 0.4828\n",
      "Epoch 12/100\n",
      "124/124 [==============================] - 8s 63ms/step - loss: 2.7244 - accuracy: 0.5848\n",
      "Epoch 13/100\n",
      "124/124 [==============================] - 9s 70ms/step - loss: 2.3316 - accuracy: 0.6671\n",
      "Epoch 14/100\n",
      "124/124 [==============================] - 8s 68ms/step - loss: 1.9797 - accuracy: 0.7333\n",
      "Epoch 15/100\n",
      "124/124 [==============================] - 8s 65ms/step - loss: 1.6625 - accuracy: 0.7830\n",
      "Epoch 16/100\n",
      "124/124 [==============================] - 8s 66ms/step - loss: 1.3935 - accuracy: 0.8292\n",
      "Epoch 17/100\n",
      "124/124 [==============================] - 8s 62ms/step - loss: 1.1640 - accuracy: 0.8569\n",
      "Epoch 18/100\n",
      "124/124 [==============================] - 8s 67ms/step - loss: 0.9744 - accuracy: 0.8808\n",
      "Epoch 19/100\n",
      "124/124 [==============================] - 9s 69ms/step - loss: 0.8174 - accuracy: 0.9039\n",
      "Epoch 20/100\n",
      "124/124 [==============================] - 8s 64ms/step - loss: 0.6904 - accuracy: 0.9155\n",
      "Epoch 21/100\n",
      "124/124 [==============================] - 8s 62ms/step - loss: 0.5900 - accuracy: 0.9336\n",
      "Epoch 22/100\n",
      "124/124 [==============================] - 8s 66ms/step - loss: 0.5053 - accuracy: 0.9399\n",
      "Epoch 23/100\n",
      "124/124 [==============================] - 9s 71ms/step - loss: 0.4333 - accuracy: 0.9497\n",
      "Epoch 24/100\n",
      "124/124 [==============================] - 8s 66ms/step - loss: 0.3758 - accuracy: 0.9557\n",
      "Epoch 25/100\n",
      "124/124 [==============================] - 8s 66ms/step - loss: 0.3274 - accuracy: 0.9605\n",
      "Epoch 26/100\n",
      "124/124 [==============================] - 9s 70ms/step - loss: 0.2879 - accuracy: 0.9646\n",
      "Epoch 27/100\n",
      "124/124 [==============================] - 8s 65ms/step - loss: 0.2548 - accuracy: 0.9681\n",
      "Epoch 28/100\n",
      "124/124 [==============================] - 8s 61ms/step - loss: 0.2270 - accuracy: 0.9701\n",
      "Epoch 29/100\n",
      "124/124 [==============================] - 8s 62ms/step - loss: 0.2026 - accuracy: 0.9731\n",
      "Epoch 30/100\n",
      "124/124 [==============================] - 8s 61ms/step - loss: 0.1832 - accuracy: 0.9744\n",
      "Epoch 31/100\n",
      "124/124 [==============================] - 8s 61ms/step - loss: 0.1657 - accuracy: 0.9747\n",
      "Epoch 32/100\n",
      "124/124 [==============================] - 8s 62ms/step - loss: 0.1512 - accuracy: 0.9750\n",
      "Epoch 33/100\n",
      "124/124 [==============================] - 8s 61ms/step - loss: 0.1391 - accuracy: 0.9753\n",
      "Epoch 34/100\n",
      "124/124 [==============================] - 8s 62ms/step - loss: 0.1286 - accuracy: 0.9755\n",
      "Epoch 35/100\n",
      "124/124 [==============================] - 8s 63ms/step - loss: 0.1195 - accuracy: 0.9758\n",
      "Epoch 36/100\n",
      "124/124 [==============================] - 8s 62ms/step - loss: 0.1110 - accuracy: 0.9767\n",
      "Epoch 37/100\n",
      "124/124 [==============================] - 8s 61ms/step - loss: 0.1053 - accuracy: 0.9765\n",
      "Epoch 38/100\n",
      "124/124 [==============================] - 8s 61ms/step - loss: 0.0981 - accuracy: 0.9762\n",
      "Обучение остановлено на 37 эпохе\n",
      "CPU times: total: 20min 58s\n",
      "Wall time: 5min 15s\n"
     ]
    }
   ],
   "source": [
    "%%time\n",
    "history_2 = model_2.fit(x_text, next_text, batch_size=64, epochs=100, callbacks=estop)\n",
    "if estop.stopped_epoch >= 1:\n",
    "    print(f'Обучение остановлено на {estop.stopped_epoch} эпохе')"
   ]
  },
  {
   "cell_type": "code",
   "execution_count": 31,
   "metadata": {},
   "outputs": [
    {
     "name": "stdout",
     "output_type": "stream",
     "text": [
      "Точность модели model_2: 97.62 %\n"
     ]
    }
   ],
   "source": [
    "print(f'Точность модели model_2: {100*history_2.history[\"accuracy\"][-1]:.2f} %')"
   ]
  },
  {
   "cell_type": "code",
   "execution_count": 32,
   "metadata": {},
   "outputs": [
    {
     "data": {
      "text/plain": [
       "[<matplotlib.lines.Line2D at 0x26533824070>]"
      ]
     },
     "execution_count": 32,
     "metadata": {},
     "output_type": "execute_result"
    },
    {
     "data": {
      "image/png": "[encoded data removed]",
      "text/plain": [
       "<Figure size 640x480 with 1 Axes>"
      ]
     },
     "metadata": {},
     "output_type": "display_data"
    }
   ],
   "source": [
    "plt.plot(history.history['accuracy'])\n",
    "plt.plot(history_2.history['accuracy'])\n"
   ]
  },
  {
   "cell_type": "code",
   "execution_count": 33,
   "metadata": {},
   "outputs": [],
   "source": [
    "def buildPhrase_2(texts, str_len = 30):\n",
    "  res = texts\n",
    "  data = tokenizer.texts_to_sequences([texts])[0]\n",
    "\n",
    "  for i in range(str_len):\n",
    "    x = data[i: i+inp_words]\n",
    "    inp = np.expand_dims(x, axis=0)\n",
    "\n",
    "    pred = model_2.predict( inp, verbose=0 ) # предсказываем OHE четвертого символа\n",
    "    indx = pred.argmax(axis=1)[0]\n",
    "    data.append(indx)\n",
    " \n",
    "    res += \" \" + tokenizer.index_word[indx] # дописываем строку\n",
    " \n",
    "  return res"
   ]
  },
  {
   "cell_type": "code",
   "execution_count": 34,
   "metadata": {},
   "outputs": [
    {
     "name": "stdout",
     "output_type": "stream",
     "text": [
      "Ожидаем увидеть: \"последнее время несколько неспокоен. А сколько специи ешь? – Разве мои развлечения так дорого стоят? Вы возражаете против них, барон?..\"\n",
      "Получаем результат: последнее время несколько неспокоен а сколько специи ешь  разве мои развлечения так дорого стоят вы возражаете против них барон  мой дорогой питер удовольствия то нас и связывают неужели я стану против них возражать\n"
     ]
    }
   ],
   "source": [
    "res_2 = buildPhrase_2(\"последнее время несколько\")\n",
    "print('Ожидаем увидеть: \"последнее время несколько неспокоен. А сколько специи ешь? – Разве мои развлечения так дорого стоят? Вы возражаете против них, барон?..\"')\n",
    "print(f'Получаем результат: {res_2}')"
   ]
  },
  {
   "cell_type": "markdown",
   "metadata": {},
   "source": [
    "Вывод: Вторая модель тоже предсказала текст в полном соответствии с оригиналом. Но ее обучение заняло меньше времени (5 минут против 12 у первой). Она достигла точности в 97,62% за 37 эпох, в то время как первая модель дошла только до 95,76% за больше количество (85) эпох."
   ]
  },
  {
   "cell_type": "markdown",
   "metadata": {},
   "source": [
    "### "
   ]
  }
 ],
 "metadata": {
  "kernelspec": {
   "display_name": "Python 3",
   "language": "python",
   "name": "python3"
  },
  "language_info": {
   "codemirror_mode": {
    "name": "ipython",
    "version": 3
   },
   "file_extension": ".py",
   "mimetype": "text/x-python",
   "name": "python",
   "nbconvert_exporter": "python",
   "pygments_lexer": "ipython3",
   "version": "3.10.9"
  }
 },
 "nbformat": 4,
 "nbformat_minor": 2
}
