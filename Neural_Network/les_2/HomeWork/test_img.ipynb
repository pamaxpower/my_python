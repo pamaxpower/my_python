{
 "cells": [
  {
   "cell_type": "code",
   "execution_count": 1,
   "metadata": {},
   "outputs": [],
   "source": [
    "import keras\n",
    "from keras.layers import *\n",
    "import matplotlib.pyplot as plt\n",
    "import numpy as np\n",
    "from keras.utils import to_categorical\n",
    "import pandas as pd\n",
    "import mnist\n",
    "from PIL import Image"
   ]
  },
  {
   "cell_type": "code",
   "execution_count": 2,
   "metadata": {},
   "outputs": [],
   "source": [
    "x_train = mnist.train_images()\n",
    "y_train = mnist.train_labels()"
   ]
  },
  {
   "cell_type": "code",
   "execution_count": 3,
   "metadata": {},
   "outputs": [],
   "source": [
    "input_shape = (28, 28, 1)\n",
    "x_train = x_train / 255\n",
    "y_train_cat = to_categorical(y_train, 10)"
   ]
  },
  {
   "cell_type": "markdown",
   "metadata": {},
   "source": [
    "Для решения задачи применим лучшую модель из hw_2. <br>\n",
    "Заменим количество нейронов внутреннего слоя с 50 на 70"
   ]
  },
  {
   "cell_type": "code",
   "execution_count": 4,
   "metadata": {},
   "outputs": [],
   "source": [
    "best_model = keras.Sequential([\n",
    "      keras.Input(shape=input_shape),\n",
    "      Flatten(),\n",
    "      Dense(70, activation = 'relu'),\n",
    "      Dense(10, activation = 'softmax')\n",
    "      ] )"
   ]
  },
  {
   "cell_type": "code",
   "execution_count": 5,
   "metadata": {},
   "outputs": [],
   "source": [
    "best_model.compile(optimizer='Adam',\n",
    "             loss='categorical_crossentropy',\n",
    "             metrics=['accuracy'])"
   ]
  },
  {
   "cell_type": "code",
   "execution_count": 6,
   "metadata": {},
   "outputs": [
    {
     "name": "stdout",
     "output_type": "stream",
     "text": [
      "Epoch 1/10\n",
      "1875/1875 [==============================] - 6s 3ms/step - loss: 0.3017 - accuracy: 0.9146\n",
      "Epoch 2/10\n",
      "1875/1875 [==============================] - 5s 3ms/step - loss: 0.1415 - accuracy: 0.9587\n",
      "Epoch 3/10\n",
      "1875/1875 [==============================] - 5s 2ms/step - loss: 0.1012 - accuracy: 0.9700\n",
      "Epoch 4/10\n",
      "1875/1875 [==============================] - 5s 3ms/step - loss: 0.0781 - accuracy: 0.9769\n",
      "Epoch 5/10\n",
      "1875/1875 [==============================] - 6s 3ms/step - loss: 0.0637 - accuracy: 0.9809\n",
      "Epoch 6/10\n",
      "1875/1875 [==============================] - 7s 4ms/step - loss: 0.0528 - accuracy: 0.9839\n",
      "Epoch 7/10\n",
      "1875/1875 [==============================] - 6s 3ms/step - loss: 0.0443 - accuracy: 0.9869\n",
      "Epoch 8/10\n",
      "1875/1875 [==============================] - 6s 3ms/step - loss: 0.0376 - accuracy: 0.9881\n",
      "Epoch 9/10\n",
      "1875/1875 [==============================] - 5s 3ms/step - loss: 0.0324 - accuracy: 0.9903\n",
      "Epoch 10/10\n",
      "1875/1875 [==============================] - 5s 3ms/step - loss: 0.0285 - accuracy: 0.9913\n"
     ]
    }
   ],
   "source": [
    "history = best_model.fit(x_train, y_train_cat, batch_size=32, epochs=10)"
   ]
  },
  {
   "cell_type": "markdown",
   "metadata": {},
   "source": [
    "Получили модель с точностью 99,13%"
   ]
  },
  {
   "cell_type": "markdown",
   "metadata": {},
   "source": [
    "С помощью дополнительных модулей загрузим свои картинки из папки img в двумерный массив np\n",
    "<br>\n",
    "https://fixmypc.ru/post/izmenenie-razmera-kartinki-v-python-s-pillow-pil/#izmenenie-razmera-izobrazheniia-s-resize"
   ]
  },
  {
   "cell_type": "code",
   "execution_count": 7,
   "metadata": {},
   "outputs": [],
   "source": [
    "img_array = np.array([])\n",
    "for i in range(1, 6):\n",
    "    # Загружаем картинку, переводим изображение в двумерную матрицу и меняем ее размер\n",
    "    img = np.asarray(Image.open(f'img\\img_{i}.png').convert('L').resize((28, 28)), )\n",
    "    # нормализуем изображение\n",
    "    img = img / 255\n",
    "    # Добавляем картинку в массив\n",
    "    img_array = np.append(img_array, img) \n",
    "else:\n",
    "    # Задаем размер матрицы (для 5 изображений будет 5, 28, 28)\n",
    "    img_array = img_array.reshape(i, 28, 28)\n",
    "    # Делаем прозрачный фон (белый цвет->прозрачный)\n",
    "    img_array[img_array > 0.9 ] = 0\n",
    "    "
   ]
  },
  {
   "cell_type": "code",
   "execution_count": 8,
   "metadata": {},
   "outputs": [
    {
     "data": {
      "image/png": "[encoded data removed]",
      "text/plain": [
       "<Figure size 640x480 with 5 Axes>"
      ]
     },
     "metadata": {},
     "output_type": "display_data"
    }
   ],
   "source": [
    "# Выведем собственные рукописные цыфры\n",
    "for i in range(5):\n",
    "    plt.subplot(1, 5, i+1)\n",
    "    plt.imshow(img_array[i])\n",
    "    # Убираем подписи к осям рисунков\n",
    "    plt.axis('off')\n",
    "plt.show()"
   ]
  },
  {
   "cell_type": "code",
   "execution_count": 9,
   "metadata": {},
   "outputs": [
    {
     "name": "stdout",
     "output_type": "stream",
     "text": [
      "1/1 [==============================] - 0s 126ms/step\n",
      "Predictions: [3 1 4 6 5]\n"
     ]
    }
   ],
   "source": [
    "# Предсказываем 5-ть рукописных цыфр\n",
    "predictions = best_model.predict(img_array)\n",
    "\n",
    "# Выведем результат предсказания\n",
    "print(f'Predictions: {np.argmax(predictions, axis=1)}')"
   ]
  },
  {
   "cell_type": "markdown",
   "metadata": {},
   "source": [
    "Вывод: Модель успешно предсказала 5 цифр"
   ]
  }
 ],
 "metadata": {
  "kernelspec": {
   "display_name": "Python 3",
   "language": "python",
   "name": "python3"
  },
  "language_info": {
   "codemirror_mode": {
    "name": "ipython",
    "version": 3
   },
   "file_extension": ".py",
   "mimetype": "text/x-python",
   "name": "python",
   "nbconvert_exporter": "python",
   "pygments_lexer": "ipython3",
   "version": "3.10.9"
  }
 },
 "nbformat": 4,
 "nbformat_minor": 2
}
