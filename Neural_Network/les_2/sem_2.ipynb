{
 "cells": [
  {
   "cell_type": "markdown",
   "metadata": {},
   "source": [
    "\n",
    "\n",
    "1. Обучить, нейронную сеть на Keras на датасете MNIST."
   ]
  },
  {
   "cell_type": "code",
   "execution_count": null,
   "metadata": {},
   "outputs": [],
   "source": [
    "# !pip install scikeras[tensorflow] # уже установлен"
   ]
  },
  {
   "cell_type": "code",
   "execution_count": null,
   "metadata": {},
   "outputs": [],
   "source": [
    "# !pip install mnist"
   ]
  },
  {
   "cell_type": "code",
   "execution_count": null,
   "metadata": {},
   "outputs": [],
   "source": [
    "import numpy as np\n",
    "import pandas as pd\n",
    "import mnist\n",
    "# import keras\n",
    "import matplotlib.pyplot as plt\n",
    "%matplotlib inline\n",
    "from keras.datasets import fashion_mnist\n",
    "from keras.models import Sequential\n",
    "from keras.layers import Dense, Flatten\n",
    "from keras.utils import to_categorical\n",
    "#from scikeras.wrappers import KerasClassifier\n",
    "from sklearn.model_selection import GridSearchCV"
   ]
  },
  {
   "cell_type": "code",
   "execution_count": null,
   "metadata": {},
   "outputs": [],
   "source": [
    "from scikeras.wrappers import KerasClassifier"
   ]
  },
  {
   "cell_type": "markdown",
   "metadata": {},
   "source": [
    "### Building model for digit recognition"
   ]
  },
  {
   "cell_type": "code",
   "execution_count": null,
   "metadata": {},
   "outputs": [],
   "source": [
    "#import images\n",
    "train_images = mnist.train_images()\n",
    "train_labels = mnist.train_labels()\n",
    "test_images = mnist.test_images()"
   ]
  },
  {
   "cell_type": "code",
   "execution_count": null,
   "metadata": {},
   "outputs": [
    {
     "data": {
      "text/plain": [
       "array([[  0,   0,   0,   0,   0,   0,   0,   0,   0,   0,   0,   0,   0,\n",
       "          0,   0,   0,   0,   0,   0,   0,   0,   0,   0,   0,   0,   0,\n",
       "          0,   0],\n",
       "       [  0,   0,   0,   0,   0,   0,   0,   0,   0,   0,   0,   0,   0,\n",
       "          0,   0,   0,   0,   0,   0,   0,   0,   0,   0,   0,   0,   0,\n",
       "          0,   0],\n",
       "       [  0,   0,   0,   0,   0,   0,   0,   0,   0,   0,   0,   0,   0,\n",
       "          0,   0,   0,   0,   0,   0,   0,   0,   0,   0,   0,   0,   0,\n",
       "          0,   0],\n",
       "       [  0,   0,   0,   0,   0,   0,   0,   0,   0,   0,   0,   0,   0,\n",
       "          0,   0,   0,   0,   0,   0,   0,   0,   0,   0,   0,   0,   0,\n",
       "          0,   0],\n",
       "       [  0,   0,   0,   0,   0,   0,   0,   0,   0,   0,   0,   0,   0,\n",
       "          0,   0,   0,   0,   0,   0,   0,   0,   0,   0,   0,   0,   0,\n",
       "          0,   0],\n",
       "       [  0,   0,   0,   0,   0,   0,   0,   0,   0,   0,   0,   0,   3,\n",
       "         18,  18,  18, 126, 136, 175,  26, 166, 255, 247, 127,   0,   0,\n",
       "          0,   0],\n",
       "       [  0,   0,   0,   0,   0,   0,   0,   0,  30,  36,  94, 154, 170,\n",
       "        253, 253, 253, 253, 253, 225, 172, 253, 242, 195,  64,   0,   0,\n",
       "          0,   0],\n",
       "       [  0,   0,   0,   0,   0,   0,   0,  49, 238, 253, 253, 253, 253,\n",
       "        253, 253, 253, 253, 251,  93,  82,  82,  56,  39,   0,   0,   0,\n",
       "          0,   0],\n",
       "       [  0,   0,   0,   0,   0,   0,   0,  18, 219, 253, 253, 253, 253,\n",
       "        253, 198, 182, 247, 241,   0,   0,   0,   0,   0,   0,   0,   0,\n",
       "          0,   0],\n",
       "       [  0,   0,   0,   0,   0,   0,   0,   0,  80, 156, 107, 253, 253,\n",
       "        205,  11,   0,  43, 154,   0,   0,   0,   0,   0,   0,   0,   0,\n",
       "          0,   0],\n",
       "       [  0,   0,   0,   0,   0,   0,   0,   0,   0,  14,   1, 154, 253,\n",
       "         90,   0,   0,   0,   0,   0,   0,   0,   0,   0,   0,   0,   0,\n",
       "          0,   0],\n",
       "       [  0,   0,   0,   0,   0,   0,   0,   0,   0,   0,   0, 139, 253,\n",
       "        190,   2,   0,   0,   0,   0,   0,   0,   0,   0,   0,   0,   0,\n",
       "          0,   0],\n",
       "       [  0,   0,   0,   0,   0,   0,   0,   0,   0,   0,   0,  11, 190,\n",
       "        253,  70,   0,   0,   0,   0,   0,   0,   0,   0,   0,   0,   0,\n",
       "          0,   0],\n",
       "       [  0,   0,   0,   0,   0,   0,   0,   0,   0,   0,   0,   0,  35,\n",
       "        241, 225, 160, 108,   1,   0,   0,   0,   0,   0,   0,   0,   0,\n",
       "          0,   0],\n",
       "       [  0,   0,   0,   0,   0,   0,   0,   0,   0,   0,   0,   0,   0,\n",
       "         81, 240, 253, 253, 119,  25,   0,   0,   0,   0,   0,   0,   0,\n",
       "          0,   0],\n",
       "       [  0,   0,   0,   0,   0,   0,   0,   0,   0,   0,   0,   0,   0,\n",
       "          0,  45, 186, 253, 253, 150,  27,   0,   0,   0,   0,   0,   0,\n",
       "          0,   0],\n",
       "       [  0,   0,   0,   0,   0,   0,   0,   0,   0,   0,   0,   0,   0,\n",
       "          0,   0,  16,  93, 252, 253, 187,   0,   0,   0,   0,   0,   0,\n",
       "          0,   0],\n",
       "       [  0,   0,   0,   0,   0,   0,   0,   0,   0,   0,   0,   0,   0,\n",
       "          0,   0,   0,   0, 249, 253, 249,  64,   0,   0,   0,   0,   0,\n",
       "          0,   0],\n",
       "       [  0,   0,   0,   0,   0,   0,   0,   0,   0,   0,   0,   0,   0,\n",
       "          0,  46, 130, 183, 253, 253, 207,   2,   0,   0,   0,   0,   0,\n",
       "          0,   0],\n",
       "       [  0,   0,   0,   0,   0,   0,   0,   0,   0,   0,   0,   0,  39,\n",
       "        148, 229, 253, 253, 253, 250, 182,   0,   0,   0,   0,   0,   0,\n",
       "          0,   0],\n",
       "       [  0,   0,   0,   0,   0,   0,   0,   0,   0,   0,  24, 114, 221,\n",
       "        253, 253, 253, 253, 201,  78,   0,   0,   0,   0,   0,   0,   0,\n",
       "          0,   0],\n",
       "       [  0,   0,   0,   0,   0,   0,   0,   0,  23,  66, 213, 253, 253,\n",
       "        253, 253, 198,  81,   2,   0,   0,   0,   0,   0,   0,   0,   0,\n",
       "          0,   0],\n",
       "       [  0,   0,   0,   0,   0,   0,  18, 171, 219, 253, 253, 253, 253,\n",
       "        195,  80,   9,   0,   0,   0,   0,   0,   0,   0,   0,   0,   0,\n",
       "          0,   0],\n",
       "       [  0,   0,   0,   0,  55, 172, 226, 253, 253, 253, 253, 244, 133,\n",
       "         11,   0,   0,   0,   0,   0,   0,   0,   0,   0,   0,   0,   0,\n",
       "          0,   0],\n",
       "       [  0,   0,   0,   0, 136, 253, 253, 253, 212, 135, 132,  16,   0,\n",
       "          0,   0,   0,   0,   0,   0,   0,   0,   0,   0,   0,   0,   0,\n",
       "          0,   0],\n",
       "       [  0,   0,   0,   0,   0,   0,   0,   0,   0,   0,   0,   0,   0,\n",
       "          0,   0,   0,   0,   0,   0,   0,   0,   0,   0,   0,   0,   0,\n",
       "          0,   0],\n",
       "       [  0,   0,   0,   0,   0,   0,   0,   0,   0,   0,   0,   0,   0,\n",
       "          0,   0,   0,   0,   0,   0,   0,   0,   0,   0,   0,   0,   0,\n",
       "          0,   0],\n",
       "       [  0,   0,   0,   0,   0,   0,   0,   0,   0,   0,   0,   0,   0,\n",
       "          0,   0,   0,   0,   0,   0,   0,   0,   0,   0,   0,   0,   0,\n",
       "          0,   0]], dtype=uint8)"
      ]
     },
     "metadata": {},
     "output_type": "display_data"
    }
   ],
   "source": [
    "train_images[0]"
   ]
  },
  {
   "cell_type": "code",
   "execution_count": null,
   "metadata": {},
   "outputs": [
    {
     "data": {
      "text/plain": [
       "(-0.5, 27.5, 27.5, -0.5)"
      ]
     },
     "metadata": {},
     "output_type": "display_data"
    },
    {
     "data": {
      "image/png": "[encoded data removed]",
      "text/plain": [
       "<Figure size 640x480 with 1 Axes>"
      ]
     },
     "metadata": {},
     "output_type": "display_data"
    }
   ],
   "source": [
    "# Выведем на экран изображение\n",
    "plt.imshow(train_images[0], cmap='binary')\n",
    "plt.axis('off')"
   ]
  },
  {
   "cell_type": "code",
   "execution_count": null,
   "metadata": {},
   "outputs": [],
   "source": [
    "test_labels = mnist.test_labels()\n",
    "\n",
    "# Нормализуем пиксели изображения\n",
    "# все значения делим на 255, приводим к единому масштабу\n",
    "train_images = (train_images / 255)\n",
    "test_images = (test_images / 255)\n",
    "\n",
    "# Предобработка в одномерный массив\n",
    "train_images = train_images.reshape((-1, 784))\n",
    "test_images = test_images.reshape((-1, 784))"
   ]
  },
  {
   "cell_type": "code",
   "execution_count": null,
   "metadata": {},
   "outputs": [
    {
     "name": "stdout",
     "output_type": "stream",
     "text": [
      "60000 60000 10000 10000\n"
     ]
    }
   ],
   "source": [
    "print(len(train_images), len(train_labels), len(test_images), len(test_labels))"
   ]
  },
  {
   "cell_type": "code",
   "execution_count": null,
   "metadata": {},
   "outputs": [],
   "source": [
    "# Строим модель\n",
    "def create_model(optimizer='adam'):\n",
    "    model = Sequential([\n",
    "        Dense(64, input_shape=(784,), activation='relu'),\n",
    "        Dense(32, activation='relu'),\n",
    "        Dense(10, activation='softmax')\n",
    "    ])\n",
    "\n",
    "    model.compile(\n",
    "        optimizer=optimizer,\n",
    "        loss='categorical_crossentropy',\n",
    "        metrics=['accuracy'],\n",
    "    )\n",
    "    return model"
   ]
  },
  {
   "cell_type": "code",
   "execution_count": null,
   "metadata": {},
   "outputs": [
    {
     "data": {
      "text/plain": [
       "array([[0., 0., 0., ..., 0., 0., 0.],\n",
       "       [1., 0., 0., ..., 0., 0., 0.],\n",
       "       [0., 0., 0., ..., 0., 0., 0.],\n",
       "       ...,\n",
       "       [0., 0., 0., ..., 0., 0., 0.],\n",
       "       [0., 0., 0., ..., 0., 0., 0.],\n",
       "       [0., 0., 0., ..., 0., 1., 0.]], dtype=float32)"
      ]
     },
     "metadata": {},
     "output_type": "display_data"
    }
   ],
   "source": [
    "to_categorical(train_labels)"
   ]
  },
  {
   "cell_type": "code",
   "execution_count": null,
   "metadata": {},
   "outputs": [],
   "source": [
    "# import matplotlib.pyplot as plt\n",
    "# plt.imshow(mnist.train_images()[0]/255)\n",
    "# mnist.train_images()[0]/255\n",
    "# to_categorical(train_labels)\n",
    "# #train_labels"
   ]
  },
  {
   "cell_type": "markdown",
   "metadata": {},
   "source": [
    "Создаем модель и смотрим ее параметры <br>\n",
    "param - количество параметров ,которые задает каждый слой"
   ]
  },
  {
   "cell_type": "code",
   "execution_count": null,
   "metadata": {},
   "outputs": [
    {
     "name": "stdout",
     "output_type": "stream",
     "text": [
      "Model: \"sequential\"\n",
      "_________________________________________________________________\n",
      " Layer (type)                Output Shape              Param #   \n",
      "=================================================================\n",
      " dense (Dense)               (None, 64)                50240     \n",
      "                                                                 \n",
      " dense_1 (Dense)             (None, 32)                2080      \n",
      "                                                                 \n",
      " dense_2 (Dense)             (None, 10)                330       \n",
      "                                                                 \n",
      "=================================================================\n",
      "Total params: 52,650\n",
      "Trainable params: 52,650\n",
      "Non-trainable params: 0\n",
      "_________________________________________________________________\n"
     ]
    }
   ],
   "source": [
    "model_1 = create_model()\n",
    "model_1.summary()"
   ]
  },
  {
   "cell_type": "code",
   "execution_count": null,
   "metadata": {},
   "outputs": [
    {
     "name": "stdout",
     "output_type": "stream",
     "text": [
      "Epoch 1/5\n",
      "1875/1875 [==============================] - 6s 3ms/step - loss: 0.2795 - accuracy: 0.9191\n",
      "Epoch 2/5\n",
      "   1/1875 [..............................] - ETA: 5s - loss: 0.0855 - accuracy: 0.9688"
     ]
    },
    {
     "name": "stdout",
     "output_type": "stream",
     "text": [
      "1875/1875 [==============================] - 4s 2ms/step - loss: 0.1303 - accuracy: 0.9607\n",
      "Epoch 3/5\n",
      "1875/1875 [==============================] - 4s 2ms/step - loss: 0.0935 - accuracy: 0.9710\n",
      "Epoch 4/5\n",
      "1875/1875 [==============================] - 5s 3ms/step - loss: 0.0734 - accuracy: 0.9765\n",
      "Epoch 5/5\n",
      "1875/1875 [==============================] - 5s 2ms/step - loss: 0.0616 - accuracy: 0.9808\n",
      "313/313 [==============================] - 1s 2ms/step - loss: 0.0903 - accuracy: 0.9714\n",
      "**************************\n",
      "Loss - 0.09, Metrics - 0.971\n"
     ]
    }
   ],
   "source": [
    "# обучение модели\n",
    "model_1.fit(train_images, to_categorical(train_labels), epochs=5, batch_size=32)\n",
    "\n",
    "# оценка производительности\n",
    "loss, metric = model_1.evaluate(test_images, to_categorical(test_labels))\n",
    "print('**************************')\n",
    "print(f'Loss - {np.round(loss, 2)}, Metrics - {np.round(metric, 3)}')"
   ]
  },
  {
   "cell_type": "markdown",
   "metadata": {},
   "source": [
    "Точность модели 97%"
   ]
  },
  {
   "cell_type": "code",
   "execution_count": null,
   "metadata": {},
   "outputs": [
    {
     "name": "stdout",
     "output_type": "stream",
     "text": [
      "1/1 [==============================] - 0s 145ms/step\n"
     ]
    }
   ],
   "source": [
    "# используем модель на тестовых данных\n",
    "predictions = model_1.predict(test_images[:10])"
   ]
  },
  {
   "cell_type": "code",
   "execution_count": null,
   "metadata": {},
   "outputs": [
    {
     "name": "stdout",
     "output_type": "stream",
     "text": [
      "Predictions: [7 2 1 0 4 1 4 9 6 9]\n"
     ]
    }
   ],
   "source": [
    "# выведем предсказанные значения\n",
    "print(f'Predictions: {np.argmax(predictions, axis=1)}')"
   ]
  },
  {
   "cell_type": "code",
   "execution_count": null,
   "metadata": {},
   "outputs": [
    {
     "name": "stdout",
     "output_type": "stream",
     "text": [
      "True labels: [7 2 1 0 4 1 4 9 5 9]\n"
     ]
    }
   ],
   "source": [
    "# правильные ответы\n",
    "print(f'True labels: {test_labels[:10]}')"
   ]
  },
  {
   "cell_type": "markdown",
   "metadata": {},
   "source": [
    "GridSearchCV"
   ]
  },
  {
   "cell_type": "code",
   "execution_count": null,
   "metadata": {},
   "outputs": [],
   "source": [
    "batch_size = [500,1000]\n",
    "epochs = [5, 10]\n",
    "optimizer = ['SGD', 'RMSprop', 'Adam']"
   ]
  },
  {
   "cell_type": "code",
   "execution_count": null,
   "metadata": {},
   "outputs": [
    {
     "name": "stdout",
     "output_type": "stream",
     "text": [
      "Epoch 1/5\n"
     ]
    },
    {
     "name": "stdout",
     "output_type": "stream",
     "text": [
      "80/80 [==============================] - 1s 5ms/step - loss: 0.9829 - accuracy: 0.7376\n",
      "Epoch 2/5\n",
      "80/80 [==============================] - 0s 5ms/step - loss: 0.3062 - accuracy: 0.9142\n",
      "Epoch 3/5\n",
      "80/80 [==============================] - 1s 7ms/step - loss: 0.2318 - accuracy: 0.9345\n",
      "Epoch 4/5\n",
      "80/80 [==============================] - 0s 5ms/step - loss: 0.1928 - accuracy: 0.9454\n",
      "Epoch 5/5\n",
      "80/80 [==============================] - 0s 5ms/step - loss: 0.1658 - accuracy: 0.9527\n",
      "40/40 [==============================] - 0s 3ms/step\n",
      "Epoch 1/5\n",
      "80/80 [==============================] - 1s 5ms/step - loss: 0.8892 - accuracy: 0.7469\n",
      "Epoch 2/5\n",
      "80/80 [==============================] - 0s 5ms/step - loss: 0.2915 - accuracy: 0.9178\n",
      "Epoch 3/5\n",
      "80/80 [==============================] - 0s 5ms/step - loss: 0.2255 - accuracy: 0.9355\n",
      "Epoch 4/5\n",
      "80/80 [==============================] - 0s 5ms/step - loss: 0.1930 - accuracy: 0.9457\n",
      "Epoch 5/5\n",
      "80/80 [==============================] - 0s 5ms/step - loss: 0.1674 - accuracy: 0.9532\n",
      "40/40 [==============================] - 0s 3ms/step\n",
      "Epoch 1/5\n",
      "80/80 [==============================] - 1s 5ms/step - loss: 0.9751 - accuracy: 0.7335\n",
      "Epoch 2/5\n",
      "80/80 [==============================] - 0s 5ms/step - loss: 0.3050 - accuracy: 0.9144\n",
      "Epoch 3/5\n",
      "80/80 [==============================] - 0s 5ms/step - loss: 0.2356 - accuracy: 0.9331\n",
      "Epoch 4/5\n",
      "80/80 [==============================] - 0s 5ms/step - loss: 0.2014 - accuracy: 0.9427\n",
      "Epoch 5/5\n",
      "80/80 [==============================] - 0s 6ms/step - loss: 0.1787 - accuracy: 0.9490\n",
      "40/40 [==============================] - 0s 3ms/step\n",
      "Epoch 1/5\n",
      "80/80 [==============================] - 1s 5ms/step - loss: 0.9186 - accuracy: 0.7646\n",
      "Epoch 2/5\n",
      "80/80 [==============================] - 0s 5ms/step - loss: 0.3071 - accuracy: 0.9133\n",
      "Epoch 3/5\n",
      "80/80 [==============================] - 0s 6ms/step - loss: 0.2432 - accuracy: 0.9308\n",
      "Epoch 4/5\n",
      "80/80 [==============================] - 0s 6ms/step - loss: 0.2044 - accuracy: 0.9420\n",
      "Epoch 5/5\n",
      "80/80 [==============================] - 0s 6ms/step - loss: 0.1785 - accuracy: 0.9492\n",
      "40/40 [==============================] - 0s 3ms/step\n",
      "Epoch 1/5\n",
      "80/80 [==============================] - 1s 6ms/step - loss: 0.8942 - accuracy: 0.7492\n",
      "Epoch 2/5\n",
      "80/80 [==============================] - 0s 6ms/step - loss: 0.3167 - accuracy: 0.9120\n",
      "Epoch 3/5\n",
      "80/80 [==============================] - 0s 6ms/step - loss: 0.2470 - accuracy: 0.9307\n",
      "Epoch 4/5\n",
      "80/80 [==============================] - 0s 6ms/step - loss: 0.2089 - accuracy: 0.9410\n",
      "Epoch 5/5\n",
      "80/80 [==============================] - 0s 5ms/step - loss: 0.1823 - accuracy: 0.9485\n",
      "40/40 [==============================] - 0s 3ms/step\n",
      "Epoch 1/5\n",
      "80/80 [==============================] - 1s 5ms/step - loss: 0.9953 - accuracy: 0.7219\n",
      "Epoch 2/5\n",
      "80/80 [==============================] - 0s 6ms/step - loss: 0.3195 - accuracy: 0.9124\n",
      "Epoch 3/5\n",
      "80/80 [==============================] - 0s 6ms/step - loss: 0.2373 - accuracy: 0.9323\n",
      "Epoch 4/5\n",
      "80/80 [==============================] - 0s 6ms/step - loss: 0.1943 - accuracy: 0.9450\n",
      "Epoch 5/5\n",
      "80/80 [==============================] - 0s 6ms/step - loss: 0.1664 - accuracy: 0.9530\n",
      "40/40 [==============================] - 0s 3ms/step\n",
      "Epoch 1/5\n",
      "80/80 [==============================] - 1s 6ms/step - loss: 0.8414 - accuracy: 0.7769\n",
      "Epoch 2/5\n",
      "80/80 [==============================] - 0s 6ms/step - loss: 0.3031 - accuracy: 0.9137\n",
      "Epoch 3/5\n",
      "80/80 [==============================] - 0s 6ms/step - loss: 0.2423 - accuracy: 0.9297\n",
      "Epoch 4/5\n",
      "80/80 [==============================] - 0s 6ms/step - loss: 0.2059 - accuracy: 0.9405\n",
      "Epoch 5/5\n",
      "80/80 [==============================] - 0s 5ms/step - loss: 0.1781 - accuracy: 0.9492\n",
      "40/40 [==============================] - 0s 3ms/step\n",
      "Epoch 1/5\n",
      "80/80 [==============================] - 1s 6ms/step - loss: 0.9367 - accuracy: 0.7447\n",
      "Epoch 2/5\n",
      "80/80 [==============================] - 1s 7ms/step - loss: 0.3122 - accuracy: 0.9120\n",
      "Epoch 3/5\n",
      "80/80 [==============================] - 1s 6ms/step - loss: 0.2437 - accuracy: 0.9314\n",
      "Epoch 4/5\n",
      "80/80 [==============================] - 1s 8ms/step - loss: 0.2078 - accuracy: 0.9416\n",
      "Epoch 5/5\n",
      "80/80 [==============================] - 1s 6ms/step - loss: 0.1824 - accuracy: 0.9485\n",
      "40/40 [==============================] - 0s 3ms/step\n",
      "Epoch 1/5\n",
      "80/80 [==============================] - 2s 7ms/step - loss: 1.0244 - accuracy: 0.7229\n",
      "Epoch 2/5\n",
      "80/80 [==============================] - 0s 6ms/step - loss: 0.3186 - accuracy: 0.9113\n",
      "Epoch 3/5\n",
      "80/80 [==============================] - 0s 6ms/step - loss: 0.2435 - accuracy: 0.9307\n",
      "Epoch 4/5\n",
      "80/80 [==============================] - 0s 6ms/step - loss: 0.2028 - accuracy: 0.9415\n",
      "Epoch 5/5\n",
      "80/80 [==============================] - 1s 7ms/step - loss: 0.1769 - accuracy: 0.9483\n",
      "40/40 [==============================] - 0s 4ms/step\n",
      "Epoch 1/10\n",
      "80/80 [==============================] - 2s 7ms/step - loss: 0.8970 - accuracy: 0.7610\n",
      "Epoch 2/10\n",
      "80/80 [==============================] - 1s 7ms/step - loss: 0.3079 - accuracy: 0.9129\n",
      "Epoch 3/10\n",
      "80/80 [==============================] - 0s 6ms/step - loss: 0.2371 - accuracy: 0.9330\n",
      "Epoch 4/10\n",
      "80/80 [==============================] - 0s 5ms/step - loss: 0.2014 - accuracy: 0.9431\n",
      "Epoch 5/10\n",
      "80/80 [==============================] - 0s 5ms/step - loss: 0.1756 - accuracy: 0.9492\n",
      "Epoch 6/10\n",
      "80/80 [==============================] - 0s 5ms/step - loss: 0.1552 - accuracy: 0.9554\n",
      "Epoch 7/10\n",
      "80/80 [==============================] - 0s 5ms/step - loss: 0.1388 - accuracy: 0.9601\n",
      "Epoch 8/10\n",
      "80/80 [==============================] - 0s 5ms/step - loss: 0.1263 - accuracy: 0.9635\n",
      "Epoch 9/10\n",
      "80/80 [==============================] - 0s 5ms/step - loss: 0.1157 - accuracy: 0.9670\n",
      "Epoch 10/10\n",
      "80/80 [==============================] - 0s 5ms/step - loss: 0.1055 - accuracy: 0.9699\n",
      "40/40 [==============================] - 0s 3ms/step\n",
      "Epoch 1/10\n",
      "80/80 [==============================] - 1s 5ms/step - loss: 0.8957 - accuracy: 0.7612\n",
      "Epoch 2/10\n",
      "80/80 [==============================] - 0s 6ms/step - loss: 0.3014 - accuracy: 0.9139\n",
      "Epoch 3/10\n",
      "80/80 [==============================] - 0s 5ms/step - loss: 0.2348 - accuracy: 0.9329\n",
      "Epoch 4/10\n",
      "80/80 [==============================] - 0s 6ms/step - loss: 0.1980 - accuracy: 0.9430\n",
      "Epoch 5/10\n",
      "80/80 [==============================] - 0s 5ms/step - loss: 0.1742 - accuracy: 0.9511\n",
      "Epoch 6/10\n",
      "80/80 [==============================] - 0s 5ms/step - loss: 0.1549 - accuracy: 0.9563\n",
      "Epoch 7/10\n",
      "80/80 [==============================] - 0s 5ms/step - loss: 0.1379 - accuracy: 0.9614\n",
      "Epoch 8/10\n",
      "80/80 [==============================] - 0s 5ms/step - loss: 0.1246 - accuracy: 0.9644\n",
      "Epoch 9/10\n",
      "80/80 [==============================] - 0s 5ms/step - loss: 0.1136 - accuracy: 0.9672\n",
      "Epoch 10/10\n",
      "80/80 [==============================] - 0s 6ms/step - loss: 0.1043 - accuracy: 0.9694\n",
      "40/40 [==============================] - 0s 3ms/step\n",
      "Epoch 1/10\n",
      "80/80 [==============================] - 1s 5ms/step - loss: 0.9484 - accuracy: 0.7252\n",
      "Epoch 2/10\n",
      "80/80 [==============================] - 0s 6ms/step - loss: 0.3131 - accuracy: 0.9125\n",
      "Epoch 3/10\n",
      "80/80 [==============================] - 0s 6ms/step - loss: 0.2456 - accuracy: 0.9298\n",
      "Epoch 4/10\n",
      "80/80 [==============================] - 0s 6ms/step - loss: 0.2041 - accuracy: 0.9417\n",
      "Epoch 5/10\n",
      "80/80 [==============================] - 0s 5ms/step - loss: 0.1751 - accuracy: 0.9500\n",
      "Epoch 6/10\n",
      "80/80 [==============================] - 0s 6ms/step - loss: 0.1536 - accuracy: 0.9558\n",
      "Epoch 7/10\n",
      "80/80 [==============================] - 1s 7ms/step - loss: 0.1364 - accuracy: 0.9604\n",
      "Epoch 8/10\n",
      "80/80 [==============================] - 1s 6ms/step - loss: 0.1220 - accuracy: 0.9644\n",
      "Epoch 9/10\n",
      "80/80 [==============================] - 1s 7ms/step - loss: 0.1131 - accuracy: 0.9675\n",
      "Epoch 10/10\n",
      "80/80 [==============================] - 0s 6ms/step - loss: 0.1007 - accuracy: 0.9708\n",
      "40/40 [==============================] - 0s 3ms/step\n",
      "Epoch 1/10\n",
      "80/80 [==============================] - 1s 5ms/step - loss: 0.9061 - accuracy: 0.7453\n",
      "Epoch 2/10\n",
      "80/80 [==============================] - 0s 5ms/step - loss: 0.2972 - accuracy: 0.9160\n",
      "Epoch 3/10\n",
      "80/80 [==============================] - 0s 5ms/step - loss: 0.2293 - accuracy: 0.9349\n",
      "Epoch 4/10\n",
      "80/80 [==============================] - 0s 5ms/step - loss: 0.1918 - accuracy: 0.9459\n",
      "Epoch 5/10\n",
      "80/80 [==============================] - 1s 6ms/step - loss: 0.1699 - accuracy: 0.9516\n",
      "Epoch 6/10\n",
      "80/80 [==============================] - 0s 5ms/step - loss: 0.1504 - accuracy: 0.9567\n",
      "Epoch 7/10\n",
      "80/80 [==============================] - 0s 6ms/step - loss: 0.1347 - accuracy: 0.9612\n",
      "Epoch 8/10\n",
      "80/80 [==============================] - 0s 5ms/step - loss: 0.1231 - accuracy: 0.9640\n",
      "Epoch 9/10\n",
      "80/80 [==============================] - 0s 5ms/step - loss: 0.1123 - accuracy: 0.9681\n",
      "Epoch 10/10\n",
      "80/80 [==============================] - 0s 5ms/step - loss: 0.1035 - accuracy: 0.9702\n",
      "40/40 [==============================] - 0s 3ms/step\n",
      "Epoch 1/10\n",
      "80/80 [==============================] - 1s 5ms/step - loss: 0.9221 - accuracy: 0.7441\n",
      "Epoch 2/10\n",
      "80/80 [==============================] - 0s 5ms/step - loss: 0.3112 - accuracy: 0.9133\n",
      "Epoch 3/10\n",
      "80/80 [==============================] - 0s 5ms/step - loss: 0.2436 - accuracy: 0.9320\n",
      "Epoch 4/10\n",
      "80/80 [==============================] - 0s 5ms/step - loss: 0.2051 - accuracy: 0.9421\n",
      "Epoch 5/10\n",
      "80/80 [==============================] - 0s 5ms/step - loss: 0.1784 - accuracy: 0.9500\n",
      "Epoch 6/10\n",
      "80/80 [==============================] - 0s 5ms/step - loss: 0.1572 - accuracy: 0.9560\n",
      "Epoch 7/10\n",
      "80/80 [==============================] - 0s 6ms/step - loss: 0.1412 - accuracy: 0.9602\n",
      "Epoch 8/10\n",
      "80/80 [==============================] - 0s 5ms/step - loss: 0.1268 - accuracy: 0.9640\n",
      "Epoch 9/10\n",
      "80/80 [==============================] - 0s 5ms/step - loss: 0.1156 - accuracy: 0.9667\n",
      "Epoch 10/10\n",
      "80/80 [==============================] - 0s 5ms/step - loss: 0.1044 - accuracy: 0.9696\n",
      "40/40 [==============================] - 0s 3ms/step\n",
      "Epoch 1/10\n",
      "80/80 [==============================] - 1s 5ms/step - loss: 0.8170 - accuracy: 0.7834\n",
      "Epoch 2/10\n",
      "80/80 [==============================] - 0s 5ms/step - loss: 0.3057 - accuracy: 0.9125\n",
      "Epoch 3/10\n",
      "80/80 [==============================] - 0s 5ms/step - loss: 0.2427 - accuracy: 0.9306\n",
      "Epoch 4/10\n",
      "80/80 [==============================] - 0s 5ms/step - loss: 0.2054 - accuracy: 0.9414\n",
      "Epoch 5/10\n",
      "80/80 [==============================] - 0s 5ms/step - loss: 0.1754 - accuracy: 0.9503\n",
      "Epoch 6/10\n",
      "80/80 [==============================] - 0s 5ms/step - loss: 0.1566 - accuracy: 0.9556\n",
      "Epoch 7/10\n",
      "80/80 [==============================] - 0s 5ms/step - loss: 0.1406 - accuracy: 0.9595\n",
      "Epoch 8/10\n",
      "80/80 [==============================] - 0s 6ms/step - loss: 0.1262 - accuracy: 0.9640\n",
      "Epoch 9/10\n",
      "80/80 [==============================] - 0s 5ms/step - loss: 0.1137 - accuracy: 0.9681\n",
      "Epoch 10/10\n",
      "80/80 [==============================] - 0s 5ms/step - loss: 0.1034 - accuracy: 0.9708\n",
      "40/40 [==============================] - 0s 3ms/step\n",
      "Epoch 1/10\n",
      "80/80 [==============================] - 1s 5ms/step - loss: 0.9475 - accuracy: 0.7375\n",
      "Epoch 2/10\n",
      "80/80 [==============================] - 0s 5ms/step - loss: 0.3230 - accuracy: 0.9093\n",
      "Epoch 3/10\n",
      "80/80 [==============================] - 0s 5ms/step - loss: 0.2447 - accuracy: 0.9298\n",
      "Epoch 4/10\n",
      "80/80 [==============================] - 0s 5ms/step - loss: 0.2032 - accuracy: 0.9427\n",
      "Epoch 5/10\n",
      "80/80 [==============================] - 0s 5ms/step - loss: 0.1758 - accuracy: 0.9497\n",
      "Epoch 6/10\n",
      "80/80 [==============================] - 0s 5ms/step - loss: 0.1548 - accuracy: 0.9557\n",
      "Epoch 7/10\n",
      "80/80 [==============================] - 1s 7ms/step - loss: 0.1402 - accuracy: 0.9600\n",
      "Epoch 8/10\n",
      "80/80 [==============================] - 0s 5ms/step - loss: 0.1255 - accuracy: 0.9642\n",
      "Epoch 9/10\n",
      "80/80 [==============================] - 0s 5ms/step - loss: 0.1142 - accuracy: 0.9683\n",
      "Epoch 10/10\n",
      "80/80 [==============================] - 0s 5ms/step - loss: 0.1063 - accuracy: 0.9703\n",
      "40/40 [==============================] - 0s 3ms/step\n",
      "Epoch 1/10\n",
      "80/80 [==============================] - 2s 11ms/step - loss: 0.9727 - accuracy: 0.7353\n",
      "Epoch 2/10\n",
      "80/80 [==============================] - 1s 13ms/step - loss: 0.3203 - accuracy: 0.9099\n",
      "Epoch 3/10\n",
      "80/80 [==============================] - 1s 11ms/step - loss: 0.2544 - accuracy: 0.9275\n",
      "Epoch 4/10\n",
      "80/80 [==============================] - 1s 9ms/step - loss: 0.2149 - accuracy: 0.9404\n",
      "Epoch 5/10\n",
      "80/80 [==============================] - 1s 9ms/step - loss: 0.1864 - accuracy: 0.9472\n",
      "Epoch 6/10\n",
      "80/80 [==============================] - 1s 8ms/step - loss: 0.1664 - accuracy: 0.9533\n",
      "Epoch 7/10\n",
      "80/80 [==============================] - 1s 7ms/step - loss: 0.1502 - accuracy: 0.9575\n",
      "Epoch 8/10\n",
      "80/80 [==============================] - 0s 5ms/step - loss: 0.1371 - accuracy: 0.9614\n",
      "Epoch 9/10\n",
      "80/80 [==============================] - 0s 6ms/step - loss: 0.1267 - accuracy: 0.9639\n",
      "Epoch 10/10\n",
      "80/80 [==============================] - 1s 7ms/step - loss: 0.1161 - accuracy: 0.9664\n",
      "40/40 [==============================] - 0s 3ms/step\n",
      "Epoch 1/10\n",
      "80/80 [==============================] - 1s 5ms/step - loss: 0.9074 - accuracy: 0.7402\n",
      "Epoch 2/10\n",
      "80/80 [==============================] - 0s 5ms/step - loss: 0.3113 - accuracy: 0.9122\n",
      "Epoch 3/10\n",
      "80/80 [==============================] - 0s 6ms/step - loss: 0.2416 - accuracy: 0.9313\n",
      "Epoch 4/10\n",
      "80/80 [==============================] - 0s 5ms/step - loss: 0.2034 - accuracy: 0.9416\n",
      "Epoch 5/10\n",
      "80/80 [==============================] - 0s 5ms/step - loss: 0.1752 - accuracy: 0.9503\n",
      "Epoch 6/10\n",
      "80/80 [==============================] - 0s 5ms/step - loss: 0.1564 - accuracy: 0.9546\n",
      "Epoch 7/10\n",
      "80/80 [==============================] - 0s 6ms/step - loss: 0.1369 - accuracy: 0.9614\n",
      "Epoch 8/10\n",
      "80/80 [==============================] - 0s 5ms/step - loss: 0.1242 - accuracy: 0.9653\n",
      "Epoch 9/10\n",
      "80/80 [==============================] - 0s 6ms/step - loss: 0.1128 - accuracy: 0.9680\n",
      "Epoch 10/10\n",
      "80/80 [==============================] - 1s 7ms/step - loss: 0.1030 - accuracy: 0.9709\n",
      "40/40 [==============================] - 0s 3ms/step\n",
      "Epoch 1/5\n",
      "40/40 [==============================] - 3s 10ms/step - loss: 1.3080 - accuracy: 0.6219\n",
      "Epoch 2/5\n",
      "40/40 [==============================] - 0s 9ms/step - loss: 0.4429 - accuracy: 0.8793\n",
      "Epoch 3/5\n",
      "40/40 [==============================] - 0s 8ms/step - loss: 0.3141 - accuracy: 0.9130\n",
      "Epoch 4/5\n",
      "40/40 [==============================] - 0s 8ms/step - loss: 0.2641 - accuracy: 0.9269\n",
      "Epoch 5/5\n",
      "40/40 [==============================] - 0s 9ms/step - loss: 0.2316 - accuracy: 0.9350\n",
      "20/20 [==============================] - 0s 5ms/step\n",
      "Epoch 1/5\n",
      "40/40 [==============================] - 1s 9ms/step - loss: 1.4206 - accuracy: 0.5842\n",
      "Epoch 2/5\n",
      "40/40 [==============================] - 0s 10ms/step - loss: 0.4439 - accuracy: 0.8813\n",
      "Epoch 3/5\n",
      "40/40 [==============================] - 0s 8ms/step - loss: 0.3112 - accuracy: 0.9135\n",
      "Epoch 4/5\n",
      "40/40 [==============================] - 0s 9ms/step - loss: 0.2629 - accuracy: 0.9263\n",
      "Epoch 5/5\n",
      "40/40 [==============================] - 0s 9ms/step - loss: 0.2309 - accuracy: 0.9347\n",
      "20/20 [==============================] - 0s 5ms/step\n",
      "Epoch 1/5\n",
      "40/40 [==============================] - 1s 9ms/step - loss: 1.3997 - accuracy: 0.5868\n",
      "Epoch 2/5\n",
      "40/40 [==============================] - 0s 8ms/step - loss: 0.4550 - accuracy: 0.8765\n",
      "Epoch 3/5\n",
      "40/40 [==============================] - 0s 8ms/step - loss: 0.3198 - accuracy: 0.9097\n",
      "Epoch 4/5\n",
      "40/40 [==============================] - 0s 9ms/step - loss: 0.2673 - accuracy: 0.9240\n",
      "Epoch 5/5\n",
      "40/40 [==============================] - 0s 8ms/step - loss: 0.2346 - accuracy: 0.9332\n",
      "20/20 [==============================] - 0s 5ms/step\n",
      "Epoch 1/5\n",
      "40/40 [==============================] - 1s 9ms/step - loss: 1.2342 - accuracy: 0.6484\n",
      "Epoch 2/5\n",
      "40/40 [==============================] - 0s 8ms/step - loss: 0.4400 - accuracy: 0.8760\n",
      "Epoch 3/5\n",
      "40/40 [==============================] - 0s 10ms/step - loss: 0.3128 - accuracy: 0.9114\n",
      "Epoch 4/5\n",
      "40/40 [==============================] - 0s 9ms/step - loss: 0.2630 - accuracy: 0.9254\n",
      "Epoch 5/5\n",
      "40/40 [==============================] - 0s 9ms/step - loss: 0.2322 - accuracy: 0.9343\n",
      "20/20 [==============================] - 0s 5ms/step\n",
      "Epoch 1/5\n",
      "40/40 [==============================] - 1s 9ms/step - loss: 1.2708 - accuracy: 0.6486\n",
      "Epoch 2/5\n",
      "40/40 [==============================] - 0s 9ms/step - loss: 0.4214 - accuracy: 0.8866\n",
      "Epoch 3/5\n",
      "40/40 [==============================] - 0s 9ms/step - loss: 0.3073 - accuracy: 0.9142\n",
      "Epoch 4/5\n",
      "40/40 [==============================] - 0s 9ms/step - loss: 0.2580 - accuracy: 0.9278\n",
      "Epoch 5/5\n",
      "40/40 [==============================] - 0s 10ms/step - loss: 0.2275 - accuracy: 0.9366\n",
      "20/20 [==============================] - 0s 6ms/step\n",
      "Epoch 1/5\n",
      "40/40 [==============================] - 1s 10ms/step - loss: 1.2222 - accuracy: 0.6595\n",
      "Epoch 2/5\n",
      "40/40 [==============================] - 0s 12ms/step - loss: 0.4234 - accuracy: 0.8833\n",
      "Epoch 3/5\n",
      "40/40 [==============================] - 0s 9ms/step - loss: 0.3110 - accuracy: 0.9129\n",
      "Epoch 4/5\n",
      "40/40 [==============================] - 0s 9ms/step - loss: 0.2628 - accuracy: 0.9253\n",
      "Epoch 5/5\n",
      "40/40 [==============================] - 0s 10ms/step - loss: 0.2332 - accuracy: 0.9341\n",
      "20/20 [==============================] - 0s 5ms/step\n",
      "Epoch 1/5\n",
      "40/40 [==============================] - 1s 10ms/step - loss: 1.4448 - accuracy: 0.5790\n",
      "Epoch 2/5\n",
      "40/40 [==============================] - 0s 12ms/step - loss: 0.4765 - accuracy: 0.8679\n",
      "Epoch 3/5\n",
      "40/40 [==============================] - 0s 9ms/step - loss: 0.3261 - accuracy: 0.9068\n",
      "Epoch 4/5\n",
      "40/40 [==============================] - 0s 9ms/step - loss: 0.2717 - accuracy: 0.9222\n",
      "Epoch 5/5\n",
      "40/40 [==============================] - 0s 9ms/step - loss: 0.2363 - accuracy: 0.9338\n",
      "20/20 [==============================] - 0s 5ms/step\n",
      "Epoch 1/5\n",
      "40/40 [==============================] - 1s 10ms/step - loss: 1.2929 - accuracy: 0.6436\n",
      "Epoch 2/5\n",
      "40/40 [==============================] - 0s 9ms/step - loss: 0.4202 - accuracy: 0.8854\n",
      "Epoch 3/5\n",
      "40/40 [==============================] - 0s 9ms/step - loss: 0.3095 - accuracy: 0.9128\n",
      "Epoch 4/5\n",
      "40/40 [==============================] - 0s 9ms/step - loss: 0.2625 - accuracy: 0.9263\n",
      "Epoch 5/5\n",
      "40/40 [==============================] - 0s 9ms/step - loss: 0.2310 - accuracy: 0.9355\n",
      "20/20 [==============================] - 0s 6ms/step\n",
      "Epoch 1/5\n",
      "40/40 [==============================] - 1s 10ms/step - loss: 1.3119 - accuracy: 0.6379\n",
      "Epoch 2/5\n",
      "40/40 [==============================] - 0s 11ms/step - loss: 0.4292 - accuracy: 0.8822\n",
      "Epoch 3/5\n",
      "40/40 [==============================] - 0s 10ms/step - loss: 0.3162 - accuracy: 0.9105\n",
      "Epoch 4/5\n",
      "40/40 [==============================] - 0s 10ms/step - loss: 0.2684 - accuracy: 0.9243\n",
      "Epoch 5/5\n",
      "40/40 [==============================] - 0s 11ms/step - loss: 0.2389 - accuracy: 0.9317\n",
      "20/20 [==============================] - 0s 6ms/step\n",
      "Epoch 1/10\n",
      "40/40 [==============================] - 1s 10ms/step - loss: 1.4402 - accuracy: 0.6167\n",
      "Epoch 2/10\n",
      "40/40 [==============================] - 0s 9ms/step - loss: 0.4458 - accuracy: 0.8812\n",
      "Epoch 3/10\n",
      "40/40 [==============================] - 0s 9ms/step - loss: 0.3023 - accuracy: 0.9152\n",
      "Epoch 4/10\n",
      "40/40 [==============================] - 0s 9ms/step - loss: 0.2497 - accuracy: 0.9293\n",
      "Epoch 5/10\n",
      "40/40 [==============================] - 0s 9ms/step - loss: 0.2178 - accuracy: 0.9396\n",
      "Epoch 6/10\n",
      "40/40 [==============================] - 0s 9ms/step - loss: 0.1945 - accuracy: 0.9455\n",
      "Epoch 7/10\n",
      "40/40 [==============================] - 0s 9ms/step - loss: 0.1766 - accuracy: 0.9501\n",
      "Epoch 8/10\n",
      "40/40 [==============================] - 0s 9ms/step - loss: 0.1619 - accuracy: 0.9545\n",
      "Epoch 9/10\n",
      "40/40 [==============================] - 0s 11ms/step - loss: 0.1490 - accuracy: 0.9580\n",
      "Epoch 10/10\n",
      "40/40 [==============================] - 0s 12ms/step - loss: 0.1391 - accuracy: 0.9613\n",
      "20/20 [==============================] - 0s 7ms/step\n",
      "Epoch 1/10\n",
      "40/40 [==============================] - 2s 9ms/step - loss: 1.3709 - accuracy: 0.6059\n",
      "Epoch 2/10\n",
      "40/40 [==============================] - 0s 10ms/step - loss: 0.4551 - accuracy: 0.8763\n",
      "Epoch 3/10\n",
      "40/40 [==============================] - 0s 9ms/step - loss: 0.3231 - accuracy: 0.9095\n",
      "Epoch 4/10\n",
      "40/40 [==============================] - 0s 11ms/step - loss: 0.2729 - accuracy: 0.9225\n",
      "Epoch 5/10\n",
      "40/40 [==============================] - 0s 9ms/step - loss: 0.2417 - accuracy: 0.9312\n",
      "Epoch 6/10\n",
      "40/40 [==============================] - 0s 9ms/step - loss: 0.2170 - accuracy: 0.9385\n",
      "Epoch 7/10\n",
      "40/40 [==============================] - 0s 10ms/step - loss: 0.1970 - accuracy: 0.9448\n",
      "Epoch 8/10\n",
      "40/40 [==============================] - 0s 9ms/step - loss: 0.1803 - accuracy: 0.9495\n",
      "Epoch 9/10\n",
      "40/40 [==============================] - 0s 9ms/step - loss: 0.1662 - accuracy: 0.9529\n",
      "Epoch 10/10\n",
      "40/40 [==============================] - 0s 9ms/step - loss: 0.1541 - accuracy: 0.9565\n",
      "20/20 [==============================] - 0s 5ms/step\n",
      "Epoch 1/10\n",
      "40/40 [==============================] - 1s 9ms/step - loss: 1.5104 - accuracy: 0.5660\n",
      "Epoch 2/10\n",
      "40/40 [==============================] - 0s 11ms/step - loss: 0.5058 - accuracy: 0.8691\n",
      "Epoch 3/10\n",
      "40/40 [==============================] - 0s 10ms/step - loss: 0.3357 - accuracy: 0.9079\n",
      "Epoch 4/10\n",
      "40/40 [==============================] - 0s 8ms/step - loss: 0.2803 - accuracy: 0.9218\n",
      "Epoch 5/10\n",
      "40/40 [==============================] - 0s 9ms/step - loss: 0.2471 - accuracy: 0.9304\n",
      "Epoch 6/10\n",
      "40/40 [==============================] - 0s 10ms/step - loss: 0.2213 - accuracy: 0.9373\n",
      "Epoch 7/10\n",
      "40/40 [==============================] - 0s 9ms/step - loss: 0.2024 - accuracy: 0.9427\n",
      "Epoch 8/10\n",
      "40/40 [==============================] - 0s 9ms/step - loss: 0.1872 - accuracy: 0.9467\n",
      "Epoch 9/10\n",
      "40/40 [==============================] - 0s 9ms/step - loss: 0.1716 - accuracy: 0.9520\n",
      "Epoch 10/10\n",
      "40/40 [==============================] - 0s 8ms/step - loss: 0.1595 - accuracy: 0.9543\n",
      "20/20 [==============================] - 0s 5ms/step\n",
      "Epoch 1/10\n",
      "40/40 [==============================] - 1s 10ms/step - loss: 1.3957 - accuracy: 0.6089\n",
      "Epoch 2/10\n",
      "40/40 [==============================] - 0s 9ms/step - loss: 0.4424 - accuracy: 0.8800\n",
      "Epoch 3/10\n",
      "40/40 [==============================] - 0s 9ms/step - loss: 0.3059 - accuracy: 0.9132\n",
      "Epoch 4/10\n",
      "40/40 [==============================] - 0s 9ms/step - loss: 0.2574 - accuracy: 0.9270\n",
      "Epoch 5/10\n",
      "40/40 [==============================] - 0s 10ms/step - loss: 0.2274 - accuracy: 0.9344\n",
      "Epoch 6/10\n",
      "40/40 [==============================] - 0s 9ms/step - loss: 0.2040 - accuracy: 0.9416\n",
      "Epoch 7/10\n",
      "40/40 [==============================] - 0s 9ms/step - loss: 0.1867 - accuracy: 0.9468\n",
      "Epoch 8/10\n",
      "40/40 [==============================] - 0s 9ms/step - loss: 0.1725 - accuracy: 0.9503\n",
      "Epoch 9/10\n",
      "40/40 [==============================] - 0s 9ms/step - loss: 0.1588 - accuracy: 0.9543\n",
      "Epoch 10/10\n",
      "40/40 [==============================] - 0s 9ms/step - loss: 0.1479 - accuracy: 0.9571\n",
      "20/20 [==============================] - 0s 5ms/step\n",
      "Epoch 1/10\n",
      "40/40 [==============================] - 1s 9ms/step - loss: 1.3158 - accuracy: 0.6481\n",
      "Epoch 2/10\n",
      "40/40 [==============================] - 0s 10ms/step - loss: 0.4524 - accuracy: 0.8758\n",
      "Epoch 3/10\n",
      "40/40 [==============================] - 0s 11ms/step - loss: 0.3245 - accuracy: 0.9067\n",
      "Epoch 4/10\n",
      "40/40 [==============================] - 0s 9ms/step - loss: 0.2756 - accuracy: 0.9212\n",
      "Epoch 5/10\n",
      "40/40 [==============================] - 0s 10ms/step - loss: 0.2422 - accuracy: 0.9312\n",
      "Epoch 6/10\n",
      "40/40 [==============================] - 0s 10ms/step - loss: 0.2191 - accuracy: 0.9382\n",
      "Epoch 7/10\n",
      "40/40 [==============================] - 0s 9ms/step - loss: 0.1999 - accuracy: 0.9434\n",
      "Epoch 8/10\n",
      "40/40 [==============================] - 0s 10ms/step - loss: 0.1828 - accuracy: 0.9478\n",
      "Epoch 9/10\n",
      "40/40 [==============================] - 0s 10ms/step - loss: 0.1683 - accuracy: 0.9524\n",
      "Epoch 10/10\n",
      "40/40 [==============================] - 0s 9ms/step - loss: 0.1558 - accuracy: 0.9564\n",
      "20/20 [==============================] - 0s 5ms/step\n",
      "Epoch 1/10\n",
      "40/40 [==============================] - 2s 9ms/step - loss: 1.3999 - accuracy: 0.6191\n",
      "Epoch 2/10\n",
      "40/40 [==============================] - 0s 10ms/step - loss: 0.4527 - accuracy: 0.8780\n",
      "Epoch 3/10\n",
      "40/40 [==============================] - 0s 9ms/step - loss: 0.3162 - accuracy: 0.9101\n",
      "Epoch 4/10\n",
      "40/40 [==============================] - 0s 9ms/step - loss: 0.2655 - accuracy: 0.9257\n",
      "Epoch 5/10\n",
      "40/40 [==============================] - 0s 9ms/step - loss: 0.2321 - accuracy: 0.9344\n",
      "Epoch 6/10\n",
      "40/40 [==============================] - 0s 9ms/step - loss: 0.2079 - accuracy: 0.9405\n",
      "Epoch 7/10\n",
      "40/40 [==============================] - 0s 10ms/step - loss: 0.1868 - accuracy: 0.9473\n",
      "Epoch 8/10\n",
      "40/40 [==============================] - 0s 10ms/step - loss: 0.1712 - accuracy: 0.9518\n",
      "Epoch 9/10\n",
      "40/40 [==============================] - 0s 11ms/step - loss: 0.1568 - accuracy: 0.9551\n",
      "Epoch 10/10\n",
      "40/40 [==============================] - 0s 9ms/step - loss: 0.1435 - accuracy: 0.9593\n",
      "20/20 [==============================] - 0s 6ms/step\n",
      "Epoch 1/10\n",
      "40/40 [==============================] - 2s 12ms/step - loss: 1.4313 - accuracy: 0.5670\n",
      "Epoch 2/10\n",
      "40/40 [==============================] - 1s 16ms/step - loss: 0.4590 - accuracy: 0.8799\n",
      "Epoch 3/10\n",
      "40/40 [==============================] - 0s 12ms/step - loss: 0.3150 - accuracy: 0.9105\n",
      "Epoch 4/10\n",
      "40/40 [==============================] - 0s 10ms/step - loss: 0.2676 - accuracy: 0.9240\n",
      "Epoch 5/10\n",
      "40/40 [==============================] - 0s 9ms/step - loss: 0.2358 - accuracy: 0.9332\n",
      "Epoch 6/10\n",
      "40/40 [==============================] - 0s 12ms/step - loss: 0.2116 - accuracy: 0.9395\n",
      "Epoch 7/10\n",
      "40/40 [==============================] - 0s 10ms/step - loss: 0.1935 - accuracy: 0.9451\n",
      "Epoch 8/10\n",
      "40/40 [==============================] - 0s 12ms/step - loss: 0.1792 - accuracy: 0.9487\n",
      "Epoch 9/10\n",
      "40/40 [==============================] - 0s 9ms/step - loss: 0.1654 - accuracy: 0.9528\n",
      "Epoch 10/10\n",
      "40/40 [==============================] - 0s 9ms/step - loss: 0.1539 - accuracy: 0.9553\n",
      "20/20 [==============================] - 0s 5ms/step\n",
      "Epoch 1/10\n",
      "40/40 [==============================] - 2s 12ms/step - loss: 1.3862 - accuracy: 0.5990\n",
      "Epoch 2/10\n",
      "40/40 [==============================] - 0s 11ms/step - loss: 0.4482 - accuracy: 0.8792\n",
      "Epoch 3/10\n",
      "40/40 [==============================] - 0s 12ms/step - loss: 0.3170 - accuracy: 0.9114\n",
      "Epoch 4/10\n",
      "40/40 [==============================] - 0s 9ms/step - loss: 0.2704 - accuracy: 0.9237\n",
      "Epoch 5/10\n",
      "40/40 [==============================] - 0s 9ms/step - loss: 0.2387 - accuracy: 0.9331\n",
      "Epoch 6/10\n",
      "40/40 [==============================] - 0s 9ms/step - loss: 0.2151 - accuracy: 0.9396\n",
      "Epoch 7/10\n",
      "40/40 [==============================] - 0s 9ms/step - loss: 0.1945 - accuracy: 0.9458\n",
      "Epoch 8/10\n",
      "40/40 [==============================] - 0s 9ms/step - loss: 0.1786 - accuracy: 0.9500\n",
      "Epoch 9/10\n",
      "40/40 [==============================] - 0s 9ms/step - loss: 0.1645 - accuracy: 0.9543\n",
      "Epoch 10/10\n",
      "40/40 [==============================] - 0s 11ms/step - loss: 0.1527 - accuracy: 0.9567\n",
      "20/20 [==============================] - 0s 9ms/step\n",
      "Epoch 1/10\n",
      "40/40 [==============================] - 2s 10ms/step - loss: 1.3143 - accuracy: 0.6485\n",
      "Epoch 2/10\n",
      "40/40 [==============================] - 0s 9ms/step - loss: 0.4296 - accuracy: 0.8832\n",
      "Epoch 3/10\n",
      "40/40 [==============================] - 0s 9ms/step - loss: 0.3073 - accuracy: 0.9142\n",
      "Epoch 4/10\n",
      "40/40 [==============================] - 0s 9ms/step - loss: 0.2611 - accuracy: 0.9251\n",
      "Epoch 5/10\n",
      "40/40 [==============================] - 0s 9ms/step - loss: 0.2291 - accuracy: 0.9355\n",
      "Epoch 6/10\n",
      "40/40 [==============================] - 0s 9ms/step - loss: 0.2061 - accuracy: 0.9413\n",
      "Epoch 7/10\n",
      "40/40 [==============================] - 0s 9ms/step - loss: 0.1887 - accuracy: 0.9464\n",
      "Epoch 8/10\n",
      "40/40 [==============================] - 0s 10ms/step - loss: 0.1734 - accuracy: 0.9504\n",
      "Epoch 9/10\n",
      "40/40 [==============================] - 0s 9ms/step - loss: 0.1599 - accuracy: 0.9541\n",
      "Epoch 10/10\n",
      "40/40 [==============================] - 0s 9ms/step - loss: 0.1486 - accuracy: 0.9572\n",
      "20/20 [==============================] - 0s 6ms/step\n",
      "0.9580500000000001 {'batch_size': 500, 'epochs': 10, 'optimizer': 'RMSprop'}\n"
     ]
    }
   ],
   "source": [
    "model = KerasClassifier(create_model)\n",
    "params = dict(batch_size=batch_size, epochs=epochs, optimizer=optimizer)\n",
    "grid = GridSearchCV(model, params, refit=False, cv=3, scoring='accuracy')\n",
    "\n",
    "grid_result = grid.fit(train_images, to_categorical(train_labels))\n",
    "print(grid_result.best_score_, grid_result.best_params_)"
   ]
  },
  {
   "cell_type": "code",
   "execution_count": null,
   "metadata": {},
   "outputs": [],
   "source": [
    "df = pd.DataFrame(grid_result.cv_results_)"
   ]
  },
  {
   "cell_type": "code",
   "execution_count": null,
   "metadata": {},
   "outputs": [
    {
     "data": {
      "text/html": [
       "<div>\n",
       "<style scoped>\n",
       "    .dataframe tbody tr th:only-of-type {\n",
       "        vertical-align: middle;\n",
       "    }\n",
       "\n",
       "    .dataframe tbody tr th {\n",
       "        vertical-align: top;\n",
       "    }\n",
       "\n",
       "    .dataframe thead th {\n",
       "        text-align: right;\n",
       "    }\n",
       "</style>\n",
       "<table border=\"1\" class=\"dataframe\">\n",
       "  <thead>\n",
       "    <tr style=\"text-align: right;\">\n",
       "      <th></th>\n",
       "      <th>param_batch_size</th>\n",
       "      <th>param_epochs</th>\n",
       "      <th>param_optimizer</th>\n",
       "      <th>mean_test_score</th>\n",
       "    </tr>\n",
       "  </thead>\n",
       "  <tbody>\n",
       "    <tr>\n",
       "      <th>4</th>\n",
       "      <td>500</td>\n",
       "      <td>10</td>\n",
       "      <td>RMSprop</td>\n",
       "      <td>0.958050</td>\n",
       "    </tr>\n",
       "    <tr>\n",
       "      <th>5</th>\n",
       "      <td>500</td>\n",
       "      <td>10</td>\n",
       "      <td>Adam</td>\n",
       "      <td>0.957217</td>\n",
       "    </tr>\n",
       "    <tr>\n",
       "      <th>3</th>\n",
       "      <td>500</td>\n",
       "      <td>10</td>\n",
       "      <td>SGD</td>\n",
       "      <td>0.956800</td>\n",
       "    </tr>\n",
       "    <tr>\n",
       "      <th>10</th>\n",
       "      <td>1000</td>\n",
       "      <td>10</td>\n",
       "      <td>RMSprop</td>\n",
       "      <td>0.949450</td>\n",
       "    </tr>\n",
       "    <tr>\n",
       "      <th>9</th>\n",
       "      <td>1000</td>\n",
       "      <td>10</td>\n",
       "      <td>SGD</td>\n",
       "      <td>0.949050</td>\n",
       "    </tr>\n",
       "    <tr>\n",
       "      <th>11</th>\n",
       "      <td>1000</td>\n",
       "      <td>10</td>\n",
       "      <td>Adam</td>\n",
       "      <td>0.947183</td>\n",
       "    </tr>\n",
       "    <tr>\n",
       "      <th>0</th>\n",
       "      <td>500</td>\n",
       "      <td>5</td>\n",
       "      <td>SGD</td>\n",
       "      <td>0.946083</td>\n",
       "    </tr>\n",
       "    <tr>\n",
       "      <th>1</th>\n",
       "      <td>500</td>\n",
       "      <td>5</td>\n",
       "      <td>RMSprop</td>\n",
       "      <td>0.945050</td>\n",
       "    </tr>\n",
       "    <tr>\n",
       "      <th>2</th>\n",
       "      <td>500</td>\n",
       "      <td>5</td>\n",
       "      <td>Adam</td>\n",
       "      <td>0.943683</td>\n",
       "    </tr>\n",
       "    <tr>\n",
       "      <th>7</th>\n",
       "      <td>1000</td>\n",
       "      <td>5</td>\n",
       "      <td>RMSprop</td>\n",
       "      <td>0.931817</td>\n",
       "    </tr>\n",
       "  </tbody>\n",
       "</table>\n",
       "</div>"
      ],
      "text/plain": [
       "   param_batch_size param_epochs param_optimizer  mean_test_score\n",
       "4               500           10         RMSprop         0.958050\n",
       "5               500           10            Adam         0.957217\n",
       "3               500           10             SGD         0.956800\n",
       "10             1000           10         RMSprop         0.949450\n",
       "9              1000           10             SGD         0.949050\n",
       "11             1000           10            Adam         0.947183\n",
       "0               500            5             SGD         0.946083\n",
       "1               500            5         RMSprop         0.945050\n",
       "2               500            5            Adam         0.943683\n",
       "7              1000            5         RMSprop         0.931817"
      ]
     },
     "metadata": {},
     "output_type": "display_data"
    }
   ],
   "source": [
    "df.sort_values(['mean_test_score'],ascending=False)[['param_batch_size', 'param_epochs', 'param_optimizer', 'mean_test_score']].head(10)\n"
   ]
  },
  {
   "cell_type": "code",
   "execution_count": null,
   "metadata": {},
   "outputs": [],
   "source": [
    "exit()"
   ]
  },
  {
   "cell_type": "markdown",
   "metadata": {},
   "source": []
  },
  {
   "cell_type": "markdown",
   "metadata": {},
   "source": []
  },
  {
   "cell_type": "markdown",
   "metadata": {},
   "source": []
  },
  {
   "cell_type": "markdown",
   "metadata": {},
   "source": []
  },
  {
   "cell_type": "markdown",
   "metadata": {},
   "source": []
  },
  {
   "cell_type": "markdown",
   "metadata": {},
   "source": []
  },
  {
   "cell_type": "markdown",
   "metadata": {},
   "source": []
  },
  {
   "cell_type": "markdown",
   "metadata": {},
   "source": []
  },
  {
   "cell_type": "markdown",
   "metadata": {},
   "source": []
  },
  {
   "cell_type": "markdown",
   "metadata": {},
   "source": []
  },
  {
   "cell_type": "markdown",
   "metadata": {},
   "source": []
  },
  {
   "cell_type": "markdown",
   "metadata": {},
   "source": []
  },
  {
   "cell_type": "markdown",
   "metadata": {},
   "source": []
  },
  {
   "cell_type": "markdown",
   "metadata": {},
   "source": []
  },
  {
   "cell_type": "markdown",
   "metadata": {},
   "source": []
  },
  {
   "cell_type": "markdown",
   "metadata": {},
   "source": []
  },
  {
   "cell_type": "code",
   "execution_count": null,
   "metadata": {},
   "outputs": [
    {
     "ename": "NameError",
     "evalue": "name 'keras' is not defined",
     "output_type": "error",
     "traceback": [
      "\u001b[1;31m---------------------------------------------------------------------------\u001b[0m\n",
      "\u001b[1;31mNameError\u001b[0m                                 Traceback (most recent call last)\n",
      "Cell \u001b[1;32mIn[29], line 1\u001b[0m\n",
      "\u001b[1;32m----> 1\u001b[0m (x_train, y_train), (x_test, y_test) \u001b[38;5;241m=\u001b[39m \u001b[43mkeras\u001b[49m\u001b[38;5;241m.\u001b[39mdatasets\u001b[38;5;241m.\u001b[39mmnist\u001b[38;5;241m.\u001b[39mload_data()\n",
      "\n",
      "\u001b[1;31mNameError\u001b[0m: name 'keras' is not defined"
     ]
    },
    {
     "ename": "",
     "evalue": "",
     "output_type": "error",
     "traceback": [
      "\u001b[1;31mПри выполнении кода в текущей ячейке или предыдущей ячейке ядро аварийно завершило работу. \n",
      "\u001b[1;31mПроверьте код в ячейках, чтобы определить возможную причину сбоя. \n",
      "\u001b[1;31mЩелкните <a href='https://aka.ms/vscodeJupyterKernelCrash'>здесь</a>, чтобы получить дополнительные сведения. \n",
      "\u001b[1;31mПодробнее см. в <a href='command:jupyter.viewOutput'>журнале Jupyter</a>."
     ]
    }
   ],
   "source": [
    "(x_train, y_train), (x_test, y_test) = keras.datasets.mnist.load_data()\n"
   ]
  },
  {
   "cell_type": "code",
   "execution_count": null,
   "metadata": {},
   "outputs": [],
   "source": [
    "x_train = x_train / 255\n",
    "x_test = x_test / 255"
   ]
  },
  {
   "cell_type": "code",
   "execution_count": null,
   "metadata": {},
   "outputs": [],
   "source": [
    "y_train_cat = keras.utils.to_categorical(y_train, 10)\n",
    "y_test_cat = keras.utils.to_categorical(y_test, 10)"
   ]
  },
  {
   "cell_type": "markdown",
   "metadata": {},
   "source": []
  },
  {
   "cell_type": "code",
   "execution_count": null,
   "metadata": {},
   "outputs": [],
   "source": [
    "model_2 = keras.Sequential([\n",
    "\n",
    "    keras.Input(shape=input_shape),\n",
    "    Flatten(),\n",
    "    Dense(90, activation = 'relu'),\n",
    "    Dense(60, activation = 'relu'),\n",
    "    Dense(10, activation = 'softmax')\n",
    "    ] )"
   ]
  },
  {
   "cell_type": "code",
   "execution_count": null,
   "metadata": {},
   "outputs": [],
   "source": [
    "model_2.compile(optimizer='RMSprop',\n",
    "             loss='categorical_crossentropy',\n",
    "             metrics=['accuracy'])"
   ]
  },
  {
   "cell_type": "code",
   "execution_count": null,
   "metadata": {},
   "outputs": [],
   "source": [
    "%%time\n",
    "\n",
    "history = model_2.fit(x_train, y_train_cat, batch_size=500, epochs=10)"
   ]
  },
  {
   "cell_type": "code",
   "execution_count": null,
   "metadata": {},
   "outputs": [],
   "source": [
    "plt.plot(history.history['accuracy'])\n",
    "plt.title('Точность модели')\n",
    "plt.ylabel('точность')\n",
    "plt.xlabel('количество эпох')\n",
    "plt.show()"
   ]
  },
  {
   "cell_type": "code",
   "execution_count": null,
   "metadata": {},
   "outputs": [],
   "source": [
    "plt.plot(history.history['loss'])\n",
    "plt.title('Потери модели')\n",
    "plt.ylabel('Потери')\n",
    "plt.xlabel('количество эпох')\n",
    "plt.show()"
   ]
  },
  {
   "cell_type": "code",
   "execution_count": null,
   "metadata": {},
   "outputs": [],
   "source": [
    "model_2.evaluate(x_test, y_test_cat)"
   ]
  },
  {
   "cell_type": "code",
   "execution_count": null,
   "metadata": {},
   "outputs": [],
   "source": [
    "%%time\n",
    "\n",
    "history = model_2.fit(x_train, y_train_cat, batch_size=32, epochs=5, validation_data =(x_test, y_test_cat) )"
   ]
  },
  {
   "cell_type": "code",
   "execution_count": null,
   "metadata": {},
   "outputs": [],
   "source": [
    "plt.plot(history.history['accuracy'])\n",
    "plt.plot(history.history['val_accuracy'])\n",
    "plt.title('Точность модели')\n",
    "plt.ylabel('точность')\n",
    "plt.xlabel('количество эпох')\n",
    "plt.legend(['train', 'test'], loc='upper left')\n",
    "plt.show()"
   ]
  },
  {
   "cell_type": "code",
   "execution_count": null,
   "metadata": {},
   "outputs": [],
   "source": [
    "plt.plot(history.history['loss'])\n",
    "plt.plot(history.history['val_loss'])\n",
    "plt.title('Потери модели')\n",
    "plt.ylabel('Потери')\n",
    "plt.xlabel('количество эпох')\n",
    "plt.legend(['train', 'test'], loc='upper left')\n",
    "plt.show()"
   ]
  },
  {
   "cell_type": "code",
   "execution_count": null,
   "metadata": {},
   "outputs": [],
   "source": [
    "n_rec=35\n",
    "plt.imshow(x_test[n_rec].reshape(28, 28), cmap=plt.cm.binary)\n",
    "plt.show()\n",
    "x = x_test[n_rec]\n",
    "x = np.expand_dims(x, axis=0)\n",
    "\n",
    "prediction = model_2.predict(x)\n",
    "prediction = np.argmax(prediction[0])\n",
    "print(\"1:\", prediction)"
   ]
  },
  {
   "cell_type": "code",
   "execution_count": null,
   "metadata": {},
   "outputs": [],
   "source": [
    "# Build the model.\n",
    "def create_model(optimizer='adam'):\n",
    "    model = Sequential([\n",
    "      Dense(64, input_shape=(784,), activation='relu'),\n",
    "      Dense(32, activation='relu'),\n",
    "      Dense(10, activation='softmax')\n",
    "    ])\n",
    "\n",
    "    # Compile the model.\n",
    "    model.compile(\n",
    "      optimizer=optimizer,\n",
    "      loss='categorical_crossentropy',\n",
    "      metrics=['accuracy'],\n",
    "    )\n",
    "    return model"
   ]
  },
  {
   "cell_type": "code",
   "execution_count": null,
   "metadata": {},
   "outputs": [],
   "source": [
    "model = create_model()\n",
    "\n",
    "# Train the model.\n",
    "model.fit(train_images, to_categorical(train_labels), epochs=5, batch_size=32)\n",
    "\n",
    "# Evaluate the model.\n",
    "loss,metrics = model.evaluate(test_images, to_categorical(test_labels))\n",
    "print('**************')\n",
    "print(f'Loss - {np.round(loss,2)}, Metrics - {np.round(metrics,3)}')"
   ]
  },
  {
   "cell_type": "code",
   "execution_count": null,
   "metadata": {},
   "outputs": [],
   "source": [
    "# Predict on the first 10 test images.\n",
    "predictions = model.predict(test_images[:10])\n",
    "\n",
    "# Print our model's predictions.\n",
    "print(f'Predictions: {np.argmax(predictions, axis=1)}')\n",
    "\n",
    "# Check our predictions against the ground truths.\n",
    "print(f'True labels: {test_labels[:10]}')"
   ]
  },
  {
   "cell_type": "markdown",
   "metadata": {},
   "source": [
    "#ДОМАШНЕЕ ЗАДАНИЕ\n"
   ]
  },
  {
   "cell_type": "code",
   "execution_count": null,
   "metadata": {},
   "outputs": [],
   "source": [
    "# меняю оптимизатор, добавляю слой с увеличенным числом нейронов"
   ]
  },
  {
   "cell_type": "markdown",
   "metadata": {},
   "source": []
  },
  {
   "cell_type": "code",
   "execution_count": null,
   "metadata": {},
   "outputs": [],
   "source": [
    "\n",
    "def my_model(optimizer='RMSprop'):\n",
    "    model = Sequential([\n",
    "      Dense(128, input_shape=(784,), activation='relu'),\n",
    "      Dense(64, activation='relu'),\n",
    "      Dense(10, activation='softmax')\n",
    "    ])\n",
    "\n",
    "    # Compile the model.\n",
    "    model.compile(\n",
    "      optimizer=optimizer,\n",
    "      loss='categorical_crossentropy',\n",
    "      metrics=['accuracy'],\n",
    "    )\n",
    "    return model"
   ]
  },
  {
   "cell_type": "code",
   "execution_count": null,
   "metadata": {},
   "outputs": [],
   "source": [
    "dz_model = my_model()\n",
    "dz_model.summary()"
   ]
  },
  {
   "cell_type": "code",
   "execution_count": null,
   "metadata": {},
   "outputs": [],
   "source": [
    "to_categorical(test_labels)"
   ]
  },
  {
   "cell_type": "code",
   "execution_count": null,
   "metadata": {},
   "outputs": [],
   "source": [
    "\n",
    "dz_model.fit(train_images, to_categorical(train_labels), epochs=5, batch_size=32, validation_split=0.2)\n",
    "\n",
    "# Evaluate the model.\n",
    "loss,metrics = dz_model.evaluate(test_images, to_categorical(test_labels))\n",
    "print('**************')\n",
    "print(f'Loss - {np.round(loss,2)}, Metrics - {np.round(metrics,3)}')"
   ]
  },
  {
   "cell_type": "code",
   "execution_count": null,
   "metadata": {},
   "outputs": [],
   "source": [
    "model_2 = my_model()\n",
    "\n",
    "# Train the model.\n",
    "model.fit(train_images, to_categorical(train_labels), epochs=3, batch_size=64, validation_split=0.2)\n",
    "\n",
    "# Evaluate the model.\n",
    "loss,metrics = model.evaluate(test_images, to_categorical(test_labels))\n",
    "print('**************')\n",
    "print(f'Loss - {np.round(loss,2)}, Metrics - {np.round(metrics,3)}')"
   ]
  },
  {
   "cell_type": "code",
   "execution_count": null,
   "metadata": {},
   "outputs": [],
   "source": []
  },
  {
   "cell_type": "code",
   "execution_count": null,
   "metadata": {},
   "outputs": [],
   "source": [
    "model_3 = my_model()\n",
    "\n",
    "# Train the model.\n",
    "model.fit(train_images, to_categorical(train_labels), epochs=7, batch_size=128, validation_split=0.2)\n",
    "\n",
    "# Evaluate the model.\n",
    "loss,metrics = model.evaluate(test_images, to_categorical(test_labels))\n",
    "print('**************')\n",
    "print(f'Loss - {np.round(loss,2)}, Metrics - {np.round(metrics,3)}')"
   ]
  },
  {
   "cell_type": "code",
   "execution_count": null,
   "metadata": {},
   "outputs": [],
   "source": [
    "# Predict on the first 10 test images.\n",
    "predictions = model.predict(test_images[:20])\n",
    "\n",
    "# Print our model's predictions.\n",
    "print(f'Predictions: {np.argmax(predictions, axis=1)}')\n",
    "\n",
    "# Check our predictions against the ground truths.\n",
    "print(f'True labels: {test_labels[:20]}')"
   ]
  },
  {
   "cell_type": "code",
   "execution_count": null,
   "metadata": {},
   "outputs": [],
   "source": []
  },
  {
   "cell_type": "code",
   "execution_count": null,
   "metadata": {},
   "outputs": [],
   "source": [
    "batch_size = [70, 80, 90]\n",
    "epochs = [18, 25]\n",
    "optimizer = ['RMSprop', 'Adam']"
   ]
  },
  {
   "cell_type": "code",
   "execution_count": null,
   "metadata": {},
   "outputs": [],
   "source": []
  },
  {
   "cell_type": "code",
   "execution_count": null,
   "metadata": {},
   "outputs": [],
   "source": [
    "model = KerasClassifier(my_model)\n",
    "params= dict(batch_size=batch_size, epochs=epochs, optimizer=optimizer)\n",
    "grid = GridSearchCV(model, params, refit=False, cv=3, scoring='accuracy')\n",
    "\n",
    "grid_result = grid.fit(train_images, to_categorical(train_labels))\n",
    "print(grid_result.best_score_, grid_result.best_params_)"
   ]
  },
  {
   "cell_type": "code",
   "execution_count": null,
   "metadata": {},
   "outputs": [],
   "source": [
    "print(grid_result.best_score_, grid_result.best_params_)"
   ]
  },
  {
   "cell_type": "code",
   "execution_count": null,
   "metadata": {},
   "outputs": [],
   "source": [
    "df = pd.DataFrame(grid_result.cv_results_)"
   ]
  },
  {
   "cell_type": "code",
   "execution_count": null,
   "metadata": {},
   "outputs": [],
   "source": [
    "df.sort_values(['mean_test_score'],ascending=False)[['param_batch_size','param_epochs','param_optimizer','mean_test_score']].head(10)"
   ]
  },
  {
   "cell_type": "markdown",
   "metadata": {},
   "source": [
    "# Вывод:\n",
    "1 Введение дополнительного скрытого слоя улучшает показатель метрики.   \n",
    "2 Умеренное увеличение количества эпох улучшает показатель метрики.   \n",
    "3 Умеренное увеличение batch_size ускоряет обучение.      \n",
    "4 Наличие валидационной выборки препятствует переобучению.\n",
    "\n",
    "\n",
    "\n"
   ]
  },
  {
   "cell_type": "code",
   "execution_count": null,
   "metadata": {},
   "outputs": [],
   "source": [
    "from google.colab import drive\n",
    "drive.mount('/content/drive')"
   ]
  }
 ],
 "metadata": {
  "language_info": {
   "name": "python"
  }
 },
 "nbformat": 4,
 "nbformat_minor": 2
}
