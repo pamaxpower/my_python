{
  "cells": [
    {
      "cell_type": "code",
      "execution_count": 4,
      "metadata": {},
      "outputs": [],
      "source": [
        "# # #Устанавливаем пакеты в окружение, если они не установлены\n",
        "\n",
        "# # #библиотека для работы с изображениями в языке программирования Python\n",
        "# !pip install pillow \n",
        "\n",
        "# # #библиотека языка Python, добавляющая поддержку больших многомерных массивов и матриц\n",
        "# !pip install numpy\n",
        "\n",
        "# # #Python­-пакет с открытым кодом, который работает с массивами NumPy\n",
        "# !pip install scikit-image\n",
        "\n",
        "# # #устанавливаем tensorflow для CPU\n",
        "# !pip install tensorflow\n",
        "\n",
        "# # #устанавливаем keras\n",
        "# !pip install scikeras[tensorflow]\n",
        "\n",
        "# # #отрисовка схем, графиков\n",
        "# !pip install graphviz\n",
        "# !pip install pydot\n",
        "\n",
        "# !pip install matpLotLib"
      ]
    },
    {
      "cell_type": "code",
      "execution_count": 5,
      "metadata": {
        "id": "4IgnCZuOs4Fk"
      },
      "outputs": [],
      "source": [
        "from PIL import Image\n",
        "import numpy as np\n",
        "import matplotlib.pyplot as plt\n",
        "from skimage import io\n",
        "import os\n",
        "import zipfile\n",
        "import tensorflow as tf\n",
        "\n",
        "from keras import *\n",
        "from keras.models import *\n",
        "from keras.layers import *\n",
        "from keras.optimizers import *\n",
        "from keras.losses import *"
      ]
    },
    {
      "cell_type": "code",
      "execution_count": 6,
      "metadata": {
        "id": "-9AAwHnPr7od"
      },
      "outputs": [],
      "source": [
        "# data_r = zipfile.ZipFile('train.zip', 'r')\n",
        "# data_r.extractall()"
      ]
    },
    {
      "cell_type": "code",
      "execution_count": 7,
      "metadata": {
        "id": "QNsrrl6VsU_F"
      },
      "outputs": [],
      "source": [
        "# data_r = zipfile.ZipFile('test.zip', 'r')\n",
        "# data_r.extractall()"
      ]
    },
    {
      "cell_type": "code",
      "execution_count": 8,
      "metadata": {
        "id": "SISIsfkxs5l7"
      },
      "outputs": [],
      "source": [
        "def download_data(path):\n",
        "  data = []\n",
        "  for path_image in sorted(os.listdir(path=path)):\n",
        "    image = Image.open(path + path_image) #Открываем изображение.\n",
        "    data.append(np.array(image)) #Загружаем пиксели.\n",
        "  return data"
      ]
    },
    {
      "cell_type": "markdown",
      "metadata": {},
      "source": [
        "* X_train – Исходные изображения из обучающей выборки данных.\n",
        "* Y_train – Сегментированные исходные изображения из обучающей выборки.\n",
        "* X_test – Исходные изображения из тестовой выборки данных.\n",
        "* Y_test – Сегментированные исходные изображения из тестовой выборки."
      ]
    },
    {
      "cell_type": "code",
      "execution_count": 9,
      "metadata": {
        "id": "aVma1xbgs2jF"
      },
      "outputs": [],
      "source": [
        "X_train = download_data(r\"train/images/\")\n",
        "Y_train = download_data(r\"train/masks/\")\n",
        "X_test = download_data(r\"test/images/\")\n",
        "Y_test = download_data(r\"test/masks/\")\n"
      ]
    },
    {
      "cell_type": "code",
      "execution_count": 10,
      "metadata": {},
      "outputs": [
        {
          "data": {
            "text/plain": [
              "(644, 796, 3)"
            ]
          },
          "execution_count": 10,
          "metadata": {},
          "output_type": "execute_result"
        }
      ],
      "source": [
        "X_train[0].shape"
      ]
    },
    {
      "cell_type": "code",
      "execution_count": 11,
      "metadata": {
        "id": "X_ayb_KzU-sY"
      },
      "outputs": [],
      "source": [
        "def resize(input_image, input_mask):\n",
        "   input_image = tf.image.resize(input_image, (128, 128), method=\"nearest\")\n",
        "   input_mask = tf.image.resize(input_mask, (128, 128), method=\"nearest\")\n",
        "   return input_image, input_mask"
      ]
    },
    {
      "cell_type": "code",
      "execution_count": 12,
      "metadata": {
        "id": "K4OM3WxRVBCF"
      },
      "outputs": [],
      "source": [
        "X_train, Y_train = resize(X_train, Y_train)"
      ]
    },
    {
      "cell_type": "code",
      "execution_count": 13,
      "metadata": {
        "id": "X8Tl2Ee4VH9l"
      },
      "outputs": [],
      "source": [
        "X_test, Y_test = resize(X_test, Y_test)"
      ]
    },
    {
      "cell_type": "markdown",
      "metadata": {},
      "source": [
        "Объявление функций предобработки и пост обработки данных\n"
      ]
    },
    {
      "cell_type": "code",
      "execution_count": 14,
      "metadata": {
        "id": "KC2UWCMGuwz4"
      },
      "outputs": [],
      "source": [
        "# установка цвета полос\n",
        "palette = {0 : (60, 16, 152), # Здания\n",
        "           1 : (132, 41, 246), # Земля\n",
        "           2 : (110, 193, 228), # Дороги\n",
        "           3 : (254, 221, 58), # Растения\n",
        "           4 : (226, 169, 41), # Вода\n",
        "           5 : (155, 155, 155)} # Неразмечено"
      ]
    },
    {
      "cell_type": "code",
      "execution_count": 15,
      "metadata": {
        "id": "XJGCusxYvIOi"
      },
      "outputs": [],
      "source": [
        "# обратное преобразование цвета в метку класса\n",
        "invert_palette = {v: k for k, v in palette.items()}"
      ]
    },
    {
      "cell_type": "code",
      "execution_count": 16,
      "metadata": {
        "id": "u2xjpP2VvUiY"
      },
      "outputs": [],
      "source": [
        "# преобразование выхода нейронной сети в RGB изображение\n",
        "def convert_to_color(arr_2d, palette=palette):\n",
        "    \"\"\" Числовые метки для кодирования RGB-цвета \"\"\"\n",
        "    # zeros() возвращает новый массив указанной формы и типа, заполненный нулями.\n",
        "    arr_3d = np.zeros((arr_2d.shape[0], arr_2d.shape[1], 3), dtype=np.uint8)\n",
        "\n",
        "    for c, i in palette.items():\n",
        "        m = arr_2d == c\n",
        "        arr_3d[m] = i\n",
        "\n",
        "    return arr_3d\n",
        "\n",
        "# участвует в предикте"
      ]
    },
    {
      "cell_type": "code",
      "execution_count": 17,
      "metadata": {
        "id": "7uyEDYdTv81I"
      },
      "outputs": [],
      "source": [
        "def convert_from_color(arr_3d, palette=invert_palette):\n",
        "    \"\"\" Кодирование цвета RGB в полутоновый маркер \"\"\"\n",
        "    arr_2d = np.zeros((arr_3d.shape[0], arr_3d.shape[1]), dtype=np.uint8)\n",
        "\n",
        "    # принадлежность каждого пикселя классу\n",
        "    arr_2d = np.zeros((arr_3d.shape[0], arr_3d.shape[1]), dtype=np.int8)\n",
        "\n",
        "    # расстояние до ближайшего класса для пикселей\n",
        "    min_distance = np.zeros((arr_3d.shape[0], arr_3d.shape[1]), dtype=np.float32)+1000 \n",
        "\n",
        "    for c, i in palette.items():\n",
        "      # ищем расстояние для каждого пикселя до проверяемого класса по евклиду рас-ие\n",
        "      distance = np.sum((arr_3d - np.array(c).reshape(1, 1, 3))**2, axis=-1)**(1/2) \n",
        "\n",
        "      # поиск элементов меньше min_distance\n",
        "      condition = min_distance > distance \n",
        "\n",
        "      # замена дистанции найденных элементов\n",
        "      min_distance[condition] = distance[condition] \n",
        "\n",
        "      # замена класса найденных элементов\n",
        "      arr_2d[condition] = i \n",
        "\n",
        "    for c, i in palette.items():\n",
        "      m = np.all(arr_3d == np.array(c).reshape(1, 1, 3), axis=2)\n",
        "      arr_2d[m] = i\n",
        "\n",
        "    arr_2d = arr_2d.tolist()\n",
        "    for i in range(len(arr_2d)):\n",
        "      for j in range(len(arr_2d[0])):\n",
        "        label = [0, 0, 0, 0, 0, 0]\n",
        "        label[arr_2d[i][j]] = 1\n",
        "        arr_2d[i][j] = label\n",
        "    arr_2d = np.array(arr_2d)\n",
        "\n",
        "    return arr_2d\n",
        "\n",
        "# участвует в обучении"
      ]
    },
    {
      "cell_type": "markdown",
      "metadata": {},
      "source": [
        "Предобработка исходных изображений и сегментированных изображений в ответ сети"
      ]
    },
    {
      "cell_type": "code",
      "execution_count": 18,
      "metadata": {
        "id": "QRH5wFPIxysn"
      },
      "outputs": [],
      "source": [
        "# Исходные изображения из обучающей выборки данных\n",
        "X_train_pred = np.array(X_train).reshape([7, 128, 128, 3])/255\n",
        "\n",
        "# Исходные изображения из тестовой выборки данных.\n",
        "X_test_pred = np.array(X_test).reshape([2, 128, 128, 3])/255\n",
        "\n",
        "# Сегментированные исходные изображения из обучающей выборки.\n",
        "Y_train_pred = []\n",
        "for i in range(len(Y_train)):\n",
        "  Y_train_pred.append(convert_from_color(Y_train[i][:, :, :3]))\n",
        "Y_train_pred = np.array(Y_train_pred)\n",
        "\n",
        "# Сегментированные исходные изображения из тестовой выборки.\n",
        "Y_test_pred = []\n",
        "for i in range(len(Y_test)):\n",
        "  Y_test_pred.append(convert_from_color(Y_test[i][:, :, :3]))\n",
        "Y_test_pred = np.array(Y_test_pred)\n"
      ]
    },
    {
      "cell_type": "markdown",
      "metadata": {},
      "source": [
        "Объявление топологии нейронной сети"
      ]
    },
    {
      "cell_type": "code",
      "execution_count": 19,
      "metadata": {
        "id": "yw4chFWMT5JY"
      },
      "outputs": [],
      "source": [
        "def double_conv_block(x, n_filters):\n",
        "   # Conv2D then ReLU activation\n",
        "   x = Conv2D(n_filters, 3, padding = \"same\", activation = \"relu\", kernel_initializer = \"he_normal\")(x)\n",
        "   # Conv2D then ReLU activation\n",
        "   x = Conv2D(n_filters, 3, padding = \"same\", activation = \"relu\", kernel_initializer = \"he_normal\")(x)\n",
        "   return x"
      ]
    },
    {
      "cell_type": "code",
      "execution_count": 20,
      "metadata": {
        "id": "71aa1kS9UdpV"
      },
      "outputs": [],
      "source": [
        "def upsample_block(x, conv_features, n_filters):\n",
        "   # upsample\n",
        "   x = layers.Conv2DTranspose(n_filters, 3, 2, padding=\"same\")(x)\n",
        "   # concatenate\n",
        "   x = layers.concatenate([x, conv_features])\n",
        "   # dropout\n",
        "   x = layers.Dropout(0.3)(x)\n",
        "   # Conv2D twice with ReLU activation\n",
        "   x = double_conv_block(x, n_filters)\n",
        "   return x"
      ]
    },
    {
      "cell_type": "code",
      "execution_count": 21,
      "metadata": {
        "id": "6-0SlpZRT9JP"
      },
      "outputs": [],
      "source": [
        "def downsample_block(x, n_filters):\n",
        "   f = double_conv_block(x, n_filters)\n",
        "   p = layers.MaxPool2D(2)(f)\n",
        "   p = layers.Dropout(0.3)(p)\n",
        "   return f, p"
      ]
    },
    {
      "cell_type": "code",
      "execution_count": 22,
      "metadata": {
        "id": "FVTEl4lXUG_A"
      },
      "outputs": [],
      "source": [
        "def build_unet_model():\n",
        "   # inputs\n",
        "   inputs = layers.Input(shape=(128,128,3))\n",
        "   # encoder: contracting path - downsample\n",
        "   # 1 - downsample\n",
        "   f1, p1 = downsample_block(inputs, 64)\n",
        "   # 2 - downsample\n",
        "   f2, p2 = downsample_block(p1, 128)\n",
        "   # 3 - downsample\n",
        "   f3, p3 = downsample_block(p2, 256)\n",
        "   # 4 - downsample\n",
        "   f4, p4 = downsample_block(p3, 512)\n",
        "   # 5 - bottleneck\n",
        "   bottleneck = double_conv_block(p4, 1024)\n",
        "   # decoder: expanding path - upsample\n",
        "   # 6 - upsample\n",
        "   u6 = upsample_block(bottleneck, f4, 512)\n",
        "   # 7 - upsample\n",
        "   u7 = upsample_block(u6, f3, 256)\n",
        "   # 8 - upsample\n",
        "   u8 = upsample_block(u7, f2, 128)\n",
        "   # 9 - upsample\n",
        "   u9 = upsample_block(u8, f1, 64)\n",
        "   # outputs\n",
        "   outputs = layers.Conv2D(6, 1, padding=\"same\", activation = \"softmax\")(u9)\n",
        "   # unet model with Keras Functional API\n",
        "   unet_model = tf.keras.Model(inputs, outputs, name=\"U-Net\")\n",
        "   return unet_model"
      ]
    },
    {
      "cell_type": "code",
      "execution_count": 23,
      "metadata": {
        "id": "Z3otCMTXUVsr"
      },
      "outputs": [],
      "source": [
        "unet_model = build_unet_model()"
      ]
    },
    {
      "cell_type": "code",
      "execution_count": 24,
      "metadata": {
        "id": "bR8a8e6KVh86"
      },
      "outputs": [],
      "source": [
        "unet_model.compile(optimizer=tf.keras.optimizers.Adam(),\n",
        "                  loss=\"categorical_crossentropy\",\n",
        "                  metrics=\"accuracy\")"
      ]
    },
    {
      "cell_type": "code",
      "execution_count": 25,
      "metadata": {
        "colab": {
          "base_uri": "https://localhost:8080/"
        },
        "id": "GAuxCsFsVlyZ",
        "outputId": "0cf5ddd9-2c74-4dc0-fff2-dffd166aab5c"
      },
      "outputs": [
        {
          "name": "stdout",
          "output_type": "stream",
          "text": [
            "Epoch 1/10\n",
            "1/1 [==============================] - 14s 14s/step - loss: 1.4117 - accuracy: 0.5245 - val_loss: 3.9084 - val_accuracy: 0.6051\n",
            "Epoch 2/10\n",
            "1/1 [==============================] - 7s 7s/step - loss: 9.8197 - accuracy: 0.6273 - val_loss: 1.0888 - val_accuracy: 0.6051\n",
            "Epoch 3/10\n",
            "1/1 [==============================] - 8s 8s/step - loss: 1.1212 - accuracy: 0.6273 - val_loss: 1.2228 - val_accuracy: 0.6055\n",
            "Epoch 4/10\n",
            "1/1 [==============================] - 8s 8s/step - loss: 1.2318 - accuracy: 0.6276 - val_loss: 1.2486 - val_accuracy: 0.6059\n",
            "Epoch 5/10\n",
            "1/1 [==============================] - 8s 8s/step - loss: 1.2652 - accuracy: 0.6282 - val_loss: 1.2134 - val_accuracy: 0.6057\n",
            "Epoch 6/10\n",
            "1/1 [==============================] - 7s 7s/step - loss: 1.2381 - accuracy: 0.6296 - val_loss: 1.1467 - val_accuracy: 0.6054\n",
            "Epoch 7/10\n",
            "1/1 [==============================] - 7s 7s/step - loss: 1.1833 - accuracy: 0.6342 - val_loss: 1.0762 - val_accuracy: 0.6053\n",
            "Epoch 8/10\n",
            "1/1 [==============================] - 8s 8s/step - loss: 1.1128 - accuracy: 0.6275 - val_loss: 1.0235 - val_accuracy: 0.6052\n",
            "Epoch 9/10\n",
            "1/1 [==============================] - 8s 8s/step - loss: 1.0582 - accuracy: 0.6268 - val_loss: 1.0032 - val_accuracy: 0.6051\n",
            "Epoch 10/10\n",
            "1/1 [==============================] - 8s 8s/step - loss: 1.0362 - accuracy: 0.6271 - val_loss: 1.0079 - val_accuracy: 0.6051\n",
            "CPU times: total: 7min 9s\n",
            "Wall time: 1min 24s\n"
          ]
        }
      ],
      "source": [
        "%%time\n",
        "\n",
        "history = unet_model.fit(X_train_pred, Y_train_pred,  epochs=10, validation_data = (X_test_pred, Y_test_pred))"
      ]
    },
    {
      "cell_type": "code",
      "execution_count": 26,
      "metadata": {},
      "outputs": [
        {
          "name": "stdout",
          "output_type": "stream",
          "text": [
            "2/2 [==============================] - 1s 278ms/step\n"
          ]
        }
      ],
      "source": [
        "out = unet_model.predict(X_test_pred[:2], batch_size=1)"
      ]
    },
    {
      "cell_type": "code",
      "execution_count": 27,
      "metadata": {},
      "outputs": [
        {
          "data": {
            "image/png": "[encoded data removed]",
            "text/plain": [
              "<Figure size 640x480 with 2 Axes>"
            ]
          },
          "metadata": {},
          "output_type": "display_data"
        },
        {
          "data": {
            "image/png": "[encoded data removed]",
            "text/plain": [
              "<Figure size 640x480 with 2 Axes>"
            ]
          },
          "metadata": {},
          "output_type": "display_data"
        }
      ],
      "source": [
        "# Выведем 2-е тестовые картинки\n",
        "for i in range(2):\n",
        "    plt.subplot(1, 2, i+1)\n",
        "    plt.imshow(convert_to_color(np.argmax(Y_test_pred[i], axis=-1)))\n",
        "plt.suptitle('Желаемый результат сегментации', fontsize=19, fontweight='bold')\n",
        "plt.tight_layout()\n",
        "plt.show()\n",
        "\n",
        "# Выведем 2-е картинки полученые методом predict\n",
        "for i in range(2):\n",
        "    plt.subplot(1, 2, i+1)\n",
        "    plt.imshow(convert_to_color(np.argmax(out[i], axis=-1)))\n",
        "plt.suptitle('Полученный результат сегментации', fontsize=19, fontweight='bold')\n",
        "plt.tight_layout()\n",
        "plt.show()"
      ]
    },
    {
      "cell_type": "code",
      "execution_count": 28,
      "metadata": {
        "id": "cl1UPcFfyhAs"
      },
      "outputs": [],
      "source": [
        "# def unet_model(image_size, output_classes):\n",
        "\n",
        "#     #Входной слой\n",
        "#     input_layer = Input(shape=image_size + (3,))\n",
        "#     conv_1 = Conv2D(64, 4,\n",
        "#                                     activation=LeakyReLU(),\n",
        "#                                     strides=2, padding='same',\n",
        "#                                     kernel_initializer='glorot_normal',\n",
        "#                                     use_bias=False)(input_layer)\n",
        "#     #Сворачиваем\n",
        "#     conv_1_1 = Conv2D(128, 4,\n",
        "#                                       activation=LeakyReLU(),\n",
        "#                                       strides=2,\n",
        "#                                       padding='same',\n",
        "#                                       kernel_initializer='glorot_normal',\n",
        "#                                       use_bias=False)(conv_1)\n",
        "#     batch_norm_1 = BatchNormalization()(conv_1_1)\n",
        "\n",
        "#     #2\n",
        "#     conv_2 = Conv2D(256, 4,\n",
        "#                                     activation=LeakyReLU(),\n",
        "#                                     strides=2,\n",
        "#                                     padding='same',\n",
        "#                                     kernel_initializer='glorot_normal',\n",
        "#                                     use_bias=False)(batch_norm_1)\n",
        "#     batch_norm_2 = BatchNormalization()(conv_2)\n",
        "\n",
        "#     #3\n",
        "#     conv_3 = Conv2D(512, 4,\n",
        "#                                     activation=LeakyReLU(),\n",
        "#                                     strides=2,\n",
        "#                                     padding='same',\n",
        "#                                     kernel_initializer='glorot_normal',\n",
        "#                                     use_bias=False)(batch_norm_2)\n",
        "#     batch_norm_3 = BatchNormalization()(conv_3)\n",
        "\n",
        "#     #4\n",
        "#     conv_4 = Conv2D(512, 4,\n",
        "#                                     activation=LeakyReLU(),\n",
        "#                                     strides=2,\n",
        "#                                     padding='same',\n",
        "#                                     kernel_initializer='glorot_normal',\n",
        "#                                     use_bias=False)(batch_norm_3)\n",
        "#     batch_norm_4 = BatchNormalization()(conv_4)\n",
        "\n",
        "#     #5\n",
        "#     conv_5 = Conv2D(512, 4,\n",
        "#                                     activation=LeakyReLU(),\n",
        "#                                     strides=2,\n",
        "#                                     padding='same',\n",
        "#                                     kernel_initializer='glorot_normal',\n",
        "#                                     use_bias=False)(batch_norm_4)\n",
        "#     batch_norm_5 = BatchNormalization()(conv_5)\n",
        "\n",
        "#     #6\n",
        "#     conv_6 = Conv2D(512, 4,\n",
        "#                                     activation=LeakyReLU(),\n",
        "#                                     strides=2,\n",
        "#                                     padding='same',\n",
        "#                                     kernel_initializer='glorot_normal',\n",
        "#                                     use_bias=False)(batch_norm_5)\n",
        "#     ch, cw = get_crop_shape(conv_5,conv_5)\n",
        "#       #Разворачиваем\n",
        "#     #1\n",
        "#     up_1 = Concatenate()([Conv2DTranspose(512, 4, activation='relu', strides=2,\n",
        "#                                                                           padding='same',\n",
        "#                                                                           kernel_initializer='glorot_normal',\n",
        "#                                                                           use_bias=False)(conv_6), conv_5])\n",
        "#     batch_up_1 = BatchNormalization()(up_1)\n",
        "\n",
        "#     #Добавим Dropout от переобучения\n",
        "#     batch_up_1 = Dropout(0.25)(batch_up_1)\n",
        "\n",
        "#     #2\n",
        "#     up_2 = Concatenate()([Conv2DTranspose(512, 4, activation='relu', strides=2,\n",
        "#                                                                           padding='same',\n",
        "#                                                                           kernel_initializer='glorot_normal',\n",
        "#                                                                           use_bias=False)(batch_up_1), conv_4])\n",
        "#     batch_up_2 = BatchNormalization()(up_2)\n",
        "#     batch_up_2 = Dropout(0.25)(batch_up_2)\n",
        "\n",
        "\n",
        "\n",
        "\n",
        "#     #3\n",
        "#     up_3 = Concatenate()([Conv2DTranspose(512, 4, activation='relu', strides=2,\n",
        "#                                                                           padding='same',\n",
        "#                                                                           kernel_initializer='glorot_normal',\n",
        "#                                                                           use_bias=False)(batch_up_2), conv_3])\n",
        "#     batch_up_3 = BatchNormalization()(up_3)\n",
        "#     batch_up_3 = Dropout(0.25)(batch_up_3)\n",
        "\n",
        "\n",
        "\n",
        "\n",
        "#     #4\n",
        "#     up_4 = Concatenate()([Conv2DTranspose(256, 4, activation='relu', strides=2,\n",
        "#                                                                           padding='same',\n",
        "#                                                                           kernel_initializer='glorot_normal',\n",
        "#                                                                           use_bias=False)(batch_up_3), conv_2])\n",
        "#     batch_up_4 = BatchNormalization()(up_4)\n",
        "\n",
        "\n",
        "#     #5\n",
        "#     up_5 = Concatenate()([Conv2DTranspose(128, 4, activation='relu', strides=2,\n",
        "#                                                                           padding='same',\n",
        "#                                                                           kernel_initializer='glorot_normal',\n",
        "#                                                                           use_bias=False)(batch_up_4), conv_1_1])\n",
        "#     batch_up_5 = BatchNormalization()(up_5)\n",
        "\n",
        "\n",
        "#     #6\n",
        "#     up_6 = Concatenate()([Conv2DTranspose(64, 4, activation='relu', strides=2,\n",
        "#                                                                           padding='same',\n",
        "#                                                                           kernel_initializer='glorot_normal',\n",
        "#                                                                           use_bias=False)(batch_up_5), conv_1])\n",
        "#     batch_up_6 = BatchNormalization()(up_6)\n",
        "\n",
        "\n",
        "#     #Выходной слой\n",
        "#     output_layer = Conv2DTranspose(output_classes, 4, activation='sigmoid', strides=2,\n",
        "#                                                    padding='same',\n",
        "#                                                    kernel_initializer='glorot_normal')(batch_up_6)\n",
        "\n",
        "#     model = Model(inputs=input_layer, outputs=output_layer)\n",
        "#     return model"
      ]
    },
    {
      "cell_type": "code",
      "execution_count": 29,
      "metadata": {
        "colab": {
          "base_uri": "https://localhost:8080/",
          "height": 298
        },
        "id": "Gip9dYsNBDm_",
        "outputId": "fc3961ed-f85f-43f2-9591-5ca573a67190"
      },
      "outputs": [
        {
          "ename": "ValueError",
          "evalue": "Layer \"U-Net\" expects 1 input(s), but it received 2 input tensors. Inputs received: [<tf.Tensor: shape=(), dtype=int32, numpy=796>, <tf.Tensor: shape=(), dtype=int32, numpy=644>]",
          "output_type": "error",
          "traceback": [
            "\u001b[1;31m---------------------------------------------------------------------------\u001b[0m",
            "\u001b[1;31mValueError\u001b[0m                                Traceback (most recent call last)",
            "Cell \u001b[1;32mIn[29], line 1\u001b[0m\n\u001b[1;32m----> 1\u001b[0m model \u001b[38;5;241m=\u001b[39m \u001b[43munet_model\u001b[49m\u001b[43m(\u001b[49m\u001b[43m(\u001b[49m\u001b[38;5;241;43m796\u001b[39;49m\u001b[43m,\u001b[49m\u001b[38;5;241;43m644\u001b[39;49m\u001b[43m)\u001b[49m\u001b[43m,\u001b[49m\u001b[43m \u001b[49m\u001b[38;5;241;43m6\u001b[39;49m\u001b[43m)\u001b[49m\n",
            "File \u001b[1;32mc:\\Users\\Lenovo\\AppData\\Local\\Programs\\Python\\Python310\\lib\\site-packages\\keras\\utils\\traceback_utils.py:70\u001b[0m, in \u001b[0;36mfilter_traceback.<locals>.error_handler\u001b[1;34m(*args, **kwargs)\u001b[0m\n\u001b[0;32m     67\u001b[0m     filtered_tb \u001b[38;5;241m=\u001b[39m _process_traceback_frames(e\u001b[38;5;241m.\u001b[39m__traceback__)\n\u001b[0;32m     68\u001b[0m     \u001b[38;5;66;03m# To get the full stack trace, call:\u001b[39;00m\n\u001b[0;32m     69\u001b[0m     \u001b[38;5;66;03m# `tf.debugging.disable_traceback_filtering()`\u001b[39;00m\n\u001b[1;32m---> 70\u001b[0m     \u001b[38;5;28;01mraise\u001b[39;00m e\u001b[38;5;241m.\u001b[39mwith_traceback(filtered_tb) \u001b[38;5;28;01mfrom\u001b[39;00m \u001b[38;5;28;01mNone\u001b[39;00m\n\u001b[0;32m     71\u001b[0m \u001b[38;5;28;01mfinally\u001b[39;00m:\n\u001b[0;32m     72\u001b[0m     \u001b[38;5;28;01mdel\u001b[39;00m filtered_tb\n",
            "File \u001b[1;32mc:\\Users\\Lenovo\\AppData\\Local\\Programs\\Python\\Python310\\lib\\site-packages\\keras\\engine\\input_spec.py:219\u001b[0m, in \u001b[0;36massert_input_compatibility\u001b[1;34m(input_spec, inputs, layer_name)\u001b[0m\n\u001b[0;32m    213\u001b[0m         \u001b[38;5;28;01mraise\u001b[39;00m \u001b[38;5;167;01mTypeError\u001b[39;00m(\n\u001b[0;32m    214\u001b[0m             \u001b[38;5;124mf\u001b[39m\u001b[38;5;124m\"\u001b[39m\u001b[38;5;124mInputs to a layer should be tensors. Got \u001b[39m\u001b[38;5;124m'\u001b[39m\u001b[38;5;132;01m{\u001b[39;00mx\u001b[38;5;132;01m}\u001b[39;00m\u001b[38;5;124m'\u001b[39m\u001b[38;5;124m \u001b[39m\u001b[38;5;124m\"\u001b[39m\n\u001b[0;32m    215\u001b[0m             \u001b[38;5;124mf\u001b[39m\u001b[38;5;124m\"\u001b[39m\u001b[38;5;124m(of type \u001b[39m\u001b[38;5;132;01m{\u001b[39;00m\u001b[38;5;28mtype\u001b[39m(x)\u001b[38;5;132;01m}\u001b[39;00m\u001b[38;5;124m) as input for layer \u001b[39m\u001b[38;5;124m'\u001b[39m\u001b[38;5;132;01m{\u001b[39;00mlayer_name\u001b[38;5;132;01m}\u001b[39;00m\u001b[38;5;124m'\u001b[39m\u001b[38;5;124m.\u001b[39m\u001b[38;5;124m\"\u001b[39m\n\u001b[0;32m    216\u001b[0m         )\n\u001b[0;32m    218\u001b[0m \u001b[38;5;28;01mif\u001b[39;00m \u001b[38;5;28mlen\u001b[39m(inputs) \u001b[38;5;241m!=\u001b[39m \u001b[38;5;28mlen\u001b[39m(input_spec):\n\u001b[1;32m--> 219\u001b[0m     \u001b[38;5;28;01mraise\u001b[39;00m \u001b[38;5;167;01mValueError\u001b[39;00m(\n\u001b[0;32m    220\u001b[0m         \u001b[38;5;124mf\u001b[39m\u001b[38;5;124m'\u001b[39m\u001b[38;5;124mLayer \u001b[39m\u001b[38;5;124m\"\u001b[39m\u001b[38;5;132;01m{\u001b[39;00mlayer_name\u001b[38;5;132;01m}\u001b[39;00m\u001b[38;5;124m\"\u001b[39m\u001b[38;5;124m expects \u001b[39m\u001b[38;5;132;01m{\u001b[39;00m\u001b[38;5;28mlen\u001b[39m(input_spec)\u001b[38;5;132;01m}\u001b[39;00m\u001b[38;5;124m input(s),\u001b[39m\u001b[38;5;124m'\u001b[39m\n\u001b[0;32m    221\u001b[0m         \u001b[38;5;124mf\u001b[39m\u001b[38;5;124m\"\u001b[39m\u001b[38;5;124m but it received \u001b[39m\u001b[38;5;132;01m{\u001b[39;00m\u001b[38;5;28mlen\u001b[39m(inputs)\u001b[38;5;132;01m}\u001b[39;00m\u001b[38;5;124m input tensors. \u001b[39m\u001b[38;5;124m\"\u001b[39m\n\u001b[0;32m    222\u001b[0m         \u001b[38;5;124mf\u001b[39m\u001b[38;5;124m\"\u001b[39m\u001b[38;5;124mInputs received: \u001b[39m\u001b[38;5;132;01m{\u001b[39;00minputs\u001b[38;5;132;01m}\u001b[39;00m\u001b[38;5;124m\"\u001b[39m\n\u001b[0;32m    223\u001b[0m     )\n\u001b[0;32m    224\u001b[0m \u001b[38;5;28;01mfor\u001b[39;00m input_index, (x, spec) \u001b[38;5;129;01min\u001b[39;00m \u001b[38;5;28menumerate\u001b[39m(\u001b[38;5;28mzip\u001b[39m(inputs, input_spec)):\n\u001b[0;32m    225\u001b[0m     \u001b[38;5;28;01mif\u001b[39;00m spec \u001b[38;5;129;01mis\u001b[39;00m \u001b[38;5;28;01mNone\u001b[39;00m:\n",
            "\u001b[1;31mValueError\u001b[0m: Layer \"U-Net\" expects 1 input(s), but it received 2 input tensors. Inputs received: [<tf.Tensor: shape=(), dtype=int32, numpy=796>, <tf.Tensor: shape=(), dtype=int32, numpy=644>]"
          ]
        }
      ],
      "source": [
        "model = unet_model((796,644), 6)"
      ]
    },
    {
      "cell_type": "code",
      "execution_count": null,
      "metadata": {
        "id": "Jyr6zavFBDdH"
      },
      "outputs": [],
      "source": []
    },
    {
      "cell_type": "code",
      "execution_count": null,
      "metadata": {
        "id": "yAQmdfxZ1sLz"
      },
      "outputs": [],
      "source": [
        "#Функция для подсчёта DICE коэффициента\n",
        "def dice_coef(y_pred, y_true):\n",
        "    y_pred = tf.unstack(y_pred, axis=3)\n",
        "    y_true = tf.unstack(y_true, axis=3)\n",
        "    dice_summ = 0\n",
        "\n",
        "    for i, (a_y_pred, b_y_true) in enumerate(zip(y_pred, y_true)):\n",
        "        dice_calculate = (2 * tf.math.reduce_sum(a_y_pred * b_y_true) + 1) /\\\n",
        "         (tf.math.reduce_sum(a_y_pred + b_y_true) + 1)\n",
        "\n",
        "        dice_summ += dice_calculate\n",
        "    avg_dice = dice_summ/CLASSES\n",
        "    return avg_dice"
      ]
    },
    {
      "cell_type": "code",
      "execution_count": null,
      "metadata": {
        "id": "L9WoQKnD1bRr"
      },
      "outputs": [],
      "source": [
        "#Функция для подсчета DICE loss\n",
        "def dice_loss(y_pred, y_true):\n",
        "    d_loss = 1 - dice_coef(y_pred, y_true)\n",
        "    return d_loss"
      ]
    },
    {
      "cell_type": "code",
      "execution_count": null,
      "metadata": {
        "id": "j9lqcvoYzTAE"
      },
      "outputs": [],
      "source": [
        "# Binary crossentropy + 0.25 * DICE\n",
        "def dice_bce_loss(y_pred, y_true):\n",
        "    total_loss = 0.25 * dice_loss(y_pred, y_true) + keras.losses.binary_crossentropy(y_pred, y_true)\n",
        "    return total_loss"
      ]
    }
  ],
  "metadata": {
    "colab": {
      "provenance": []
    },
    "kernelspec": {
      "display_name": "Python 3",
      "name": "python3"
    },
    "language_info": {
      "codemirror_mode": {
        "name": "ipython",
        "version": 3
      },
      "file_extension": ".py",
      "mimetype": "text/x-python",
      "name": "python",
      "nbconvert_exporter": "python",
      "pygments_lexer": "ipython3",
      "version": "3.10.9"
    }
  },
  "nbformat": 4,
  "nbformat_minor": 0
}
