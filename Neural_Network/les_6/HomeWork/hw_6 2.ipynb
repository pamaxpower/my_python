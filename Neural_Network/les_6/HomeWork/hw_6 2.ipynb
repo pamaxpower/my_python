{
 "cells": [
  {
   "cell_type": "code",
   "execution_count": 24,
   "metadata": {},
   "outputs": [],
   "source": [
    "from PIL import Image\n",
    "import numpy as np\n",
    "import matplotlib.pyplot as plt\n",
    "from skimage import io\n",
    "import os\n",
    "import zipfile\n",
    "import tensorflow as tf\n",
    "from keras import utils\n",
    "\n",
    "from keras import *\n",
    "from keras.layers import Input, Add, Conv2D, LeakyReLU, Cropping2D, BatchNormalization, Concatenate, Conv2DTranspose, Dropout\n",
    "from keras.models import Model\n",
    "from keras.optimizers import *\n",
    "from keras.losses import *"
   ]
  },
  {
   "cell_type": "code",
   "execution_count": 2,
   "metadata": {},
   "outputs": [],
   "source": [
    "# data_r = zipfile.ZipFile('..\\\\train.zip', 'r')\n",
    "# data_r.extractall()"
   ]
  },
  {
   "cell_type": "code",
   "execution_count": 3,
   "metadata": {},
   "outputs": [],
   "source": [
    "# data_r = zipfile.ZipFile('..\\\\test.zip', 'r')\n",
    "# data_r.extractall()"
   ]
  },
  {
   "cell_type": "code",
   "execution_count": 4,
   "metadata": {},
   "outputs": [],
   "source": [
    "def download_data(path):\n",
    "  data = []\n",
    "  for path_image in sorted(os.listdir(path=path)):\n",
    "    image = Image.open(path + path_image) #Открываем изображение.\n",
    "    data.append(np.array(image)) #Загружаем пиксели.\n",
    "  return data"
   ]
  },
  {
   "cell_type": "code",
   "execution_count": 5,
   "metadata": {},
   "outputs": [],
   "source": [
    "X_train = download_data(r\"train/images/\")\n",
    "Y_train = download_data(r\"train/masks/\")\n",
    "X_test = download_data(r\"test/images/\")\n",
    "Y_test = download_data(r\"test/masks/\")"
   ]
  },
  {
   "cell_type": "code",
   "execution_count": 6,
   "metadata": {},
   "outputs": [],
   "source": [
    "# задаём константы\n",
    "IMG_WIDTH = 128                       # Ширина итогового изображения\n",
    "IMG_LENGTH = 128                      # Длина итогового изображения\n",
    "IMG_SHAPE  = (IMG_WIDTH, IMG_LENGTH)  # Формат изображения (ширина, длина)\n",
    "CLASSES = 6 "
   ]
  },
  {
   "cell_type": "code",
   "execution_count": 7,
   "metadata": {},
   "outputs": [],
   "source": [
    "def resize(input_image, input_mask):\n",
    "   input_image = tf.image.resize(input_image, (IMG_WIDTH, IMG_LENGTH), method=\"nearest\")\n",
    "   input_mask = tf.image.resize(input_mask, (IMG_WIDTH, IMG_LENGTH), method=\"nearest\")\n",
    "   return input_image, input_mask"
   ]
  },
  {
   "cell_type": "code",
   "execution_count": 8,
   "metadata": {},
   "outputs": [],
   "source": [
    "X_train, Y_train = resize(X_train, Y_train)\n",
    "X_test, Y_test = resize(X_test, Y_test)"
   ]
  },
  {
   "cell_type": "markdown",
   "metadata": {},
   "source": [
    "Объявление функций предобработки и пост обработки данных\n"
   ]
  },
  {
   "cell_type": "code",
   "execution_count": 9,
   "metadata": {},
   "outputs": [],
   "source": [
    "# установка цвета полос\n",
    "palette = {0 : (60, 16, 152), # Здания\n",
    "           1 : (132, 41, 246), # Земля\n",
    "           2 : (110, 193, 228), # Дороги\n",
    "           3 : (254, 221, 58), # Растения\n",
    "           4 : (226, 169, 41), # Вода\n",
    "           5 : (155, 155, 155)} # Неразмечено\n",
    "\n",
    "# обратное преобразование цвета в метку класса\n",
    "invert_palette = {v: k for k, v in palette.items()}\n",
    "\n",
    "# преобразование выхода нейронной сети в RGB изображение\n",
    "def convert_to_color(arr_2d, palette=palette):\n",
    "    \"\"\" Числовые метки для кодирования RGB-цвета \"\"\"\n",
    "    # zeros() возвращает новый массив указанной формы и типа, заполненный нулями.\n",
    "    arr_3d = np.zeros((arr_2d.shape[0], arr_2d.shape[1], 3), dtype=np.uint8)\n",
    "\n",
    "    for c, i in palette.items():\n",
    "        m = arr_2d == c\n",
    "        arr_3d[m] = i\n",
    "\n",
    "    return arr_3d"
   ]
  },
  {
   "cell_type": "code",
   "execution_count": 10,
   "metadata": {},
   "outputs": [],
   "source": [
    "def convert_from_color(arr_3d, palette=invert_palette):\n",
    "    \"\"\" Кодирование цвета RGB в полутоновый маркер \"\"\"\n",
    "    arr_2d = np.zeros((arr_3d.shape[0], arr_3d.shape[1]), dtype=np.uint8)\n",
    "\n",
    "    # принадлежность каждого пикселя классу\n",
    "    arr_2d = np.zeros((arr_3d.shape[0], arr_3d.shape[1]), dtype=np.int8)\n",
    "\n",
    "    # расстояние до ближайшего класса для пикселей\n",
    "    min_distance = np.zeros((arr_3d.shape[0], arr_3d.shape[1]), dtype=np.float32)+1000 \n",
    "\n",
    "    for c, i in palette.items():\n",
    "      # ищем расстояние для каждого пикселя до проверяемого класса по евклиду рас-ие\n",
    "      distance = np.sum((arr_3d - np.array(c).reshape(1, 1, 3))**2, axis=-1)**(1/2) \n",
    "\n",
    "      # поиск элементов меньше min_distance\n",
    "      condition = min_distance > distance \n",
    "\n",
    "      # замена дистанции найденных элементов\n",
    "      min_distance[condition] = distance[condition] \n",
    "\n",
    "      # замена класса найденных элементов\n",
    "      arr_2d[condition] = i \n",
    "\n",
    "    for c, i in palette.items():\n",
    "      m = np.all(arr_3d == np.array(c).reshape(1, 1, 3), axis=2)\n",
    "      arr_2d[m] = i\n",
    "\n",
    "    arr_2d = arr_2d.tolist()\n",
    "    for i in range(len(arr_2d)):\n",
    "      for j in range(len(arr_2d[0])):\n",
    "        label = [0, 0, 0, 0, 0, 0]\n",
    "        label[arr_2d[i][j]] = 1\n",
    "        arr_2d[i][j] = label\n",
    "    arr_2d = np.array(arr_2d)\n",
    "\n",
    "    return arr_2d"
   ]
  },
  {
   "cell_type": "markdown",
   "metadata": {},
   "source": [
    "Предобработка исходных изображений и сегментированных изображений в ответ сети"
   ]
  },
  {
   "cell_type": "code",
   "execution_count": 11,
   "metadata": {},
   "outputs": [],
   "source": [
    "# Следующий блок кода подготавливает данные для использования нейронной сетью\n",
    "X_train_pred = np.array(X_train).reshape([7, IMG_WIDTH, IMG_LENGTH, 3])/255 \n",
    "X_test_pred = np.array(X_test).reshape([2, IMG_WIDTH, IMG_LENGTH, 3])/255   \n",
    "Y_train_pred = []\n",
    "for i in range(len(Y_train)):\n",
    "  Y_train_pred.append(convert_from_color(Y_train[i][:, :, :3]))\n",
    "Y_train_pred = np.array(Y_train_pred)\n",
    "Y_test_pred = []\n",
    "for i in range(len(Y_test)):\n",
    "  Y_test_pred.append(convert_from_color(Y_test[i][:, :, :3]))\n",
    "Y_test_pred = np.array(Y_test_pred)"
   ]
  },
  {
   "cell_type": "code",
   "execution_count": 12,
   "metadata": {},
   "outputs": [
    {
     "data": {
      "text/plain": [
       "(7, 128, 128, 3)"
      ]
     },
     "execution_count": 12,
     "metadata": {},
     "output_type": "execute_result"
    }
   ],
   "source": [
    "X_train_pred.shape"
   ]
  },
  {
   "cell_type": "markdown",
   "metadata": {},
   "source": [
    "Объявление топологии нейронной сети"
   ]
  },
  {
   "cell_type": "code",
   "execution_count": 26,
   "metadata": {},
   "outputs": [],
   "source": [
    "base_model = keras.applications.vgg16.VGG16(input_shape=(IMG_WIDTH, IMG_LENGTH, 3), include_top=False)\n",
    "\n",
    "layer_names = [\n",
    "    'block1_pool',\n",
    "    'block2_pool',\n",
    "    'block3_pool',\n",
    "    'block4_pool',\n",
    "    'block5_pool',\n",
    "]\n",
    "\n",
    "base_model_outputs = [base_model.get_layer(name).output for name in layer_names]\n",
    "base_model.trainable = False\n",
    "VGG_16 = keras.models.Model(base_model.input, base_model_outputs)"
   ]
  },
  {
   "cell_type": "code",
   "execution_count": 29,
   "metadata": {},
   "outputs": [],
   "source": [
    "def fcn8_decoder(convs, n_classes):\n",
    "    #5 слоев после работы VGG16 \n",
    "    f1, f2, f3, f4, p5 = convs\n",
    "    n = 4096\n",
    "    # две операции свертки с6 и с7\n",
    "    c6 = Conv2D (\n",
    "        n, (7, 7), activation='relu', padding='same', \n",
    "        name='conv6')(p5)\n",
    "    c7 = Conv2D (\n",
    "        n, (1, 1), activation='relu', padding='same', \n",
    "        name='conv7')(c6)\n",
    "\n",
    "    # соединяем f5 и c7\n",
    "    f5 = c7\n",
    "    # транспонируем (операция обратная сверке)\n",
    "    o = Conv2DTranspose(n_classes, kernel_size=(\n",
    "        4, 4), strides=(2, 2), use_bias=False)(f5)\n",
    "    # обрезка дополнительных пикселей\n",
    "    o = Cropping2D(cropping=(1, 1))(o)\n",
    "\n",
    "    # соединяем о2 с f4\n",
    "    o2 = f4\n",
    "    o2 = Conv2D (n_classes, (1, 1),\n",
    "                                 activation='relu', padding='same')(o2)\n",
    "\n",
    "    # добавляем информацию из слоя o2 в слой o\n",
    "    o = Add()([o, o2])\n",
    "\n",
    "    o = (Conv2DTranspose(n_classes, kernel_size=(\n",
    "        4, 4), strides=(2, 2), use_bias=False)(o))\n",
    "    o = Cropping2D(cropping=(1, 1))(o)\n",
    "\n",
    "    o2 = f3\n",
    "    o2 = Conv2D (n_classes, (1, 1),\n",
    "                                 activation='relu', padding='same')(o2)\n",
    "    o = Add()([o, o2])\n",
    "    o = (Conv2DTranspose(n_classes, kernel_size=(\n",
    "        8, 8), strides=(8, 8), use_bias=False)(o))\n",
    "    o = keras.layers.Activation('softmax')(o)\n",
    "\n",
    "    return o"
   ]
  },
  {
   "cell_type": "code",
   "execution_count": 30,
   "metadata": {},
   "outputs": [],
   "source": [
    "def segmentation_model():\n",
    "    inputs = Input(shape=(IMG_WIDTH, IMG_LENGTH, 3))\n",
    "    convs = VGG_16(inputs)\n",
    "    outputs = fcn8_decoder(convs , CLASSES)\n",
    "    model = Model(inputs=inputs, outputs=outputs)\n",
    "\n",
    "    return model\n",
    "\n",
    "\n",
    "model = segmentation_model()\n",
    "model.compile(optimizer='adam',\n",
    "              loss='categorical_crossentropy',\n",
    "              metrics=['accuracy'])"
   ]
  },
  {
   "cell_type": "code",
   "execution_count": 31,
   "metadata": {},
   "outputs": [
    {
     "name": "stdout",
     "output_type": "stream",
     "text": [
      "Epoch 1/50\n",
      "\u001b[1m7/7\u001b[0m \u001b[32m━━━━━━━━━━━━━━━━━━━━\u001b[0m\u001b[37m\u001b[0m \u001b[1m75s\u001b[0m 6s/step - accuracy: 0.1674 - loss: 2.0805 - val_accuracy: 0.1918 - val_loss: 1.8787\n",
      "Epoch 2/50\n",
      "\u001b[1m7/7\u001b[0m \u001b[32m━━━━━━━━━━━━━━━━━━━━\u001b[0m\u001b[37m\u001b[0m \u001b[1m33s\u001b[0m 5s/step - accuracy: 0.2013 - loss: 1.8320 - val_accuracy: 0.2225 - val_loss: 1.7946\n",
      "Epoch 3/50\n",
      "\u001b[1m7/7\u001b[0m \u001b[32m━━━━━━━━━━━━━━━━━━━━\u001b[0m\u001b[37m\u001b[0m \u001b[1m31s\u001b[0m 4s/step - accuracy: 0.2415 - loss: 1.7644 - val_accuracy: 0.2971 - val_loss: 1.7176\n",
      "Epoch 4/50\n",
      "\u001b[1m7/7\u001b[0m \u001b[32m━━━━━━━━━━━━━━━━━━━━\u001b[0m\u001b[37m\u001b[0m \u001b[1m25s\u001b[0m 4s/step - accuracy: 0.3177 - loss: 1.6703 - val_accuracy: 0.4069 - val_loss: 1.6182\n",
      "Epoch 5/50\n",
      "\u001b[1m7/7\u001b[0m \u001b[32m━━━━━━━━━━━━━━━━━━━━\u001b[0m\u001b[37m\u001b[0m \u001b[1m31s\u001b[0m 5s/step - accuracy: 0.4523 - loss: 1.4722 - val_accuracy: 0.5172 - val_loss: 1.4663\n",
      "Epoch 6/50\n",
      "\u001b[1m7/7\u001b[0m \u001b[32m━━━━━━━━━━━━━━━━━━━━\u001b[0m\u001b[37m\u001b[0m \u001b[1m32s\u001b[0m 5s/step - accuracy: 0.5968 - loss: 1.2217 - val_accuracy: 0.5647 - val_loss: 1.3607\n",
      "Epoch 7/50\n",
      "\u001b[1m7/7\u001b[0m \u001b[32m━━━━━━━━━━━━━━━━━━━━\u001b[0m\u001b[37m\u001b[0m \u001b[1m34s\u001b[0m 5s/step - accuracy: 0.6088 - loss: 1.1887 - val_accuracy: 0.5968 - val_loss: 1.2696\n",
      "Epoch 8/50\n",
      "\u001b[1m7/7\u001b[0m \u001b[32m━━━━━━━━━━━━━━━━━━━━\u001b[0m\u001b[37m\u001b[0m \u001b[1m33s\u001b[0m 5s/step - accuracy: 0.6903 - loss: 0.9784 - val_accuracy: 0.6017 - val_loss: 1.2443\n",
      "Epoch 9/50\n",
      "\u001b[1m7/7\u001b[0m \u001b[32m━━━━━━━━━━━━━━━━━━━━\u001b[0m\u001b[37m\u001b[0m \u001b[1m32s\u001b[0m 4s/step - accuracy: 0.6794 - loss: 0.9549 - val_accuracy: 0.6048 - val_loss: 1.2539\n",
      "Epoch 10/50\n",
      "\u001b[1m7/7\u001b[0m \u001b[32m━━━━━━━━━━━━━━━━━━━━\u001b[0m\u001b[37m\u001b[0m \u001b[1m31s\u001b[0m 5s/step - accuracy: 0.5856 - loss: 1.1239 - val_accuracy: 0.6035 - val_loss: 1.1578\n",
      "Epoch 11/50\n",
      "\u001b[1m7/7\u001b[0m \u001b[32m━━━━━━━━━━━━━━━━━━━━\u001b[0m\u001b[37m\u001b[0m \u001b[1m32s\u001b[0m 5s/step - accuracy: 0.5756 - loss: 1.0977 - val_accuracy: 0.6044 - val_loss: 1.1526\n",
      "Epoch 12/50\n",
      "\u001b[1m7/7\u001b[0m \u001b[32m━━━━━━━━━━━━━━━━━━━━\u001b[0m\u001b[37m\u001b[0m \u001b[1m32s\u001b[0m 5s/step - accuracy: 0.6367 - loss: 0.9785 - val_accuracy: 0.6037 - val_loss: 1.1457\n",
      "Epoch 13/50\n",
      "\u001b[1m7/7\u001b[0m \u001b[32m━━━━━━━━━━━━━━━━━━━━\u001b[0m\u001b[37m\u001b[0m \u001b[1m35s\u001b[0m 5s/step - accuracy: 0.7159 - loss: 0.7983 - val_accuracy: 0.6052 - val_loss: 1.1473\n",
      "Epoch 14/50\n",
      "\u001b[1m7/7\u001b[0m \u001b[32m━━━━━━━━━━━━━━━━━━━━\u001b[0m\u001b[37m\u001b[0m \u001b[1m30s\u001b[0m 4s/step - accuracy: 0.6600 - loss: 0.9008 - val_accuracy: 0.6034 - val_loss: 1.1221\n",
      "Epoch 15/50\n",
      "\u001b[1m7/7\u001b[0m \u001b[32m━━━━━━━━━━━━━━━━━━━━\u001b[0m\u001b[37m\u001b[0m \u001b[1m27s\u001b[0m 4s/step - accuracy: 0.6335 - loss: 0.9474 - val_accuracy: 0.6021 - val_loss: 1.1227\n",
      "Epoch 16/50\n",
      "\u001b[1m7/7\u001b[0m \u001b[32m━━━━━━━━━━━━━━━━━━━━\u001b[0m\u001b[37m\u001b[0m \u001b[1m32s\u001b[0m 5s/step - accuracy: 0.6788 - loss: 0.8504 - val_accuracy: 0.6096 - val_loss: 1.1139\n",
      "Epoch 17/50\n",
      "\u001b[1m7/7\u001b[0m \u001b[32m━━━━━━━━━━━━━━━━━━━━\u001b[0m\u001b[37m\u001b[0m \u001b[1m32s\u001b[0m 5s/step - accuracy: 0.7278 - loss: 0.7398 - val_accuracy: 0.6081 - val_loss: 1.0925\n",
      "Epoch 18/50\n",
      "\u001b[1m7/7\u001b[0m \u001b[32m━━━━━━━━━━━━━━━━━━━━\u001b[0m\u001b[37m\u001b[0m \u001b[1m32s\u001b[0m 5s/step - accuracy: 0.7434 - loss: 0.6987 - val_accuracy: 0.6015 - val_loss: 1.1784\n",
      "Epoch 19/50\n",
      "\u001b[1m7/7\u001b[0m \u001b[32m━━━━━━━━━━━━━━━━━━━━\u001b[0m\u001b[37m\u001b[0m \u001b[1m30s\u001b[0m 4s/step - accuracy: 0.6862 - loss: 0.8191 - val_accuracy: 0.6236 - val_loss: 1.0171\n",
      "Epoch 20/50\n",
      "\u001b[1m7/7\u001b[0m \u001b[32m━━━━━━━━━━━━━━━━━━━━\u001b[0m\u001b[37m\u001b[0m \u001b[1m33s\u001b[0m 5s/step - accuracy: 0.7238 - loss: 0.7490 - val_accuracy: 0.6093 - val_loss: 1.1818\n",
      "Epoch 21/50\n",
      "\u001b[1m7/7\u001b[0m \u001b[32m━━━━━━━━━━━━━━━━━━━━\u001b[0m\u001b[37m\u001b[0m \u001b[1m25s\u001b[0m 4s/step - accuracy: 0.6734 - loss: 0.8350 - val_accuracy: 0.6178 - val_loss: 1.0860\n",
      "Epoch 22/50\n",
      "\u001b[1m7/7\u001b[0m \u001b[32m━━━━━━━━━━━━━━━━━━━━\u001b[0m\u001b[37m\u001b[0m \u001b[1m24s\u001b[0m 3s/step - accuracy: 0.7031 - loss: 0.7498 - val_accuracy: 0.6012 - val_loss: 1.1219\n",
      "Epoch 23/50\n",
      "\u001b[1m7/7\u001b[0m \u001b[32m━━━━━━━━━━━━━━━━━━━━\u001b[0m\u001b[37m\u001b[0m \u001b[1m24s\u001b[0m 3s/step - accuracy: 0.7254 - loss: 0.6864 - val_accuracy: 0.6206 - val_loss: 1.0505\n",
      "Epoch 24/50\n",
      "\u001b[1m7/7\u001b[0m \u001b[32m━━━━━━━━━━━━━━━━━━━━\u001b[0m\u001b[37m\u001b[0m \u001b[1m25s\u001b[0m 4s/step - accuracy: 0.7263 - loss: 0.7068 - val_accuracy: 0.6135 - val_loss: 1.1442\n",
      "Epoch 25/50\n",
      "\u001b[1m7/7\u001b[0m \u001b[32m━━━━━━━━━━━━━━━━━━━━\u001b[0m\u001b[37m\u001b[0m \u001b[1m21s\u001b[0m 3s/step - accuracy: 0.7243 - loss: 0.7191 - val_accuracy: 0.6409 - val_loss: 1.0091\n",
      "Epoch 26/50\n",
      "\u001b[1m7/7\u001b[0m \u001b[32m━━━━━━━━━━━━━━━━━━━━\u001b[0m\u001b[37m\u001b[0m \u001b[1m26s\u001b[0m 4s/step - accuracy: 0.7303 - loss: 0.6878 - val_accuracy: 0.6136 - val_loss: 1.1677\n",
      "Epoch 27/50\n",
      "\u001b[1m7/7\u001b[0m \u001b[32m━━━━━━━━━━━━━━━━━━━━\u001b[0m\u001b[37m\u001b[0m \u001b[1m33s\u001b[0m 5s/step - accuracy: 0.7076 - loss: 0.7241 - val_accuracy: 0.6146 - val_loss: 1.1370\n",
      "Epoch 28/50\n",
      "\u001b[1m7/7\u001b[0m \u001b[32m━━━━━━━━━━━━━━━━━━━━\u001b[0m\u001b[37m\u001b[0m \u001b[1m32s\u001b[0m 5s/step - accuracy: 0.7495 - loss: 0.6655 - val_accuracy: 0.6357 - val_loss: 1.0088\n",
      "Epoch 29/50\n",
      "\u001b[1m7/7\u001b[0m \u001b[32m━━━━━━━━━━━━━━━━━━━━\u001b[0m\u001b[37m\u001b[0m \u001b[1m32s\u001b[0m 5s/step - accuracy: 0.7520 - loss: 0.6250 - val_accuracy: 0.6170 - val_loss: 1.0914\n",
      "Epoch 30/50\n",
      "\u001b[1m7/7\u001b[0m \u001b[32m━━━━━━━━━━━━━━━━━━━━\u001b[0m\u001b[37m\u001b[0m \u001b[1m32s\u001b[0m 5s/step - accuracy: 0.7474 - loss: 0.6292 - val_accuracy: 0.6258 - val_loss: 1.0596\n",
      "Epoch 31/50\n",
      "\u001b[1m7/7\u001b[0m \u001b[32m━━━━━━━━━━━━━━━━━━━━\u001b[0m\u001b[37m\u001b[0m \u001b[1m31s\u001b[0m 4s/step - accuracy: 0.7757 - loss: 0.5529 - val_accuracy: 0.6240 - val_loss: 1.0852\n",
      "Epoch 32/50\n",
      "\u001b[1m7/7\u001b[0m \u001b[32m━━━━━━━━━━━━━━━━━━━━\u001b[0m\u001b[37m\u001b[0m \u001b[1m33s\u001b[0m 5s/step - accuracy: 0.7490 - loss: 0.6327 - val_accuracy: 0.6202 - val_loss: 1.1353\n",
      "Epoch 33/50\n",
      "\u001b[1m7/7\u001b[0m \u001b[32m━━━━━━━━━━━━━━━━━━━━\u001b[0m\u001b[37m\u001b[0m \u001b[1m33s\u001b[0m 5s/step - accuracy: 0.7695 - loss: 0.5804 - val_accuracy: 0.6193 - val_loss: 1.0876\n",
      "Epoch 34/50\n",
      "\u001b[1m7/7\u001b[0m \u001b[32m━━━━━━━━━━━━━━━━━━━━\u001b[0m\u001b[37m\u001b[0m \u001b[1m31s\u001b[0m 4s/step - accuracy: 0.7870 - loss: 0.5136 - val_accuracy: 0.6152 - val_loss: 1.2069\n",
      "Epoch 35/50\n",
      "\u001b[1m7/7\u001b[0m \u001b[32m━━━━━━━━━━━━━━━━━━━━\u001b[0m\u001b[37m\u001b[0m \u001b[1m28s\u001b[0m 4s/step - accuracy: 0.7936 - loss: 0.5044 - val_accuracy: 0.6313 - val_loss: 1.0557\n",
      "Epoch 36/50\n",
      "\u001b[1m7/7\u001b[0m \u001b[32m━━━━━━━━━━━━━━━━━━━━\u001b[0m\u001b[37m\u001b[0m \u001b[1m22s\u001b[0m 3s/step - accuracy: 0.7783 - loss: 0.5285 - val_accuracy: 0.6141 - val_loss: 1.2803\n",
      "Epoch 37/50\n",
      "\u001b[1m7/7\u001b[0m \u001b[32m━━━━━━━━━━━━━━━━━━━━\u001b[0m\u001b[37m\u001b[0m \u001b[1m28s\u001b[0m 4s/step - accuracy: 0.7836 - loss: 0.5432 - val_accuracy: 0.6374 - val_loss: 1.0504\n",
      "Epoch 38/50\n",
      "\u001b[1m7/7\u001b[0m \u001b[32m━━━━━━━━━━━━━━━━━━━━\u001b[0m\u001b[37m\u001b[0m \u001b[1m28s\u001b[0m 4s/step - accuracy: 0.7875 - loss: 0.5370 - val_accuracy: 0.6199 - val_loss: 1.1929\n",
      "Epoch 39/50\n",
      "\u001b[1m7/7\u001b[0m \u001b[32m━━━━━━━━━━━━━━━━━━━━\u001b[0m\u001b[37m\u001b[0m \u001b[1m29s\u001b[0m 4s/step - accuracy: 0.8037 - loss: 0.4775 - val_accuracy: 0.6242 - val_loss: 1.1144\n",
      "Epoch 40/50\n",
      "\u001b[1m7/7\u001b[0m \u001b[32m━━━━━━━━━━━━━━━━━━━━\u001b[0m\u001b[37m\u001b[0m \u001b[1m28s\u001b[0m 4s/step - accuracy: 0.7571 - loss: 0.5879 - val_accuracy: 0.6209 - val_loss: 1.1869\n",
      "Epoch 41/50\n",
      "\u001b[1m7/7\u001b[0m \u001b[32m━━━━━━━━━━━━━━━━━━━━\u001b[0m\u001b[37m\u001b[0m \u001b[1m28s\u001b[0m 4s/step - accuracy: 0.8001 - loss: 0.4871 - val_accuracy: 0.6248 - val_loss: 1.0764\n",
      "Epoch 42/50\n",
      "\u001b[1m7/7\u001b[0m \u001b[32m━━━━━━━━━━━━━━━━━━━━\u001b[0m\u001b[37m\u001b[0m \u001b[1m29s\u001b[0m 4s/step - accuracy: 0.7739 - loss: 0.5461 - val_accuracy: 0.6281 - val_loss: 1.0880\n",
      "Epoch 43/50\n",
      "\u001b[1m7/7\u001b[0m \u001b[32m━━━━━━━━━━━━━━━━━━━━\u001b[0m\u001b[37m\u001b[0m \u001b[1m29s\u001b[0m 4s/step - accuracy: 0.7824 - loss: 0.5284 - val_accuracy: 0.6226 - val_loss: 1.1141\n",
      "Epoch 44/50\n",
      "\u001b[1m7/7\u001b[0m \u001b[32m━━━━━━━━━━━━━━━━━━━━\u001b[0m\u001b[37m\u001b[0m \u001b[1m29s\u001b[0m 4s/step - accuracy: 0.8128 - loss: 0.4676 - val_accuracy: 0.6447 - val_loss: 1.0271\n",
      "Epoch 45/50\n",
      "\u001b[1m7/7\u001b[0m \u001b[32m━━━━━━━━━━━━━━━━━━━━\u001b[0m\u001b[37m\u001b[0m \u001b[1m41s\u001b[0m 4s/step - accuracy: 0.7671 - loss: 0.5565 - val_accuracy: 0.6178 - val_loss: 1.1563\n",
      "Epoch 46/50\n",
      "\u001b[1m7/7\u001b[0m \u001b[32m━━━━━━━━━━━━━━━━━━━━\u001b[0m\u001b[37m\u001b[0m \u001b[1m22s\u001b[0m 3s/step - accuracy: 0.8107 - loss: 0.4772 - val_accuracy: 0.6328 - val_loss: 1.0705\n",
      "Epoch 47/50\n",
      "\u001b[1m7/7\u001b[0m \u001b[32m━━━━━━━━━━━━━━━━━━━━\u001b[0m\u001b[37m\u001b[0m \u001b[1m17s\u001b[0m 2s/step - accuracy: 0.8000 - loss: 0.4882 - val_accuracy: 0.6376 - val_loss: 1.0425\n",
      "Epoch 48/50\n",
      "\u001b[1m7/7\u001b[0m \u001b[32m━━━━━━━━━━━━━━━━━━━━\u001b[0m\u001b[37m\u001b[0m \u001b[1m15s\u001b[0m 2s/step - accuracy: 0.8034 - loss: 0.4692 - val_accuracy: 0.6216 - val_loss: 1.1602\n",
      "Epoch 49/50\n",
      "\u001b[1m7/7\u001b[0m \u001b[32m━━━━━━━━━━━━━━━━━━━━\u001b[0m\u001b[37m\u001b[0m \u001b[1m14s\u001b[0m 2s/step - accuracy: 0.8098 - loss: 0.4538 - val_accuracy: 0.6416 - val_loss: 1.0370\n",
      "Epoch 50/50\n",
      "\u001b[1m7/7\u001b[0m \u001b[32m━━━━━━━━━━━━━━━━━━━━\u001b[0m\u001b[37m\u001b[0m \u001b[1m16s\u001b[0m 2s/step - accuracy: 0.8152 - loss: 0.4403 - val_accuracy: 0.6201 - val_loss: 1.1484\n",
      "CPU times: total: 43min 8s\n",
      "Wall time: 24min 36s\n"
     ]
    }
   ],
   "source": [
    "%%time\n",
    "history = model.fit(X_train_pred, Y_train_pred, batch_size=1, epochs=50, \n",
    "                    validation_data=(X_test_pred, Y_test_pred))\n",
    "\n"
   ]
  },
  {
   "cell_type": "code",
   "execution_count": null,
   "metadata": {},
   "outputs": [],
   "source": [
    "model.save('./save_model/model.h5')"
   ]
  },
  {
   "cell_type": "markdown",
   "metadata": {},
   "source": [
    "### Отрисовка точности модели (при обучении и на тестовых данных)"
   ]
  },
  {
   "cell_type": "code",
   "execution_count": 38,
   "metadata": {},
   "outputs": [
    {
     "data": {
      "image/png": "[encoded data removed]",
      "text/plain": [
       "<Figure size 640x480 with 1 Axes>"
      ]
     },
     "metadata": {},
     "output_type": "display_data"
    }
   ],
   "source": [
    "plt.plot(history.history['accuracy'])\n",
    "plt.plot(history.history['val_accuracy'])\n",
    "plt.title('Точность модели')\n",
    "plt.ylabel('точность')\n",
    "plt.xlabel('количество эпох')\n",
    "plt.legend(['train', 'test'], loc='upper left')\n",
    "plt.show()"
   ]
  },
  {
   "cell_type": "code",
   "execution_count": null,
   "metadata": {},
   "outputs": [],
   "source": [
    "# Делаем сегментацию для двух тестовых картинок\n",
    "out = model.predict(X_test_pred[:2], batch_size=1)"
   ]
  },
  {
   "cell_type": "code",
   "execution_count": null,
   "metadata": {},
   "outputs": [],
   "source": [
    "# Выведем 2-е тестовые картинки\n",
    "for i in range(2):\n",
    "    plt.subplot(1, 2, i+1)\n",
    "    plt.imshow(convert_to_color(np.argmax(Y_test_pred[i], axis=-1)))\n",
    "plt.suptitle('Желаемый результат сегментации', fontsize=19, fontweight='bold')\n",
    "plt.tight_layout()\n",
    "plt.show()\n",
    "\n",
    "# Выведем 2-е картинки полученые методом predict\n",
    "for i in range(2):\n",
    "    plt.subplot(1, 2, i+1)\n",
    "    plt.imshow(convert_to_color(np.argmax(out[i], axis=-1)))\n",
    "plt.suptitle('Полученный результат сегментации', fontsize=19, fontweight='bold')\n",
    "plt.tight_layout()\n",
    "plt.show()"
   ]
  },
  {
   "cell_type": "markdown",
   "metadata": {},
   "source": [
    "Вывод: Данное исследование было проведено с помощью модели НС из семинара. В качестве энкодинга использовалась готовая модель VGG16. На обучающих данных был показан результат чуть выше 83%, на тестовых модель застопорилась на 60% (с чем это связано не пойму). Полученный результат сегментации мало похож на ожидаемый"
   ]
  }
 ],
 "metadata": {
  "kernelspec": {
   "display_name": "Python 3",
   "language": "python",
   "name": "python3"
  },
  "language_info": {
   "codemirror_mode": {
    "name": "ipython",
    "version": 3
   },
   "file_extension": ".py",
   "mimetype": "text/x-python",
   "name": "python",
   "nbconvert_exporter": "python",
   "pygments_lexer": "ipython3",
   "version": "3.10.9"
  }
 },
 "nbformat": 4,
 "nbformat_minor": 2
}
