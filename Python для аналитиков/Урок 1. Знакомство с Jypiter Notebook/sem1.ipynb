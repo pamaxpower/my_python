{
 "cells": [
  {
   "cell_type": "code",
   "execution_count": 12,
   "id": "856bc542",
   "metadata": {
    "vscode": {
     "languageId": "plaintext"
    }
   },
   "outputs": [
    {
     "data": {
      "text/plain": [
       "[81, 14, 3, 94, 35]"
      ]
     },
     "execution_count": 12,
     "metadata": {},
     "output_type": "execute_result"
    }
   ],
   "source": [
    "from random import randint, seed\n",
    "seed(42)\n",
    "data = [randint(0,100) for i in range(5)]\n",
    "data"
   ]
  },
  {
   "cell_type": "code",
   "execution_count": 24,
   "id": "3763594b",
   "metadata": {},
   "outputs": [],
   "source": [
    "import time\n",
    "import random\n",
    "def generator(data: list):\n",
    "    last_time = None\n",
    "    for item in data:\n",
    "        curreent_time = time.time()\n",
    "        if last_time:\n",
    "            delta = curreent_time = last_time\n",
    "        else:\n",
    "            delta = 0\n",
    "        last_time = time.time()\n",
    "        yield(delta, item)"
   ]
  },
  {
   "cell_type": "code",
   "execution_count": 25,
   "id": "26b74fbf",
   "metadata": {},
   "outputs": [
    {
     "name": "stdout",
     "output_type": "stream",
     "text": [
      "(0, 81) (1681718571.9947333, 14) (1681718571.9947333, 3) (1681718571.9947333, 94) (1681718571.9947333, 35)\n"
     ]
    }
   ],
   "source": [
    "print(*generator(data))"
   ]
  },
  {
   "cell_type": "code",
   "execution_count": 26,
   "id": "7fe70fe2",
   "metadata": {},
   "outputs": [
    {
     "name": "stdout",
     "output_type": "stream",
     "text": [
      "(0, 81)\n",
      "(1681718573.1899028, 14)\n",
      "(1681718575.1935356, 3)\n",
      "(1681718577.203109, 94)\n",
      "(1681718579.2156882, 35)\n"
     ]
    }
   ],
   "source": [
    "for obj in generator(data):\n",
    "    print(obj)\n",
    "    time.sleep(2)"
   ]
  },
  {
   "cell_type": "code",
   "execution_count": null,
   "id": "b4c073d2",
   "metadata": {},
   "outputs": [],
   "source": []
  }
 ],
 "metadata": {
  "kernelspec": {
   "display_name": "Python 3 (ipykernel)",
   "language": "python",
   "name": "python3"
  },
  "language_info": {
   "codemirror_mode": {
    "name": "ipython",
    "version": 3
   },
   "file_extension": ".py",
   "mimetype": "text/x-python",
   "name": "python",
   "nbconvert_exporter": "python",
   "pygments_lexer": "ipython3",
   "version": "3.9.13"
  }
 },
 "nbformat": 4,
 "nbformat_minor": 5
}
