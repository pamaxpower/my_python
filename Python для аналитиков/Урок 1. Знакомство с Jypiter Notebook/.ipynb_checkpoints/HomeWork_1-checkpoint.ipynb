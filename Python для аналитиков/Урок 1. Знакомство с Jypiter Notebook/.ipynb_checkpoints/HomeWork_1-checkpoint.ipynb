{
 "cells": [
  {
   "cell_type": "markdown",
   "id": "01eb1ce9",
   "metadata": {},
   "source": [
    "## Задача 1:\n",
    "### Оформляйте ноутбук, используя эти советы:\n",
    "* Номер задачи - заголовок 2\n",
    "* Номер подзадачи - заголовок 3\n",
    "* Предоставленные наборы данных оформляйте, как код <br><br>\n",
    " **Рекомендации для преподавателей по оценке задания:**\\\n",
    "_Смотреть, чтобы студент красиво оформлял ноутбук, использовал ячейки с текстом, указывал номера заданий_ <br>\n",
    "\n",
    "\n",
    "Можем вставить картинку:\\\n",
    "<img src='https://cs6.pikabu.ru/avatars/409/v409810-1556321266.jpg'>\n",
    "\n",
    "\n",
    "\n",
    "Или сделать таблицу:\n",
    "\n",
    "<table>\n",
    "    <tr>\n",
    "        <td></td>\n",
    "        <td>Фактор A</td>\n",
    "        <td>Фактор B</td>\n",
    "    </tr>\n",
    "    <tr>\n",
    "        <td>Фактор A</td>\n",
    "        <td>AA</td>\n",
    "        <td>AB</td>\n",
    "    </tr>\n",
    "    <tr>\n",
    "        <td>Фактор B</td>\n",
    "        <td>BA</td>\n",
    "        <td>BB</td>\n",
    "    </tr>\n",
    "</table>"
   ]
  },
  {
   "cell_type": "markdown",
   "id": "65f9e448",
   "metadata": {},
   "source": [
    "## Задача 2:\n",
    "### На складе лежат разные фрукты в разном количестве. Нужно написать функцию, которая на вход принимает любое количество названий фруктов и их количество, а возвращает общее количество фруктов на складе"
   ]
  },
  {
   "cell_type": "code",
   "execution_count": 1,
   "id": "80879dd4",
   "metadata": {},
   "outputs": [],
   "source": [
    "def count_fruits(**fruits) -> int:\n",
    "    sum = 0\n",
    "    for key, value in fruits.items():\n",
    "        sum += value\n",
    "    print(f'Всего на складе {sum} фруктов')\n"
   ]
  },
  {
   "cell_type": "code",
   "execution_count": 2,
   "id": "9088c1e8",
   "metadata": {},
   "outputs": [
    {
     "name": "stdout",
     "output_type": "stream",
     "text": [
      "Всего на складе 29 фруктов\n"
     ]
    }
   ],
   "source": [
    "count_fruits(banana=5, apple=7, melon=3, lemon=6, orange=8)"
   ]
  },
  {
   "cell_type": "markdown",
   "id": "41ddeb17",
   "metadata": {},
   "source": [
    "## Задача 3:\n",
    "### Дан список с затратами на рекламу. Но в данных есть ошибки, некоторые затраты имеют отрицательную величину. Удалите такие значения из списка и посчитайте суммарные затраты [100, 125, -90, 345, 655, -1, 0, 200]. Используйте list comprehensions"
   ]
  },
  {
   "cell_type": "code",
   "execution_count": 3,
   "id": "9d14d054",
   "metadata": {},
   "outputs": [
    {
     "data": {
      "text/plain": [
       "[100, 125, 345, 655, 200]"
      ]
     },
     "execution_count": 3,
     "metadata": {},
     "output_type": "execute_result"
    }
   ],
   "source": [
    "costs = [100, 125, -90, 345, 655, -1, 0, 200]\n",
    "lst = [i for i in costs if i > 0]\n",
    "lst"
   ]
  },
  {
   "cell_type": "code",
   "execution_count": 4,
   "id": "51e4ba3a",
   "metadata": {},
   "outputs": [
    {
     "name": "stdout",
     "output_type": "stream",
     "text": [
      "1425\n"
     ]
    }
   ],
   "source": [
    "print(sum(lst))"
   ]
  },
  {
   "cell_type": "markdown",
   "id": "e655b65f",
   "metadata": {},
   "source": [
    "## Задача 4.\n",
    "### Даны два списка. Дата покупки и Суммы покупок по датам.\n",
    "### 4.1 Найдите, какая выручка у компании в ноябре. Используйте list comprehensions ### 4.2 Найдите выручку компании в зависимости от месяца. Для этого напишите функцию, которая на вход принимает список с датами и список с выручкой, а на выходе словарь, где ключи - это месяцы, а значения - это выручка. Используйте аннотирование типов."
   ]
  },
  {
   "cell_type": "code",
   "execution_count": 5,
   "id": "152c2cd0",
   "metadata": {},
   "outputs": [],
   "source": [
    "data = ['2021-09-14', '2021-12-15', '2021-09-08', '2021-12-05', '2021-10-09', '2021-09-30', \n",
    "        '2021-12-22', '2021-11-29', '2021-12-24', '2021-11-26', '2021-10-27', '2021-12-18', \n",
    "        '2021-11-09', '2021-11-23', '2021-09-27', '2021-10-02', '2021-12-27', '2021-09-20', \n",
    "        '2021-12-13', '2021-11-01', '2021-11-09', '2021-12-06', '2021-12-08', '2021-10-09', \n",
    "        '2021-10-31', '2021-09-30', '2021-11-09', '2021-12-13', '2021-10-26', '2021-12-09']\n",
    "spend = [1270, 8413, 9028, 3703, 5739, 4095, 295, 4944, 5723, 3701, \n",
    "        4471, 651, 7037, 4274, 6275, 4988, 6930, 2971, 6592, 2004, \n",
    "        2822, 519, 3406, 2732, 5015, 2008, 316, 6333, 5700, 2887]"
   ]
  },
  {
   "cell_type": "code",
   "execution_count": 6,
   "id": "b545b86c",
   "metadata": {},
   "outputs": [
    {
     "name": "stdout",
     "output_type": "stream",
     "text": [
      "В ноябре компания потратила: 25098\n"
     ]
    }
   ],
   "source": [
    "print(f'В ноябре компания потратила: {sum([spend[i] for i in range(len(data)) if int(data[i].split(\"-\")[1])==11])}')"
   ]
  },
  {
   "cell_type": "code",
   "execution_count": 7,
   "id": "4dd1fcb5",
   "metadata": {},
   "outputs": [
    {
     "data": {
      "text/plain": [
       "{'Январь': 0,\n",
       " 'Февраль': 0,\n",
       " 'Март': 0,\n",
       " 'Апрель': 0,\n",
       " 'Май': 0,\n",
       " 'Bюнь': 0,\n",
       " 'Июль': 0,\n",
       " 'Август': 0,\n",
       " 'Сентябрь': 25647,\n",
       " 'Октябрь': 28645,\n",
       " 'Ноябрь': 25098,\n",
       " 'Декабрь': 45452}"
      ]
     },
     "execution_count": 7,
     "metadata": {},
     "output_type": "execute_result"
    }
   ],
   "source": [
    "def month_revenue(date: list, revenue: list) -> dict:\n",
    "    month = ['Январь', 'Февраль', 'Март', 'Апрель', 'Май', 'Июнь',\n",
    "             'Июль', 'Август', 'Сентябрь', 'Октябрь', 'Ноябрь', 'Декабрь']\n",
    "    result = {}\n",
    "    for j in range(len(month)):\n",
    "        result.setdefault(month[j], sum([revenue[i] for i in range(len(date)) if int(date[i].split(\"-\")[1])==j+1]))\n",
    "    return result\n",
    "month_revenue(data, spend)"
   ]
  }
 ],
 "metadata": {
  "kernelspec": {
   "display_name": "Python 3 (ipykernel)",
   "language": "python",
   "name": "python3"
  },
  "language_info": {
   "codemirror_mode": {
    "name": "ipython",
    "version": 3
   },
   "file_extension": ".py",
   "mimetype": "text/x-python",
   "name": "python",
   "nbconvert_exporter": "python",
   "pygments_lexer": "ipython3",
   "version": "3.9.13"
  }
 },
 "nbformat": 4,
 "nbformat_minor": 5
}
