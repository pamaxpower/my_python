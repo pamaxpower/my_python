{
 "cells": [
  {
   "cell_type": "code",
   "execution_count": 1,
   "id": "019a5298",
   "metadata": {},
   "outputs": [],
   "source": [
    "def some_function(x):\n",
    "    return x * 2"
   ]
  },
  {
   "cell_type": "code",
   "execution_count": 3,
   "id": "5714d830",
   "metadata": {},
   "outputs": [
    {
     "data": {
      "text/plain": [
       "50"
      ]
     },
     "execution_count": 3,
     "metadata": {},
     "output_type": "execute_result"
    }
   ],
   "source": [
    "some_function(25)"
   ]
  },
  {
   "cell_type": "markdown",
   "id": "bd74ca3b",
   "metadata": {},
   "source": [
    "Анонимная lambda-функция используется, если простая функция в коде встречается всего 1 раз.\\\n",
    "Систактис: **lambda 'переменная': 'выражение'**"
   ]
  },
  {
   "cell_type": "code",
   "execution_count": 4,
   "id": "35247a42",
   "metadata": {},
   "outputs": [],
   "source": [
    "lambda_function = lambda x: x * 2"
   ]
  },
  {
   "cell_type": "code",
   "execution_count": 7,
   "id": "a14adcb7",
   "metadata": {},
   "outputs": [
    {
     "name": "stdout",
     "output_type": "stream",
     "text": [
      "30\n"
     ]
    }
   ],
   "source": [
    "f1 = lambda: 10 + 20\n",
    "print(f1())"
   ]
  },
  {
   "cell_type": "markdown",
   "id": "2db2d9fe",
   "metadata": {},
   "source": [
    "для двух переменных:"
   ]
  },
  {
   "cell_type": "code",
   "execution_count": 2,
   "id": "c692f9ce",
   "metadata": {},
   "outputs": [],
   "source": [
    "def some_function(x, y):\n",
    "    return x + y"
   ]
  },
  {
   "cell_type": "code",
   "execution_count": 3,
   "id": "eb132fde",
   "metadata": {},
   "outputs": [
    {
     "name": "stdout",
     "output_type": "stream",
     "text": [
      "25\n"
     ]
    }
   ],
   "source": [
    "f2 = lambda х, у: х + у\n",
    "print(f2(15, 10))"
   ]
  },
  {
   "cell_type": "markdown",
   "id": "a1c87a2b",
   "metadata": {},
   "source": [
    "для строк:"
   ]
  },
  {
   "cell_type": "code",
   "execution_count": 5,
   "id": "37e25d80",
   "metadata": {},
   "outputs": [
    {
     "name": "stdout",
     "output_type": "stream",
     "text": [
      "5_10_30\n"
     ]
    }
   ],
   "source": [
    "f3 = lambda х: х.replace(', ', '_')\n",
    "print(f3('5, 10, 30'))"
   ]
  },
  {
   "cell_type": "code",
   "execution_count": 6,
   "id": "2405048a",
   "metadata": {},
   "outputs": [
    {
     "name": "stdout",
     "output_type": "stream",
     "text": [
      "5, 10, 305, 10, 30\n"
     ]
    }
   ],
   "source": [
    "f3 = lambda х, y: х * y\n",
    "print(f3('5, 10, 30', 2))"
   ]
  },
  {
   "cell_type": "markdown",
   "id": "caf107bb",
   "metadata": {},
   "source": [
    "Для замены функций:"
   ]
  },
  {
   "cell_type": "code",
   "execution_count": 15,
   "id": "5957f502",
   "metadata": {},
   "outputs": [],
   "source": [
    "def compare_by_second(point):\n",
    "    return point[1]"
   ]
  },
  {
   "cell_type": "code",
   "execution_count": 16,
   "id": "f4af9127",
   "metadata": {},
   "outputs": [],
   "source": [
    "def compare_by_sum(point):\n",
    "    return point[0] + point[1]"
   ]
  },
  {
   "cell_type": "code",
   "execution_count": 17,
   "id": "0c37b485",
   "metadata": {},
   "outputs": [],
   "source": [
    "points = [(1, -1), (2, 3), (-10, 15), (10, 9), (7, 18), (1, 5), (2, -4)]"
   ]
  },
  {
   "cell_type": "code",
   "execution_count": 18,
   "id": "ce9fd213",
   "metadata": {},
   "outputs": [
    {
     "name": "stdout",
     "output_type": "stream",
     "text": [
      "[(-10, 15), (1, -1), (1, 5), (2, -4), (2, 3), (7, 18), (10, 9)]\n"
     ]
    }
   ],
   "source": [
    "print(sorted(points)) # сортировка пойдет по первой коррдинате"
   ]
  },
  {
   "cell_type": "code",
   "execution_count": 19,
   "id": "a4fccd38",
   "metadata": {},
   "outputs": [
    {
     "name": "stdout",
     "output_type": "stream",
     "text": [
      "[(2, -4), (1, -1), (2, 3), (1, 5), (10, 9), (-10, 15), (7, 18)]\n"
     ]
    }
   ],
   "source": [
    "print(sorted(points, key=compare_by_second)) # по второй координате"
   ]
  },
  {
   "cell_type": "code",
   "execution_count": 20,
   "id": "12141bbc",
   "metadata": {
    "scrolled": true
   },
   "outputs": [
    {
     "name": "stdout",
     "output_type": "stream",
     "text": [
      "[(2, -4), (1, -1), (2, 3), (-10, 15), (1, 5), (10, 9), (7, 18)]\n"
     ]
    }
   ],
   "source": [
    "print(sorted(points, key=compare_by_sum)) # по сумме координат"
   ]
  },
  {
   "cell_type": "markdown",
   "id": "1ee46555",
   "metadata": {},
   "source": [
    "через лямбду:"
   ]
  },
  {
   "cell_type": "code",
   "execution_count": 23,
   "id": "c624489a",
   "metadata": {},
   "outputs": [
    {
     "name": "stdout",
     "output_type": "stream",
     "text": [
      "[(2, -4), (1, -1), (2, 3), (1, 5), (10, 9), (-10, 15), (7, 18)]\n"
     ]
    }
   ],
   "source": [
    "print(sorted(points, key=lambda point: point[1]))"
   ]
  },
  {
   "cell_type": "code",
   "execution_count": 24,
   "id": "36bdde50",
   "metadata": {},
   "outputs": [
    {
     "name": "stdout",
     "output_type": "stream",
     "text": [
      "[(2, -4), (1, -1), (2, 3), (-10, 15), (1, 5), (10, 9), (7, 18)]\n"
     ]
    }
   ],
   "source": [
    "print(sorted(points, key=lambda point: point[0] + point[1]))"
   ]
  },
  {
   "cell_type": "markdown",
   "id": "b816547e",
   "metadata": {},
   "source": [
    "с *args и *kwargs:"
   ]
  },
  {
   "cell_type": "code",
   "execution_count": 25,
   "id": "00fe0ae6",
   "metadata": {},
   "outputs": [
    {
     "name": "stdout",
     "output_type": "stream",
     "text": [
      "15\n"
     ]
    }
   ],
   "source": [
    "foo = lambda *argument: sum(argument)\n",
    "print(foo(1,2,3,4,5))"
   ]
  },
  {
   "cell_type": "code",
   "execution_count": 26,
   "id": "d560aee0",
   "metadata": {},
   "outputs": [
    {
     "name": "stdout",
     "output_type": "stream",
     "text": [
      "dict_values([1, 2, 3])\n"
     ]
    }
   ],
   "source": [
    "foo = lambda **argument: argument.values()\n",
    "print(foo(q=1, w=2, e=3))"
   ]
  },
  {
   "cell_type": "code",
   "execution_count": null,
   "id": "579af769",
   "metadata": {},
   "outputs": [],
   "source": []
  }
 ],
 "metadata": {
  "kernelspec": {
   "display_name": "Python 3 (ipykernel)",
   "language": "python",
   "name": "python3"
  },
  "language_info": {
   "codemirror_mode": {
    "name": "ipython",
    "version": 3
   },
   "file_extension": ".py",
   "mimetype": "text/x-python",
   "name": "python",
   "nbconvert_exporter": "python",
   "pygments_lexer": "ipython3",
   "version": "3.9.13"
  }
 },
 "nbformat": 4,
 "nbformat_minor": 5
}
