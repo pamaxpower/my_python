{
 "cells": [
  {
   "cell_type": "markdown",
   "metadata": {
    "toc": true
   },
   "source": [
    "<h1>Содержание<span class=\"tocSkip\"></span></h1>\n",
    "<div class=\"toc\"><ul class=\"toc-item\"><li><span><a href=\"#Подготовка-данных\" data-toc-modified-id=\"Подготовка-данных-1\"><span class=\"toc-item-num\">1&nbsp;&nbsp;</span>Подготовка данных</a></span></li><li><span><a href=\"#Исследование-задачи\" data-toc-modified-id=\"Исследование-задачи-2\"><span class=\"toc-item-num\">2&nbsp;&nbsp;</span>Исследование задачи</a></span><ul class=\"toc-item\"><li><span><a href=\"#Логистическая-регрессия\" data-toc-modified-id=\"Логистическая-регрессия-2.1\"><span class=\"toc-item-num\">2.1&nbsp;&nbsp;</span>Логистическая регрессия</a></span></li><li><span><a href=\"#Дерево-решений\" data-toc-modified-id=\"Дерево-решений-2.2\"><span class=\"toc-item-num\">2.2&nbsp;&nbsp;</span>Дерево решений</a></span></li><li><span><a href=\"#Случайный-лес\" data-toc-modified-id=\"Случайный-лес-2.3\"><span class=\"toc-item-num\">2.3&nbsp;&nbsp;</span>Случайный лес</a></span></li></ul></li><li><span><a href=\"#Борьба-с-дисбалансом\" data-toc-modified-id=\"Борьба-с-дисбалансом-3\"><span class=\"toc-item-num\">3&nbsp;&nbsp;</span>Борьба с дисбалансом</a></span><ul class=\"toc-item\"><li><span><a href=\"#Взвешивание-классов\" data-toc-modified-id=\"Взвешивание-классов-3.1\"><span class=\"toc-item-num\">3.1&nbsp;&nbsp;</span>Взвешивание классов</a></span></li><li><span><a href=\"#Увеличение-выборки\" data-toc-modified-id=\"Увеличение-выборки-3.2\"><span class=\"toc-item-num\">3.2&nbsp;&nbsp;</span>Увеличение выборки</a></span></li></ul></li><li><span><a href=\"#Тестирование-модели\" data-toc-modified-id=\"Тестирование-модели-4\"><span class=\"toc-item-num\">4&nbsp;&nbsp;</span>Тестирование модели</a></span></li></ul></div>"
   ]
  },
  {
   "cell_type": "markdown",
   "metadata": {},
   "source": [
    "# Отток клиентов"
   ]
  },
  {
   "cell_type": "markdown",
   "metadata": {},
   "source": [
    "Цель проекта - Из «Бета-Банка» стали уходить клиенты. Каждый месяц. Немного, но заметно. Банковские маркетологи посчитали: сохранять текущих клиентов дешевле, чем привлекать новых.\n",
    "\n",
    "Нужно спрогнозировать, уйдёт клиент из банка в ближайшее время или нет. \n",
    "Предоставлены исторические данные о поведении клиентов и расторжении договоров с банком. "
   ]
  },
  {
   "cell_type": "markdown",
   "metadata": {},
   "source": [
    "Задачи проекта:\n",
    "\n",
    "1. Загрузить и изучить данные, произвести EDA.\n",
    "2. Произвести обучение моделей без учета дисбаланса. Оценить результаты метриками F1 и AUC-ROC.\n",
    "3. Устранить дисбаланс тремя методами.\n",
    "4. Произвести обучение моделей с сбалансированными данными.Оценить результаты метриками F1 и AUC-ROC.\n",
    "5. Произвести финальное тестирование.Оценить результаты метриками F1 и AUC-ROC."
   ]
  },
  {
   "cell_type": "markdown",
   "metadata": {},
   "source": [
    "Признаки\n",
    "\n",
    "•\tRowNumber — индекс строки в данных\n",
    "\n",
    "•\tCustomerId — уникальный идентификатор клиента\n",
    "\n",
    "•\tSurname — фамилия\n",
    "\n",
    "•\tCreditScore — кредитный рейтинг\n",
    "\n",
    "•\tGeography — страна проживания\n",
    "\n",
    "•\tGender — пол\n",
    "\n",
    "•\tAge — возраст\n",
    "\n",
    "•\tTenure — сколько лет человек является клиентом банка\n",
    "\n",
    "•\tBalance — баланс на счёте\n",
    "\n",
    "•\tNumOfProducts — количество продуктов банка, используемых клиентом\n",
    "\n",
    "•\tHasCrCard — наличие кредитной карты\n",
    "\n",
    "•\tIsActiveMember — активность клиента\n",
    "\n",
    "•\tEstimatedSalary — предполагаемая зарплата\n",
    "\n",
    "Целевой признак\n",
    "\n",
    "•\tExited — факт ухода клиента\n",
    "\n"
   ]
  },
  {
   "cell_type": "markdown",
   "metadata": {},
   "source": [
    "## Подготовка данных"
   ]
  },
  {
   "cell_type": "code",
   "execution_count": 1,
   "metadata": {},
   "outputs": [],
   "source": [
    "import pandas as pd\n",
    "from sklearn.model_selection import train_test_split\n",
    "from sklearn.tree import DecisionTreeClassifier\n",
    "from sklearn.metrics import roc_auc_score\n",
    "from sklearn.preprocessing import LabelEncoder\n",
    "from sklearn.metrics import f1_score\n",
    "from sklearn.ensemble import RandomForestClassifier\n",
    "from sklearn.linear_model import LogisticRegression\n",
    "import numpy as np\n",
    "from sklearn.model_selection import GridSearchCV\n",
    "from sklearn.utils import resample,shuffle\n",
    "import re\n",
    "from sklearn.preprocessing import StandardScaler\n",
    "from matplotlib import pyplot\n",
    "import matplotlib.pyplot as plt"
   ]
  },
  {
   "cell_type": "code",
   "execution_count": 2,
   "metadata": {
    "scrolled": true
   },
   "outputs": [
    {
     "ename": "FileNotFoundError",
     "evalue": "[Errno 2] No such file or directory: '/datasets/Churn.csv'",
     "output_type": "error",
     "traceback": [
      "\u001b[1;31m---------------------------------------------------------------------------\u001b[0m",
      "\u001b[1;31mFileNotFoundError\u001b[0m                         Traceback (most recent call last)",
      "\u001b[1;32m~\\AppData\\Local\\Temp\\ipykernel_1468\\2185027953.py\u001b[0m in \u001b[0;36m<module>\u001b[1;34m\u001b[0m\n\u001b[1;32m----> 1\u001b[1;33m \u001b[0mdata\u001b[0m \u001b[1;33m=\u001b[0m \u001b[0mpd\u001b[0m\u001b[1;33m.\u001b[0m\u001b[0mread_csv\u001b[0m\u001b[1;33m(\u001b[0m\u001b[1;34m'/datasets/Churn.csv'\u001b[0m\u001b[1;33m)\u001b[0m\u001b[1;33m\u001b[0m\u001b[1;33m\u001b[0m\u001b[0m\n\u001b[0m",
      "\u001b[1;32m~\\anaconda3\\lib\\site-packages\\pandas\\util\\_decorators.py\u001b[0m in \u001b[0;36mwrapper\u001b[1;34m(*args, **kwargs)\u001b[0m\n\u001b[0;32m    309\u001b[0m                     \u001b[0mstacklevel\u001b[0m\u001b[1;33m=\u001b[0m\u001b[0mstacklevel\u001b[0m\u001b[1;33m,\u001b[0m\u001b[1;33m\u001b[0m\u001b[1;33m\u001b[0m\u001b[0m\n\u001b[0;32m    310\u001b[0m                 )\n\u001b[1;32m--> 311\u001b[1;33m             \u001b[1;32mreturn\u001b[0m \u001b[0mfunc\u001b[0m\u001b[1;33m(\u001b[0m\u001b[1;33m*\u001b[0m\u001b[0margs\u001b[0m\u001b[1;33m,\u001b[0m \u001b[1;33m**\u001b[0m\u001b[0mkwargs\u001b[0m\u001b[1;33m)\u001b[0m\u001b[1;33m\u001b[0m\u001b[1;33m\u001b[0m\u001b[0m\n\u001b[0m\u001b[0;32m    312\u001b[0m \u001b[1;33m\u001b[0m\u001b[0m\n\u001b[0;32m    313\u001b[0m         \u001b[1;32mreturn\u001b[0m \u001b[0mwrapper\u001b[0m\u001b[1;33m\u001b[0m\u001b[1;33m\u001b[0m\u001b[0m\n",
      "\u001b[1;32m~\\anaconda3\\lib\\site-packages\\pandas\\io\\parsers\\readers.py\u001b[0m in \u001b[0;36mread_csv\u001b[1;34m(filepath_or_buffer, sep, delimiter, header, names, index_col, usecols, squeeze, prefix, mangle_dupe_cols, dtype, engine, converters, true_values, false_values, skipinitialspace, skiprows, skipfooter, nrows, na_values, keep_default_na, na_filter, verbose, skip_blank_lines, parse_dates, infer_datetime_format, keep_date_col, date_parser, dayfirst, cache_dates, iterator, chunksize, compression, thousands, decimal, lineterminator, quotechar, quoting, doublequote, escapechar, comment, encoding, encoding_errors, dialect, error_bad_lines, warn_bad_lines, on_bad_lines, delim_whitespace, low_memory, memory_map, float_precision, storage_options)\u001b[0m\n\u001b[0;32m    676\u001b[0m     \u001b[0mkwds\u001b[0m\u001b[1;33m.\u001b[0m\u001b[0mupdate\u001b[0m\u001b[1;33m(\u001b[0m\u001b[0mkwds_defaults\u001b[0m\u001b[1;33m)\u001b[0m\u001b[1;33m\u001b[0m\u001b[1;33m\u001b[0m\u001b[0m\n\u001b[0;32m    677\u001b[0m \u001b[1;33m\u001b[0m\u001b[0m\n\u001b[1;32m--> 678\u001b[1;33m     \u001b[1;32mreturn\u001b[0m \u001b[0m_read\u001b[0m\u001b[1;33m(\u001b[0m\u001b[0mfilepath_or_buffer\u001b[0m\u001b[1;33m,\u001b[0m \u001b[0mkwds\u001b[0m\u001b[1;33m)\u001b[0m\u001b[1;33m\u001b[0m\u001b[1;33m\u001b[0m\u001b[0m\n\u001b[0m\u001b[0;32m    679\u001b[0m \u001b[1;33m\u001b[0m\u001b[0m\n\u001b[0;32m    680\u001b[0m \u001b[1;33m\u001b[0m\u001b[0m\n",
      "\u001b[1;32m~\\anaconda3\\lib\\site-packages\\pandas\\io\\parsers\\readers.py\u001b[0m in \u001b[0;36m_read\u001b[1;34m(filepath_or_buffer, kwds)\u001b[0m\n\u001b[0;32m    573\u001b[0m \u001b[1;33m\u001b[0m\u001b[0m\n\u001b[0;32m    574\u001b[0m     \u001b[1;31m# Create the parser.\u001b[0m\u001b[1;33m\u001b[0m\u001b[1;33m\u001b[0m\u001b[0m\n\u001b[1;32m--> 575\u001b[1;33m     \u001b[0mparser\u001b[0m \u001b[1;33m=\u001b[0m \u001b[0mTextFileReader\u001b[0m\u001b[1;33m(\u001b[0m\u001b[0mfilepath_or_buffer\u001b[0m\u001b[1;33m,\u001b[0m \u001b[1;33m**\u001b[0m\u001b[0mkwds\u001b[0m\u001b[1;33m)\u001b[0m\u001b[1;33m\u001b[0m\u001b[1;33m\u001b[0m\u001b[0m\n\u001b[0m\u001b[0;32m    576\u001b[0m \u001b[1;33m\u001b[0m\u001b[0m\n\u001b[0;32m    577\u001b[0m     \u001b[1;32mif\u001b[0m \u001b[0mchunksize\u001b[0m \u001b[1;32mor\u001b[0m \u001b[0miterator\u001b[0m\u001b[1;33m:\u001b[0m\u001b[1;33m\u001b[0m\u001b[1;33m\u001b[0m\u001b[0m\n",
      "\u001b[1;32m~\\anaconda3\\lib\\site-packages\\pandas\\io\\parsers\\readers.py\u001b[0m in \u001b[0;36m__init__\u001b[1;34m(self, f, engine, **kwds)\u001b[0m\n\u001b[0;32m    930\u001b[0m \u001b[1;33m\u001b[0m\u001b[0m\n\u001b[0;32m    931\u001b[0m         \u001b[0mself\u001b[0m\u001b[1;33m.\u001b[0m\u001b[0mhandles\u001b[0m\u001b[1;33m:\u001b[0m \u001b[0mIOHandles\u001b[0m \u001b[1;33m|\u001b[0m \u001b[1;32mNone\u001b[0m \u001b[1;33m=\u001b[0m \u001b[1;32mNone\u001b[0m\u001b[1;33m\u001b[0m\u001b[1;33m\u001b[0m\u001b[0m\n\u001b[1;32m--> 932\u001b[1;33m         \u001b[0mself\u001b[0m\u001b[1;33m.\u001b[0m\u001b[0m_engine\u001b[0m \u001b[1;33m=\u001b[0m \u001b[0mself\u001b[0m\u001b[1;33m.\u001b[0m\u001b[0m_make_engine\u001b[0m\u001b[1;33m(\u001b[0m\u001b[0mf\u001b[0m\u001b[1;33m,\u001b[0m \u001b[0mself\u001b[0m\u001b[1;33m.\u001b[0m\u001b[0mengine\u001b[0m\u001b[1;33m)\u001b[0m\u001b[1;33m\u001b[0m\u001b[1;33m\u001b[0m\u001b[0m\n\u001b[0m\u001b[0;32m    933\u001b[0m \u001b[1;33m\u001b[0m\u001b[0m\n\u001b[0;32m    934\u001b[0m     \u001b[1;32mdef\u001b[0m \u001b[0mclose\u001b[0m\u001b[1;33m(\u001b[0m\u001b[0mself\u001b[0m\u001b[1;33m)\u001b[0m\u001b[1;33m:\u001b[0m\u001b[1;33m\u001b[0m\u001b[1;33m\u001b[0m\u001b[0m\n",
      "\u001b[1;32m~\\anaconda3\\lib\\site-packages\\pandas\\io\\parsers\\readers.py\u001b[0m in \u001b[0;36m_make_engine\u001b[1;34m(self, f, engine)\u001b[0m\n\u001b[0;32m   1214\u001b[0m             \u001b[1;31m# \"Union[str, PathLike[str], ReadCsvBuffer[bytes], ReadCsvBuffer[str]]\"\u001b[0m\u001b[1;33m\u001b[0m\u001b[1;33m\u001b[0m\u001b[0m\n\u001b[0;32m   1215\u001b[0m             \u001b[1;31m# , \"str\", \"bool\", \"Any\", \"Any\", \"Any\", \"Any\", \"Any\"\u001b[0m\u001b[1;33m\u001b[0m\u001b[1;33m\u001b[0m\u001b[0m\n\u001b[1;32m-> 1216\u001b[1;33m             self.handles = get_handle(  # type: ignore[call-overload]\n\u001b[0m\u001b[0;32m   1217\u001b[0m                 \u001b[0mf\u001b[0m\u001b[1;33m,\u001b[0m\u001b[1;33m\u001b[0m\u001b[1;33m\u001b[0m\u001b[0m\n\u001b[0;32m   1218\u001b[0m                 \u001b[0mmode\u001b[0m\u001b[1;33m,\u001b[0m\u001b[1;33m\u001b[0m\u001b[1;33m\u001b[0m\u001b[0m\n",
      "\u001b[1;32m~\\anaconda3\\lib\\site-packages\\pandas\\io\\common.py\u001b[0m in \u001b[0;36mget_handle\u001b[1;34m(path_or_buf, mode, encoding, compression, memory_map, is_text, errors, storage_options)\u001b[0m\n\u001b[0;32m    784\u001b[0m         \u001b[1;32mif\u001b[0m \u001b[0mioargs\u001b[0m\u001b[1;33m.\u001b[0m\u001b[0mencoding\u001b[0m \u001b[1;32mand\u001b[0m \u001b[1;34m\"b\"\u001b[0m \u001b[1;32mnot\u001b[0m \u001b[1;32min\u001b[0m \u001b[0mioargs\u001b[0m\u001b[1;33m.\u001b[0m\u001b[0mmode\u001b[0m\u001b[1;33m:\u001b[0m\u001b[1;33m\u001b[0m\u001b[1;33m\u001b[0m\u001b[0m\n\u001b[0;32m    785\u001b[0m             \u001b[1;31m# Encoding\u001b[0m\u001b[1;33m\u001b[0m\u001b[1;33m\u001b[0m\u001b[0m\n\u001b[1;32m--> 786\u001b[1;33m             handle = open(\n\u001b[0m\u001b[0;32m    787\u001b[0m                 \u001b[0mhandle\u001b[0m\u001b[1;33m,\u001b[0m\u001b[1;33m\u001b[0m\u001b[1;33m\u001b[0m\u001b[0m\n\u001b[0;32m    788\u001b[0m                 \u001b[0mioargs\u001b[0m\u001b[1;33m.\u001b[0m\u001b[0mmode\u001b[0m\u001b[1;33m,\u001b[0m\u001b[1;33m\u001b[0m\u001b[1;33m\u001b[0m\u001b[0m\n",
      "\u001b[1;31mFileNotFoundError\u001b[0m: [Errno 2] No such file or directory: '/datasets/Churn.csv'"
     ]
    }
   ],
   "source": [
    "data = pd.read_csv('/datasets/Churn.csv')"
   ]
  },
  {
   "cell_type": "code",
   "execution_count": 122,
   "metadata": {},
   "outputs": [
    {
     "name": "stdout",
     "output_type": "stream",
     "text": [
      "<class 'pandas.core.frame.DataFrame'>\n",
      "RangeIndex: 10000 entries, 0 to 9999\n",
      "Data columns (total 14 columns):\n",
      " #   Column           Non-Null Count  Dtype  \n",
      "---  ------           --------------  -----  \n",
      " 0   RowNumber        10000 non-null  int64  \n",
      " 1   CustomerId       10000 non-null  int64  \n",
      " 2   Surname          10000 non-null  object \n",
      " 3   CreditScore      10000 non-null  int64  \n",
      " 4   Geography        10000 non-null  object \n",
      " 5   Gender           10000 non-null  object \n",
      " 6   Age              10000 non-null  int64  \n",
      " 7   Tenure           9091 non-null   float64\n",
      " 8   Balance          10000 non-null  float64\n",
      " 9   NumOfProducts    10000 non-null  int64  \n",
      " 10  HasCrCard        10000 non-null  int64  \n",
      " 11  IsActiveMember   10000 non-null  int64  \n",
      " 12  EstimatedSalary  10000 non-null  float64\n",
      " 13  Exited           10000 non-null  int64  \n",
      "dtypes: float64(3), int64(8), object(3)\n",
      "memory usage: 1.1+ MB\n"
     ]
    }
   ],
   "source": [
    "data.info()"
   ]
  },
  {
   "cell_type": "markdown",
   "metadata": {},
   "source": [
    "\n",
    "Для удобства в дальнейшем анализе  названия столбцов привели в более читаемый стиль snake_case. Здесь мы используем регулярные выражения.\n"
   ]
  },
  {
   "cell_type": "code",
   "execution_count": 123,
   "metadata": {},
   "outputs": [],
   "source": [
    "def convert_col(col):\n",
    "    return re.sub(r'(?<!^)(?=[A-Z])', '_', col).lower()\n",
    "data.columns = map(convert_col, data.columns)\n"
   ]
  },
  {
   "cell_type": "code",
   "execution_count": 124,
   "metadata": {},
   "outputs": [
    {
     "data": {
      "text/html": [
       "<div>\n",
       "<style scoped>\n",
       "    .dataframe tbody tr th:only-of-type {\n",
       "        vertical-align: middle;\n",
       "    }\n",
       "\n",
       "    .dataframe tbody tr th {\n",
       "        vertical-align: top;\n",
       "    }\n",
       "\n",
       "    .dataframe thead th {\n",
       "        text-align: right;\n",
       "    }\n",
       "</style>\n",
       "<table border=\"1\" class=\"dataframe\">\n",
       "  <thead>\n",
       "    <tr style=\"text-align: right;\">\n",
       "      <th></th>\n",
       "      <th>row_number</th>\n",
       "      <th>customer_id</th>\n",
       "      <th>surname</th>\n",
       "      <th>credit_score</th>\n",
       "      <th>geography</th>\n",
       "      <th>gender</th>\n",
       "      <th>age</th>\n",
       "      <th>tenure</th>\n",
       "      <th>balance</th>\n",
       "      <th>num_of_products</th>\n",
       "      <th>has_cr_card</th>\n",
       "      <th>is_active_member</th>\n",
       "      <th>estimated_salary</th>\n",
       "      <th>exited</th>\n",
       "    </tr>\n",
       "  </thead>\n",
       "  <tbody>\n",
       "    <tr>\n",
       "      <th>count</th>\n",
       "      <td>10000.00000</td>\n",
       "      <td>1.000000e+04</td>\n",
       "      <td>10000</td>\n",
       "      <td>10000.000000</td>\n",
       "      <td>10000</td>\n",
       "      <td>10000</td>\n",
       "      <td>10000.000000</td>\n",
       "      <td>9091.000000</td>\n",
       "      <td>10000.000000</td>\n",
       "      <td>10000.000000</td>\n",
       "      <td>10000.00000</td>\n",
       "      <td>10000.000000</td>\n",
       "      <td>10000.000000</td>\n",
       "      <td>10000.000000</td>\n",
       "    </tr>\n",
       "    <tr>\n",
       "      <th>unique</th>\n",
       "      <td>NaN</td>\n",
       "      <td>NaN</td>\n",
       "      <td>2932</td>\n",
       "      <td>NaN</td>\n",
       "      <td>3</td>\n",
       "      <td>2</td>\n",
       "      <td>NaN</td>\n",
       "      <td>NaN</td>\n",
       "      <td>NaN</td>\n",
       "      <td>NaN</td>\n",
       "      <td>NaN</td>\n",
       "      <td>NaN</td>\n",
       "      <td>NaN</td>\n",
       "      <td>NaN</td>\n",
       "    </tr>\n",
       "    <tr>\n",
       "      <th>top</th>\n",
       "      <td>NaN</td>\n",
       "      <td>NaN</td>\n",
       "      <td>Smith</td>\n",
       "      <td>NaN</td>\n",
       "      <td>France</td>\n",
       "      <td>Male</td>\n",
       "      <td>NaN</td>\n",
       "      <td>NaN</td>\n",
       "      <td>NaN</td>\n",
       "      <td>NaN</td>\n",
       "      <td>NaN</td>\n",
       "      <td>NaN</td>\n",
       "      <td>NaN</td>\n",
       "      <td>NaN</td>\n",
       "    </tr>\n",
       "    <tr>\n",
       "      <th>freq</th>\n",
       "      <td>NaN</td>\n",
       "      <td>NaN</td>\n",
       "      <td>32</td>\n",
       "      <td>NaN</td>\n",
       "      <td>5014</td>\n",
       "      <td>5457</td>\n",
       "      <td>NaN</td>\n",
       "      <td>NaN</td>\n",
       "      <td>NaN</td>\n",
       "      <td>NaN</td>\n",
       "      <td>NaN</td>\n",
       "      <td>NaN</td>\n",
       "      <td>NaN</td>\n",
       "      <td>NaN</td>\n",
       "    </tr>\n",
       "    <tr>\n",
       "      <th>mean</th>\n",
       "      <td>5000.50000</td>\n",
       "      <td>1.569094e+07</td>\n",
       "      <td>NaN</td>\n",
       "      <td>650.528800</td>\n",
       "      <td>NaN</td>\n",
       "      <td>NaN</td>\n",
       "      <td>38.921800</td>\n",
       "      <td>4.997690</td>\n",
       "      <td>76485.889288</td>\n",
       "      <td>1.530200</td>\n",
       "      <td>0.70550</td>\n",
       "      <td>0.515100</td>\n",
       "      <td>100090.239881</td>\n",
       "      <td>0.203700</td>\n",
       "    </tr>\n",
       "    <tr>\n",
       "      <th>std</th>\n",
       "      <td>2886.89568</td>\n",
       "      <td>7.193619e+04</td>\n",
       "      <td>NaN</td>\n",
       "      <td>96.653299</td>\n",
       "      <td>NaN</td>\n",
       "      <td>NaN</td>\n",
       "      <td>10.487806</td>\n",
       "      <td>2.894723</td>\n",
       "      <td>62397.405202</td>\n",
       "      <td>0.581654</td>\n",
       "      <td>0.45584</td>\n",
       "      <td>0.499797</td>\n",
       "      <td>57510.492818</td>\n",
       "      <td>0.402769</td>\n",
       "    </tr>\n",
       "    <tr>\n",
       "      <th>min</th>\n",
       "      <td>1.00000</td>\n",
       "      <td>1.556570e+07</td>\n",
       "      <td>NaN</td>\n",
       "      <td>350.000000</td>\n",
       "      <td>NaN</td>\n",
       "      <td>NaN</td>\n",
       "      <td>18.000000</td>\n",
       "      <td>0.000000</td>\n",
       "      <td>0.000000</td>\n",
       "      <td>1.000000</td>\n",
       "      <td>0.00000</td>\n",
       "      <td>0.000000</td>\n",
       "      <td>11.580000</td>\n",
       "      <td>0.000000</td>\n",
       "    </tr>\n",
       "    <tr>\n",
       "      <th>25%</th>\n",
       "      <td>2500.75000</td>\n",
       "      <td>1.562853e+07</td>\n",
       "      <td>NaN</td>\n",
       "      <td>584.000000</td>\n",
       "      <td>NaN</td>\n",
       "      <td>NaN</td>\n",
       "      <td>32.000000</td>\n",
       "      <td>2.000000</td>\n",
       "      <td>0.000000</td>\n",
       "      <td>1.000000</td>\n",
       "      <td>0.00000</td>\n",
       "      <td>0.000000</td>\n",
       "      <td>51002.110000</td>\n",
       "      <td>0.000000</td>\n",
       "    </tr>\n",
       "    <tr>\n",
       "      <th>50%</th>\n",
       "      <td>5000.50000</td>\n",
       "      <td>1.569074e+07</td>\n",
       "      <td>NaN</td>\n",
       "      <td>652.000000</td>\n",
       "      <td>NaN</td>\n",
       "      <td>NaN</td>\n",
       "      <td>37.000000</td>\n",
       "      <td>5.000000</td>\n",
       "      <td>97198.540000</td>\n",
       "      <td>1.000000</td>\n",
       "      <td>1.00000</td>\n",
       "      <td>1.000000</td>\n",
       "      <td>100193.915000</td>\n",
       "      <td>0.000000</td>\n",
       "    </tr>\n",
       "    <tr>\n",
       "      <th>75%</th>\n",
       "      <td>7500.25000</td>\n",
       "      <td>1.575323e+07</td>\n",
       "      <td>NaN</td>\n",
       "      <td>718.000000</td>\n",
       "      <td>NaN</td>\n",
       "      <td>NaN</td>\n",
       "      <td>44.000000</td>\n",
       "      <td>7.000000</td>\n",
       "      <td>127644.240000</td>\n",
       "      <td>2.000000</td>\n",
       "      <td>1.00000</td>\n",
       "      <td>1.000000</td>\n",
       "      <td>149388.247500</td>\n",
       "      <td>0.000000</td>\n",
       "    </tr>\n",
       "    <tr>\n",
       "      <th>max</th>\n",
       "      <td>10000.00000</td>\n",
       "      <td>1.581569e+07</td>\n",
       "      <td>NaN</td>\n",
       "      <td>850.000000</td>\n",
       "      <td>NaN</td>\n",
       "      <td>NaN</td>\n",
       "      <td>92.000000</td>\n",
       "      <td>10.000000</td>\n",
       "      <td>250898.090000</td>\n",
       "      <td>4.000000</td>\n",
       "      <td>1.00000</td>\n",
       "      <td>1.000000</td>\n",
       "      <td>199992.480000</td>\n",
       "      <td>1.000000</td>\n",
       "    </tr>\n",
       "  </tbody>\n",
       "</table>\n",
       "</div>"
      ],
      "text/plain": [
       "         row_number   customer_id surname  credit_score geography gender  \\\n",
       "count   10000.00000  1.000000e+04   10000  10000.000000     10000  10000   \n",
       "unique          NaN           NaN    2932           NaN         3      2   \n",
       "top             NaN           NaN   Smith           NaN    France   Male   \n",
       "freq            NaN           NaN      32           NaN      5014   5457   \n",
       "mean     5000.50000  1.569094e+07     NaN    650.528800       NaN    NaN   \n",
       "std      2886.89568  7.193619e+04     NaN     96.653299       NaN    NaN   \n",
       "min         1.00000  1.556570e+07     NaN    350.000000       NaN    NaN   \n",
       "25%      2500.75000  1.562853e+07     NaN    584.000000       NaN    NaN   \n",
       "50%      5000.50000  1.569074e+07     NaN    652.000000       NaN    NaN   \n",
       "75%      7500.25000  1.575323e+07     NaN    718.000000       NaN    NaN   \n",
       "max     10000.00000  1.581569e+07     NaN    850.000000       NaN    NaN   \n",
       "\n",
       "                 age       tenure        balance  num_of_products  \\\n",
       "count   10000.000000  9091.000000   10000.000000     10000.000000   \n",
       "unique           NaN          NaN            NaN              NaN   \n",
       "top              NaN          NaN            NaN              NaN   \n",
       "freq             NaN          NaN            NaN              NaN   \n",
       "mean       38.921800     4.997690   76485.889288         1.530200   \n",
       "std        10.487806     2.894723   62397.405202         0.581654   \n",
       "min        18.000000     0.000000       0.000000         1.000000   \n",
       "25%        32.000000     2.000000       0.000000         1.000000   \n",
       "50%        37.000000     5.000000   97198.540000         1.000000   \n",
       "75%        44.000000     7.000000  127644.240000         2.000000   \n",
       "max        92.000000    10.000000  250898.090000         4.000000   \n",
       "\n",
       "        has_cr_card  is_active_member  estimated_salary        exited  \n",
       "count   10000.00000      10000.000000      10000.000000  10000.000000  \n",
       "unique          NaN               NaN               NaN           NaN  \n",
       "top             NaN               NaN               NaN           NaN  \n",
       "freq            NaN               NaN               NaN           NaN  \n",
       "mean        0.70550          0.515100     100090.239881      0.203700  \n",
       "std         0.45584          0.499797      57510.492818      0.402769  \n",
       "min         0.00000          0.000000         11.580000      0.000000  \n",
       "25%         0.00000          0.000000      51002.110000      0.000000  \n",
       "50%         1.00000          1.000000     100193.915000      0.000000  \n",
       "75%         1.00000          1.000000     149388.247500      0.000000  \n",
       "max         1.00000          1.000000     199992.480000      1.000000  "
      ]
     },
     "execution_count": 124,
     "metadata": {},
     "output_type": "execute_result"
    }
   ],
   "source": [
    "data.describe(include = \"all\")"
   ]
  },
  {
   "cell_type": "markdown",
   "metadata": {},
   "source": [
    "делаем вывод, что exited - целевой признак, 1 стоит если клиент ушел, 0 если остался"
   ]
  },
  {
   "cell_type": "code",
   "execution_count": 126,
   "metadata": {},
   "outputs": [],
   "source": [
    "data=pd.get_dummies(data, columns=['geography', 'gender'], drop_first=True)"
   ]
  },
  {
   "cell_type": "markdown",
   "metadata": {},
   "source": [
    "перевели категеориальные признаки в численные через get_dummies"
   ]
  },
  {
   "cell_type": "code",
   "execution_count": 127,
   "metadata": {},
   "outputs": [
    {
     "name": "stdout",
     "output_type": "stream",
     "text": [
      "<class 'pandas.core.frame.DataFrame'>\n",
      "RangeIndex: 10000 entries, 0 to 9999\n",
      "Data columns (total 15 columns):\n",
      " #   Column             Non-Null Count  Dtype  \n",
      "---  ------             --------------  -----  \n",
      " 0   row_number         10000 non-null  int64  \n",
      " 1   customer_id        10000 non-null  int64  \n",
      " 2   surname            10000 non-null  object \n",
      " 3   credit_score       10000 non-null  int64  \n",
      " 4   age                10000 non-null  int64  \n",
      " 5   tenure             9091 non-null   float64\n",
      " 6   balance            10000 non-null  float64\n",
      " 7   num_of_products    10000 non-null  int64  \n",
      " 8   has_cr_card        10000 non-null  int64  \n",
      " 9   is_active_member   10000 non-null  int64  \n",
      " 10  estimated_salary   10000 non-null  float64\n",
      " 11  exited             10000 non-null  int64  \n",
      " 12  geography_Germany  10000 non-null  uint8  \n",
      " 13  geography_Spain    10000 non-null  uint8  \n",
      " 14  gender_Male        10000 non-null  uint8  \n",
      "dtypes: float64(3), int64(8), object(1), uint8(3)\n",
      "memory usage: 966.9+ KB\n"
     ]
    }
   ],
   "source": [
    "data.info()"
   ]
  },
  {
   "cell_type": "code",
   "execution_count": 128,
   "metadata": {},
   "outputs": [
    {
     "data": {
      "text/plain": [
       "row_number             0\n",
       "customer_id            0\n",
       "surname                0\n",
       "credit_score           0\n",
       "age                    0\n",
       "tenure               909\n",
       "balance                0\n",
       "num_of_products        0\n",
       "has_cr_card            0\n",
       "is_active_member       0\n",
       "estimated_salary       0\n",
       "exited                 0\n",
       "geography_Germany      0\n",
       "geography_Spain        0\n",
       "gender_Male            0\n",
       "dtype: int64"
      ]
     },
     "execution_count": 128,
     "metadata": {},
     "output_type": "execute_result"
    }
   ],
   "source": [
    "data.isna().sum()"
   ]
  },
  {
   "cell_type": "code",
   "execution_count": 129,
   "metadata": {},
   "outputs": [
    {
     "data": {
      "text/plain": [
       "909"
      ]
     },
     "execution_count": 129,
     "metadata": {},
     "output_type": "execute_result"
    }
   ],
   "source": [
    "data.tenure.isnull().sum()"
   ]
  },
  {
   "cell_type": "code",
   "execution_count": 130,
   "metadata": {},
   "outputs": [
    {
     "data": {
      "text/plain": [
       "1.0     952\n",
       "2.0     950\n",
       "8.0     933\n",
       "3.0     928\n",
       "5.0     927\n",
       "7.0     925\n",
       "4.0     885\n",
       "9.0     882\n",
       "6.0     881\n",
       "10.0    446\n",
       "0.0     382\n",
       "Name: tenure, dtype: int64"
      ]
     },
     "execution_count": 130,
     "metadata": {},
     "output_type": "execute_result"
    }
   ],
   "source": [
    "data.tenure.value_counts()"
   ]
  },
  {
   "cell_type": "code",
   "execution_count": 131,
   "metadata": {},
   "outputs": [],
   "source": [
    "data['tenure'].fillna(0, inplace=True)"
   ]
  },
  {
   "cell_type": "code",
   "execution_count": 132,
   "metadata": {},
   "outputs": [
    {
     "data": {
      "text/plain": [
       "0"
      ]
     },
     "execution_count": 132,
     "metadata": {},
     "output_type": "execute_result"
    }
   ],
   "source": [
    "data.tenure.isnull().sum()"
   ]
  },
  {
   "cell_type": "markdown",
   "metadata": {},
   "source": [
    "Были еще и  такие варианты работы с пропусками:\n",
    "\n",
    "1. Распределение по годам использования банка практически ровное, если сейчас заменить 909 пропусков медианой, то мы увеличим в 2 раза значение для 5 лет. Это кажется некорректным. Можно сделать заполнение пропусков случайными числами, тогда мы снизим влияние на наше распределение.\n",
    "\n",
    "2. Так как значений в этом признаке ограниченное количество, можно сделать его категориальным признаком. Пропуски можно считать как за отдельную категорию (заполнить значением -1). Затем заменить тип данных Tenure на object и применить технику OHE.\n",
    "\n",
    "3. Заполнить \"0\", считая, что это новые клиенты.\n",
    "\n",
    "В нашем случае, я принял решение считать что это новые клиенты и заполнил всё нулями."
   ]
  },
  {
   "cell_type": "code",
   "execution_count": 133,
   "metadata": {},
   "outputs": [
    {
     "name": "stdout",
     "output_type": "stream",
     "text": [
      "<class 'pandas.core.frame.DataFrame'>\n",
      "RangeIndex: 10000 entries, 0 to 9999\n",
      "Data columns (total 15 columns):\n",
      " #   Column             Non-Null Count  Dtype  \n",
      "---  ------             --------------  -----  \n",
      " 0   row_number         10000 non-null  int64  \n",
      " 1   customer_id        10000 non-null  int64  \n",
      " 2   surname            10000 non-null  object \n",
      " 3   credit_score       10000 non-null  int64  \n",
      " 4   age                10000 non-null  int64  \n",
      " 5   tenure             10000 non-null  float64\n",
      " 6   balance            10000 non-null  float64\n",
      " 7   num_of_products    10000 non-null  int64  \n",
      " 8   has_cr_card        10000 non-null  int64  \n",
      " 9   is_active_member   10000 non-null  int64  \n",
      " 10  estimated_salary   10000 non-null  float64\n",
      " 11  exited             10000 non-null  int64  \n",
      " 12  geography_Germany  10000 non-null  uint8  \n",
      " 13  geography_Spain    10000 non-null  uint8  \n",
      " 14  gender_Male        10000 non-null  uint8  \n",
      "dtypes: float64(3), int64(8), object(1), uint8(3)\n",
      "memory usage: 966.9+ KB\n"
     ]
    }
   ],
   "source": [
    "data.info()"
   ]
  },
  {
   "cell_type": "code",
   "execution_count": 135,
   "metadata": {},
   "outputs": [
    {
     "data": {
      "text/plain": [
       "row_number           0\n",
       "customer_id          0\n",
       "surname              0\n",
       "credit_score         0\n",
       "age                  0\n",
       "tenure               0\n",
       "balance              0\n",
       "num_of_products      0\n",
       "has_cr_card          0\n",
       "is_active_member     0\n",
       "estimated_salary     0\n",
       "exited               0\n",
       "geography_Germany    0\n",
       "geography_Spain      0\n",
       "gender_Male          0\n",
       "dtype: int64"
      ]
     },
     "execution_count": 135,
     "metadata": {},
     "output_type": "execute_result"
    }
   ],
   "source": [
    "data.isna().sum()"
   ]
  },
  {
   "cell_type": "code",
   "execution_count": 136,
   "metadata": {},
   "outputs": [
    {
     "data": {
      "text/plain": [
       "0    7963\n",
       "1    2037\n",
       "Name: exited, dtype: int64"
      ]
     },
     "execution_count": 136,
     "metadata": {},
     "output_type": "execute_result"
    }
   ],
   "source": [
    "data.exited.value_counts()"
   ]
  },
  {
   "cell_type": "markdown",
   "metadata": {},
   "source": [
    "видим , что датасет не сбалансирован, класса 1 намного меньше чем класса 0"
   ]
  },
  {
   "cell_type": "code",
   "execution_count": 138,
   "metadata": {},
   "outputs": [],
   "source": [
    "target = data['exited']\n",
    "features = data.drop(['exited','row_number','customer_id','surname'] , axis=1)"
   ]
  },
  {
   "cell_type": "code",
   "execution_count": 139,
   "metadata": {},
   "outputs": [],
   "source": [
    "# разобьем на обучение, тест и валидацию 60:20:20\n",
    "\n",
    "# выделяем обучение\n",
    "features_train, features_rem, target_train, target_rem = train_test_split(features,target, train_size=0.6)\n",
    "\n",
    " \n",
    "# остаток разбиваем на тест и валидацию\n",
    "\n",
    "features_valid, features_test, target_valid, target_test = train_test_split(features_rem,target_rem, test_size=0.5)"
   ]
  },
  {
   "cell_type": "code",
   "execution_count": 140,
   "metadata": {},
   "outputs": [
    {
     "name": "stdout",
     "output_type": "stream",
     "text": [
      "(6000, 11)\n",
      "(2000, 11)\n",
      "(2000, 11)\n"
     ]
    }
   ],
   "source": [
    "print(features_train.shape)\n",
    "print(features_valid.shape)\n",
    "print(features_test.shape)"
   ]
  },
  {
   "cell_type": "code",
   "execution_count": 141,
   "metadata": {},
   "outputs": [
    {
     "data": {
      "text/plain": [
       "StandardScaler()"
      ]
     },
     "execution_count": 141,
     "metadata": {},
     "output_type": "execute_result"
    }
   ],
   "source": [
    "#промасштабируем численные признаки\n",
    "scaler = StandardScaler()\n",
    "scaler.fit(features_train) "
   ]
  },
  {
   "cell_type": "code",
   "execution_count": 142,
   "metadata": {},
   "outputs": [],
   "source": [
    "pd.options.mode.chained_assignment = None"
   ]
  },
  {
   "cell_type": "code",
   "execution_count": 143,
   "metadata": {},
   "outputs": [],
   "source": [
    "features_train_scaled = scaler.transform(features_train)\n",
    "features_valid_scaled = scaler.transform(features_valid) \n",
    "features_test_scaled = scaler.transform(features_valid) "
   ]
  },
  {
   "cell_type": "code",
   "execution_count": 144,
   "metadata": {},
   "outputs": [
    {
     "data": {
      "text/plain": [
       "array([[ 0.77873071,  0.67812923, -1.45007289, ..., -0.56605877,\n",
       "        -0.58145592,  0.90331646],\n",
       "       [ 0.36353776, -1.78998145, -0.16630184, ..., -0.56605877,\n",
       "        -0.58145592,  0.90331646],\n",
       "       [ 1.59873679,  3.05131259,  1.11746921, ..., -0.56605877,\n",
       "        -0.58145592, -1.10703175],\n",
       "       ...,\n",
       "       [-0.26963149, -1.50519945,  0.47558368, ..., -0.56605877,\n",
       "         1.71982082, -1.10703175],\n",
       "       [-0.74710339,  1.91218458,  1.75935473, ..., -0.56605877,\n",
       "        -0.58145592,  0.90331646],\n",
       "       [-1.54634982,  1.72232991,  1.75935473, ..., -0.56605877,\n",
       "        -0.58145592,  0.90331646]])"
      ]
     },
     "execution_count": 144,
     "metadata": {},
     "output_type": "execute_result"
    }
   ],
   "source": [
    "features_train_scaled"
   ]
  },
  {
   "cell_type": "markdown",
   "metadata": {},
   "source": [
    "\n",
    "Для линейных моделей оптимально выполнить масштабирование численных признаков. Сделали это сразу после разбиения данных. Scaler обучили на тренировочной выборке, затем по очереди применили стандартизацию ко всем выборкам.\n"
   ]
  },
  {
   "cell_type": "markdown",
   "metadata": {},
   "source": [
    "## Исследование задачи"
   ]
  },
  {
   "cell_type": "markdown",
   "metadata": {},
   "source": [
    "### Логистическая регрессия"
   ]
  },
  {
   "cell_type": "code",
   "execution_count": 145,
   "metadata": {},
   "outputs": [
    {
     "data": {
      "text/plain": [
       "LogisticRegression(max_iter=100000, random_state=12345)"
      ]
     },
     "execution_count": 145,
     "metadata": {},
     "output_type": "execute_result"
    }
   ],
   "source": [
    "model_LR = LogisticRegression (random_state = 12345, solver = 'lbfgs',max_iter=100000)\n",
    "model_LR.fit(features_train_scaled, target_train)"
   ]
  },
  {
   "cell_type": "code",
   "execution_count": 146,
   "metadata": {},
   "outputs": [
    {
     "name": "stdout",
     "output_type": "stream",
     "text": [
      "0.27478260869565213\n"
     ]
    }
   ],
   "source": [
    "predictions_valid = model_LR.predict(features_valid_scaled)\n",
    "\n",
    "print(f1_score(target_valid, predictions_valid ))\n"
   ]
  },
  {
   "cell_type": "code",
   "execution_count": 147,
   "metadata": {},
   "outputs": [
    {
     "name": "stdout",
     "output_type": "stream",
     "text": [
      "0.7727437102124226\n"
     ]
    }
   ],
   "source": [
    "\n",
    "probabilities_valid = model_LR.predict_proba(features_valid_scaled)\n",
    "probabilities_one_valid = probabilities_valid[:, 1]\n",
    "auc_roc=roc_auc_score(target_valid, probabilities_one_valid)\n",
    "\n",
    "print(auc_roc)"
   ]
  },
  {
   "cell_type": "markdown",
   "metadata": {},
   "source": [
    "f1 низкий из-за дисбаланса, но благодаря нормализации модель справилась хорошо, и auc-roc довольно неплох!"
   ]
  },
  {
   "cell_type": "markdown",
   "metadata": {},
   "source": [
    "### Дерево решений"
   ]
  },
  {
   "cell_type": "code",
   "execution_count": 148,
   "metadata": {},
   "outputs": [
    {
     "name": "stdout",
     "output_type": "stream",
     "text": [
      "Наилучшее дерево решений найдено, его оценка f1 составляет 0.57, AUC ROC составляет 0.83 и макс глубина = 5\n"
     ]
    }
   ],
   "source": [
    "best_f1=0\n",
    "best_max_depth=0\n",
    "best_model_tree=None\n",
    "for depth in range(1,25):\n",
    "    model=DecisionTreeClassifier(max_depth=depth,random_state=12345)\n",
    "    model.fit(features_train,target_train)\n",
    "    predictions_valid = model.predict(features_valid)\n",
    "    #print(\"max_depth =\", depth, \": \", end='')\n",
    "    f1=f1_score(target_valid, predictions_valid)\n",
    "    #print(f1) \n",
    "    if f1>best_f1:\n",
    "        best_model_tree=model\n",
    "        best_max_depth=depth\n",
    "        best_f1=f1\n",
    "        probabilities_valid = model.predict_proba(features_valid)\n",
    "        probabilities_one_valid = probabilities_valid[:, 1]\n",
    "        auc_roc=roc_auc_score(target_valid, probabilities_one_valid)\n",
    "\n",
    "print(f'Наилучшее дерево решений найдено, его оценка f1 составляет {round(best_f1,3)},', \n",
    "      f'AUC ROC составляет {round(auc_roc,3)} и макс глубина = {best_max_depth}')\n"
   ]
  },
  {
   "cell_type": "markdown",
   "metadata": {},
   "source": [
    "Вывод - дерево решений сработало лучше  чем линейная модель"
   ]
  },
  {
   "cell_type": "markdown",
   "metadata": {},
   "source": [
    "### Случайный лес"
   ]
  },
  {
   "cell_type": "code",
   "execution_count": 149,
   "metadata": {},
   "outputs": [
    {
     "name": "stdout",
     "output_type": "stream",
     "text": [
      "CPU times: user 7min 43s, sys: 2.61 s, total: 7min 46s\n",
      "Wall time: 7min 46s\n"
     ]
    },
    {
     "data": {
      "text/plain": [
       "GridSearchCV(cv=5, estimator=RandomForestClassifier(),\n",
       "             param_grid={'max_depth': range(1, 13, 2),\n",
       "                         'min_samples_leaf': range(1, 8),\n",
       "                         'min_samples_split': range(2, 10, 2),\n",
       "                         'n_estimators': range(10, 51, 10)})"
      ]
     },
     "execution_count": 149,
     "metadata": {},
     "output_type": "execute_result"
    }
   ],
   "source": [
    "%%time\n",
    "#сделаем через GridSearch\n",
    "clf = RandomForestClassifier()\n",
    "parametrs = { 'n_estimators': range (10, 51, 10),\n",
    "              'max_depth': range (1,13, 2),\n",
    "              'min_samples_leaf': range (1,8),\n",
    "              'min_samples_split': range (2,10,2) }\n",
    "grid = GridSearchCV(clf, parametrs, cv=5)\n",
    "grid.fit(features_train, target_train)"
   ]
  },
  {
   "cell_type": "code",
   "execution_count": 150,
   "metadata": {},
   "outputs": [
    {
     "data": {
      "text/plain": [
       "{'max_depth': 9,\n",
       " 'min_samples_leaf': 4,\n",
       " 'min_samples_split': 8,\n",
       " 'n_estimators': 40}"
      ]
     },
     "execution_count": 150,
     "metadata": {},
     "output_type": "execute_result"
    }
   ],
   "source": [
    "grid.best_params_"
   ]
  },
  {
   "cell_type": "code",
   "execution_count": 151,
   "metadata": {},
   "outputs": [
    {
     "data": {
      "text/plain": [
       "RandomForestClassifier(max_depth=9, min_samples_leaf=4, min_samples_split=8,\n",
       "                       n_estimators=40)"
      ]
     },
     "execution_count": 151,
     "metadata": {},
     "output_type": "execute_result"
    }
   ],
   "source": [
    "grid.best_estimator_"
   ]
  },
  {
   "cell_type": "code",
   "execution_count": 152,
   "metadata": {},
   "outputs": [],
   "source": [
    "pred_valid= grid.best_estimator_.predict(features_valid)"
   ]
  },
  {
   "cell_type": "code",
   "execution_count": 153,
   "metadata": {},
   "outputs": [
    {
     "name": "stdout",
     "output_type": "stream",
     "text": [
      "0.5164212910532276\n"
     ]
    }
   ],
   "source": [
    "\n",
    "print(f1_score(target_valid, predictions_valid ))"
   ]
  },
  {
   "cell_type": "code",
   "execution_count": 154,
   "metadata": {},
   "outputs": [
    {
     "name": "stdout",
     "output_type": "stream",
     "text": [
      "0.8611857602130606\n"
     ]
    }
   ],
   "source": [
    "probabilities_valid = grid.best_estimator_.predict_proba(features_valid)\n",
    "probabilities_one_valid = probabilities_valid[:, 1]\n",
    "auc_roc=roc_auc_score(target_valid, probabilities_one_valid)\n",
    "\n",
    "print(auc_roc)"
   ]
  },
  {
   "cell_type": "markdown",
   "metadata": {},
   "source": [
    "Вывод - дисбаланс сильно влияет на качество моделей, наилучший результат пока у случайного леса, f1 тут составляет 0.51 и AUC_ROC составле 0.86, также был опробован случайный лес и логрег, результаты у них примерно одинаковые"
   ]
  },
  {
   "cell_type": "markdown",
   "metadata": {},
   "source": [
    "## Борьба с дисбалансом"
   ]
  },
  {
   "cell_type": "markdown",
   "metadata": {},
   "source": [
    "### Взвешивание классов"
   ]
  },
  {
   "cell_type": "code",
   "execution_count": 155,
   "metadata": {},
   "outputs": [
    {
     "data": {
      "text/plain": [
       "LogisticRegression(class_weight='balanced', max_iter=100000, random_state=12345)"
      ]
     },
     "execution_count": 155,
     "metadata": {},
     "output_type": "execute_result"
    }
   ],
   "source": [
    "model_LR = LogisticRegression (random_state = 12345, solver = 'lbfgs',max_iter=100000,class_weight='balanced')\n",
    "model_LR.fit(features_train_scaled, target_train)"
   ]
  },
  {
   "cell_type": "code",
   "execution_count": 156,
   "metadata": {},
   "outputs": [
    {
     "name": "stdout",
     "output_type": "stream",
     "text": [
      "0.5205479452054794\n"
     ]
    }
   ],
   "source": [
    "predictions_valid = model_LR.predict(features_valid_scaled)\n",
    "\n",
    "print(f1_score(target_valid, predictions_valid ))"
   ]
  },
  {
   "cell_type": "code",
   "execution_count": 157,
   "metadata": {},
   "outputs": [
    {
     "name": "stdout",
     "output_type": "stream",
     "text": [
      "0.777660387633287\n"
     ]
    }
   ],
   "source": [
    "\n",
    "probabilities_valid = model_LR.predict_proba(features_valid_scaled)\n",
    "probabilities_one_valid = probabilities_valid[:, 1]\n",
    "auc_roc=roc_auc_score(target_valid, probabilities_one_valid)\n",
    "\n",
    "print(auc_roc)"
   ]
  },
  {
   "cell_type": "markdown",
   "metadata": {},
   "source": [
    "Результат после взвешивания классов - у логрега f1 повысилась почти в 2 раза! AUC ROC остался прежним"
   ]
  },
  {
   "cell_type": "code",
   "execution_count": 158,
   "metadata": {},
   "outputs": [
    {
     "name": "stdout",
     "output_type": "stream",
     "text": [
      "Наилучшее дерево решений найдено, его оценка f1 составляет 0.614, AUC ROC составляет 0.806 и макс глубина = 9\n"
     ]
    }
   ],
   "source": [
    "best_f1=0\n",
    "best_max_depth=0\n",
    "best_model_tree=None\n",
    "for depth in range(1,25):\n",
    "    model=DecisionTreeClassifier(max_depth=depth,random_state=12345,class_weight='balanced')\n",
    "    model.fit(features_train,target_train)\n",
    "    predictions_valid = model.predict(features_valid)\n",
    "    #print(\"max_depth =\", depth, \": \", end='')\n",
    "    f1=f1_score(target_valid, predictions_valid)\n",
    "    #print(f1) \n",
    "    if f1>best_f1:\n",
    "        best_model_tree=model\n",
    "        best_max_depth=depth\n",
    "        best_f1=f1\n",
    "        probabilities_valid = model.predict_proba(features_valid)\n",
    "        probabilities_one_valid = probabilities_valid[:, 1]\n",
    "        auc_roc=roc_auc_score(target_valid, probabilities_one_valid)\n",
    "\n",
    "print(f'Наилучшее дерево решений найдено, его оценка f1 составляет {round(best_f1,3)},', \n",
    "      f'AUC ROC составляет {round(auc_roc,3)} и макс глубина = {best_max_depth}')\n"
   ]
  },
  {
   "cell_type": "markdown",
   "metadata": {},
   "source": [
    "После взвешивания у дерева решений результаты немного улучшились."
   ]
  },
  {
   "cell_type": "code",
   "execution_count": 159,
   "metadata": {},
   "outputs": [
    {
     "name": "stdout",
     "output_type": "stream",
     "text": [
      "CPU times: user 7min 46s, sys: 2.31 s, total: 7min 48s\n",
      "Wall time: 7min 52s\n"
     ]
    },
    {
     "data": {
      "text/plain": [
       "GridSearchCV(cv=5, estimator=RandomForestClassifier(class_weight='balanced'),\n",
       "             param_grid={'max_depth': range(1, 13, 2),\n",
       "                         'min_samples_leaf': range(1, 8),\n",
       "                         'min_samples_split': range(2, 10, 2),\n",
       "                         'n_estimators': range(10, 51, 10)})"
      ]
     },
     "execution_count": 159,
     "metadata": {},
     "output_type": "execute_result"
    }
   ],
   "source": [
    "%%time\n",
    "#сделаем через GridSearch\n",
    "clf = RandomForestClassifier(class_weight='balanced')\n",
    "parametrs = { 'n_estimators': range (10, 51, 10),\n",
    "              'max_depth': range (1,13, 2),\n",
    "              'min_samples_leaf': range (1,8),\n",
    "              'min_samples_split': range (2,10,2) }\n",
    "grid = GridSearchCV(clf, parametrs, cv=5)\n",
    "grid.fit(features_train, target_train)"
   ]
  },
  {
   "cell_type": "code",
   "execution_count": 160,
   "metadata": {},
   "outputs": [
    {
     "data": {
      "text/plain": [
       "{'max_depth': 11,\n",
       " 'min_samples_leaf': 1,\n",
       " 'min_samples_split': 2,\n",
       " 'n_estimators': 40}"
      ]
     },
     "execution_count": 160,
     "metadata": {},
     "output_type": "execute_result"
    }
   ],
   "source": [
    "grid.best_params_"
   ]
  },
  {
   "cell_type": "code",
   "execution_count": 161,
   "metadata": {},
   "outputs": [
    {
     "data": {
      "text/plain": [
       "RandomForestClassifier(class_weight='balanced', max_depth=11, n_estimators=40)"
      ]
     },
     "execution_count": 161,
     "metadata": {},
     "output_type": "execute_result"
    }
   ],
   "source": [
    "grid.best_estimator_"
   ]
  },
  {
   "cell_type": "code",
   "execution_count": 162,
   "metadata": {},
   "outputs": [],
   "source": [
    "pred_valid= grid.best_estimator_.predict(features_valid)"
   ]
  },
  {
   "cell_type": "code",
   "execution_count": 163,
   "metadata": {},
   "outputs": [
    {
     "name": "stdout",
     "output_type": "stream",
     "text": [
      "0.511033681765389\n"
     ]
    }
   ],
   "source": [
    "\n",
    "print(f1_score(target_valid, predictions_valid ))"
   ]
  },
  {
   "cell_type": "code",
   "execution_count": 164,
   "metadata": {},
   "outputs": [
    {
     "name": "stdout",
     "output_type": "stream",
     "text": [
      "0.8643141681710724\n"
     ]
    }
   ],
   "source": [
    "probabilities_valid = grid.best_estimator_.predict_proba(features_valid)\n",
    "probabilities_one_valid = probabilities_valid[:, 1]\n",
    "auc_roc=roc_auc_score(target_valid, probabilities_one_valid)\n",
    "\n",
    "print(auc_roc)"
   ]
  },
  {
   "cell_type": "markdown",
   "metadata": {},
   "source": [
    "Вывод - Результаты случайного леса особо не увеличились"
   ]
  },
  {
   "cell_type": "markdown",
   "metadata": {},
   "source": [
    "### Увеличение выборки"
   ]
  },
  {
   "cell_type": "code",
   "execution_count": 165,
   "metadata": {},
   "outputs": [],
   "source": [
    "def upsample(features, target, repeat):\n",
    "    features_zeros = features[target == 0] # выделяем объекты с классом 0\n",
    "    features_ones = features[target == 1] # с классов 1\n",
    "    target_zeros = target[target == 0] # аналогично для датасета с таргетом\n",
    "    target_ones = target[target == 1]\n",
    "\n",
    "    features_upsampled = pd.concat([features_zeros] + [features_ones] * repeat) # умножаем объекты класса 1 и соединяем датасеты\n",
    "    target_upsampled = pd.concat([target_zeros] + [target_ones] * repeat) # аналогично для таргета\n",
    "    \n",
    "    features_upsampled, target_upsampled = shuffle(\n",
    "        features_upsampled, target_upsampled, random_state=12345) # перемешиваем объекты\n",
    "    \n",
    "    return features_upsampled, target_upsampled\n"
   ]
  },
  {
   "cell_type": "code",
   "execution_count": 166,
   "metadata": {},
   "outputs": [],
   "source": [
    "# применяем функцию к тренировочному датасету, нам требуется увеличить количество объектом класса 1 в 4 раза с учетом дисбаланса\n",
    "features_train_upsampled, target_train_upsampled = upsample(features_train, target_train, 4)"
   ]
  },
  {
   "cell_type": "code",
   "execution_count": 167,
   "metadata": {},
   "outputs": [
    {
     "data": {
      "text/html": [
       "<div>\n",
       "<style scoped>\n",
       "    .dataframe tbody tr th:only-of-type {\n",
       "        vertical-align: middle;\n",
       "    }\n",
       "\n",
       "    .dataframe tbody tr th {\n",
       "        vertical-align: top;\n",
       "    }\n",
       "\n",
       "    .dataframe thead th {\n",
       "        text-align: right;\n",
       "    }\n",
       "</style>\n",
       "<table border=\"1\" class=\"dataframe\">\n",
       "  <thead>\n",
       "    <tr style=\"text-align: right;\">\n",
       "      <th></th>\n",
       "      <th>credit_score</th>\n",
       "      <th>age</th>\n",
       "      <th>tenure</th>\n",
       "      <th>balance</th>\n",
       "      <th>num_of_products</th>\n",
       "      <th>has_cr_card</th>\n",
       "      <th>is_active_member</th>\n",
       "      <th>estimated_salary</th>\n",
       "      <th>geography_Germany</th>\n",
       "      <th>geography_Spain</th>\n",
       "      <th>gender_Male</th>\n",
       "    </tr>\n",
       "  </thead>\n",
       "  <tbody>\n",
       "    <tr>\n",
       "      <th>8794</th>\n",
       "      <td>706</td>\n",
       "      <td>29</td>\n",
       "      <td>1.0</td>\n",
       "      <td>209490.21</td>\n",
       "      <td>1</td>\n",
       "      <td>1</td>\n",
       "      <td>1</td>\n",
       "      <td>133267.69</td>\n",
       "      <td>0</td>\n",
       "      <td>1</td>\n",
       "      <td>0</td>\n",
       "    </tr>\n",
       "    <tr>\n",
       "      <th>6505</th>\n",
       "      <td>596</td>\n",
       "      <td>48</td>\n",
       "      <td>2.0</td>\n",
       "      <td>131326.47</td>\n",
       "      <td>1</td>\n",
       "      <td>0</td>\n",
       "      <td>0</td>\n",
       "      <td>1140.02</td>\n",
       "      <td>1</td>\n",
       "      <td>0</td>\n",
       "      <td>1</td>\n",
       "    </tr>\n",
       "    <tr>\n",
       "      <th>9877</th>\n",
       "      <td>505</td>\n",
       "      <td>33</td>\n",
       "      <td>3.0</td>\n",
       "      <td>106506.77</td>\n",
       "      <td>3</td>\n",
       "      <td>1</td>\n",
       "      <td>0</td>\n",
       "      <td>45445.78</td>\n",
       "      <td>1</td>\n",
       "      <td>0</td>\n",
       "      <td>0</td>\n",
       "    </tr>\n",
       "    <tr>\n",
       "      <th>1182</th>\n",
       "      <td>673</td>\n",
       "      <td>43</td>\n",
       "      <td>5.0</td>\n",
       "      <td>168069.73</td>\n",
       "      <td>1</td>\n",
       "      <td>1</td>\n",
       "      <td>1</td>\n",
       "      <td>146992.24</td>\n",
       "      <td>0</td>\n",
       "      <td>0</td>\n",
       "      <td>0</td>\n",
       "    </tr>\n",
       "    <tr>\n",
       "      <th>942</th>\n",
       "      <td>376</td>\n",
       "      <td>46</td>\n",
       "      <td>0.0</td>\n",
       "      <td>0.00</td>\n",
       "      <td>1</td>\n",
       "      <td>1</td>\n",
       "      <td>0</td>\n",
       "      <td>157333.69</td>\n",
       "      <td>0</td>\n",
       "      <td>0</td>\n",
       "      <td>0</td>\n",
       "    </tr>\n",
       "    <tr>\n",
       "      <th>...</th>\n",
       "      <td>...</td>\n",
       "      <td>...</td>\n",
       "      <td>...</td>\n",
       "      <td>...</td>\n",
       "      <td>...</td>\n",
       "      <td>...</td>\n",
       "      <td>...</td>\n",
       "      <td>...</td>\n",
       "      <td>...</td>\n",
       "      <td>...</td>\n",
       "      <td>...</td>\n",
       "    </tr>\n",
       "    <tr>\n",
       "      <th>1115</th>\n",
       "      <td>479</td>\n",
       "      <td>48</td>\n",
       "      <td>5.0</td>\n",
       "      <td>87070.23</td>\n",
       "      <td>1</td>\n",
       "      <td>0</td>\n",
       "      <td>1</td>\n",
       "      <td>85646.41</td>\n",
       "      <td>0</td>\n",
       "      <td>1</td>\n",
       "      <td>1</td>\n",
       "    </tr>\n",
       "    <tr>\n",
       "      <th>3351</th>\n",
       "      <td>474</td>\n",
       "      <td>34</td>\n",
       "      <td>9.0</td>\n",
       "      <td>176311.36</td>\n",
       "      <td>1</td>\n",
       "      <td>1</td>\n",
       "      <td>0</td>\n",
       "      <td>160213.27</td>\n",
       "      <td>1</td>\n",
       "      <td>0</td>\n",
       "      <td>0</td>\n",
       "    </tr>\n",
       "    <tr>\n",
       "      <th>3053</th>\n",
       "      <td>601</td>\n",
       "      <td>34</td>\n",
       "      <td>5.0</td>\n",
       "      <td>0.00</td>\n",
       "      <td>2</td>\n",
       "      <td>1</td>\n",
       "      <td>0</td>\n",
       "      <td>27022.57</td>\n",
       "      <td>0</td>\n",
       "      <td>0</td>\n",
       "      <td>0</td>\n",
       "    </tr>\n",
       "    <tr>\n",
       "      <th>2776</th>\n",
       "      <td>689</td>\n",
       "      <td>39</td>\n",
       "      <td>7.0</td>\n",
       "      <td>0.00</td>\n",
       "      <td>2</td>\n",
       "      <td>0</td>\n",
       "      <td>0</td>\n",
       "      <td>14917.09</td>\n",
       "      <td>0</td>\n",
       "      <td>0</td>\n",
       "      <td>1</td>\n",
       "    </tr>\n",
       "    <tr>\n",
       "      <th>2741</th>\n",
       "      <td>535</td>\n",
       "      <td>38</td>\n",
       "      <td>8.0</td>\n",
       "      <td>0.00</td>\n",
       "      <td>2</td>\n",
       "      <td>1</td>\n",
       "      <td>0</td>\n",
       "      <td>136620.64</td>\n",
       "      <td>0</td>\n",
       "      <td>0</td>\n",
       "      <td>0</td>\n",
       "    </tr>\n",
       "  </tbody>\n",
       "</table>\n",
       "<p>9546 rows × 11 columns</p>\n",
       "</div>"
      ],
      "text/plain": [
       "      credit_score  age  tenure    balance  num_of_products  has_cr_card  \\\n",
       "8794           706   29     1.0  209490.21                1            1   \n",
       "6505           596   48     2.0  131326.47                1            0   \n",
       "9877           505   33     3.0  106506.77                3            1   \n",
       "1182           673   43     5.0  168069.73                1            1   \n",
       "942            376   46     0.0       0.00                1            1   \n",
       "...            ...  ...     ...        ...              ...          ...   \n",
       "1115           479   48     5.0   87070.23                1            0   \n",
       "3351           474   34     9.0  176311.36                1            1   \n",
       "3053           601   34     5.0       0.00                2            1   \n",
       "2776           689   39     7.0       0.00                2            0   \n",
       "2741           535   38     8.0       0.00                2            1   \n",
       "\n",
       "      is_active_member  estimated_salary  geography_Germany  geography_Spain  \\\n",
       "8794                 1         133267.69                  0                1   \n",
       "6505                 0           1140.02                  1                0   \n",
       "9877                 0          45445.78                  1                0   \n",
       "1182                 1         146992.24                  0                0   \n",
       "942                  0         157333.69                  0                0   \n",
       "...                ...               ...                ...              ...   \n",
       "1115                 1          85646.41                  0                1   \n",
       "3351                 0         160213.27                  1                0   \n",
       "3053                 0          27022.57                  0                0   \n",
       "2776                 0          14917.09                  0                0   \n",
       "2741                 0         136620.64                  0                0   \n",
       "\n",
       "      gender_Male  \n",
       "8794            0  \n",
       "6505            1  \n",
       "9877            0  \n",
       "1182            0  \n",
       "942             0  \n",
       "...           ...  \n",
       "1115            1  \n",
       "3351            0  \n",
       "3053            0  \n",
       "2776            1  \n",
       "2741            0  \n",
       "\n",
       "[9546 rows x 11 columns]"
      ]
     },
     "execution_count": 167,
     "metadata": {},
     "output_type": "execute_result"
    }
   ],
   "source": [
    "features_train_upsampled"
   ]
  },
  {
   "cell_type": "code",
   "execution_count": 168,
   "metadata": {},
   "outputs": [
    {
     "data": {
      "text/plain": [
       "{0: 4818, 1: 4728}"
      ]
     },
     "execution_count": 168,
     "metadata": {},
     "output_type": "execute_result"
    }
   ],
   "source": [
    "unique, counts = np.unique(target_train_upsampled, return_counts=True)\n",
    "dict(zip(unique, counts))"
   ]
  },
  {
   "cell_type": "markdown",
   "metadata": {},
   "source": [
    "Функцию увеличения   выборки успешно применили на тренировочной выборке.\n",
    "\n",
    "\n",
    "Решили не использовать функцию уменьшения выборки, данных и так не очень много\n",
    "\n"
   ]
  },
  {
   "cell_type": "markdown",
   "metadata": {},
   "source": [
    "попробуем логрег"
   ]
  },
  {
   "cell_type": "code",
   "execution_count": 169,
   "metadata": {},
   "outputs": [
    {
     "data": {
      "text/plain": [
       "LogisticRegression(max_iter=100000, random_state=12345)"
      ]
     },
     "execution_count": 169,
     "metadata": {},
     "output_type": "execute_result"
    }
   ],
   "source": [
    "model_LR = LogisticRegression (random_state = 12345, solver = 'lbfgs',max_iter=100000)\n",
    "model_LR.fit(features_train_upsampled, target_train_upsampled) "
   ]
  },
  {
   "cell_type": "code",
   "execution_count": 170,
   "metadata": {},
   "outputs": [
    {
     "name": "stdout",
     "output_type": "stream",
     "text": [
      "0.4628482972136223\n",
      "0.7022495890951017\n"
     ]
    }
   ],
   "source": [
    "predictions_valid = model_LR.predict(features_valid)\n",
    "\n",
    "print(f1_score(target_valid, predictions_valid ))\n",
    "\n",
    "probabilities_valid = model_LR.predict_proba(features_valid)\n",
    "probabilities_one_valid = probabilities_valid[:, 1]\n",
    "auc_roc=roc_auc_score(target_valid, probabilities_one_valid)\n",
    "\n",
    "print(auc_roc)"
   ]
  },
  {
   "cell_type": "markdown",
   "metadata": {},
   "source": [
    "ну так себе! проверим модели дальше"
   ]
  },
  {
   "cell_type": "code",
   "execution_count": 171,
   "metadata": {
    "scrolled": true
   },
   "outputs": [
    {
     "name": "stdout",
     "output_type": "stream",
     "text": [
      "Наилучшее дерево решений найдено, его оценка f1 составляет 0.62, AUC ROC составляет 0.811 и макс глубина = 9\n"
     ]
    }
   ],
   "source": [
    "best_f1=0\n",
    "best_max_depth=0\n",
    "best_model_tree=None\n",
    "for depth in range(1,25):\n",
    "    model=DecisionTreeClassifier(max_depth=depth,random_state=12345)\n",
    "    model.fit(features_train_upsampled, target_train_upsampled)\n",
    "    predictions_valid = model.predict(features_valid)\n",
    "    #print(\"max_depth =\", depth, \": \", end='')\n",
    "    f1=f1_score(target_valid, predictions_valid)\n",
    "   # print(f1) \n",
    "    if f1>best_f1:\n",
    "        best_model_tree=model\n",
    "        best_max_depth=depth\n",
    "        best_f1=f1\n",
    "        probabilities_valid = model.predict_proba(features_valid)\n",
    "        probabilities_one_valid = probabilities_valid[:, 1]\n",
    "        auc_roc=roc_auc_score(target_valid, probabilities_one_valid)\n",
    "\n",
    "print(f'Наилучшее дерево решений найдено, его оценка f1 составляет {round(best_f1,3)},', \n",
    "      f'AUC ROC составляет {round(auc_roc,3)} и макс глубина = {best_max_depth}')"
   ]
  },
  {
   "cell_type": "markdown",
   "metadata": {},
   "source": [
    "и пальма первенства переходит дереву решений!!\n",
    "глянем случайный лес"
   ]
  },
  {
   "cell_type": "code",
   "execution_count": 172,
   "metadata": {},
   "outputs": [
    {
     "name": "stdout",
     "output_type": "stream",
     "text": [
      "CPU times: user 5min 37s, sys: 1.87 s, total: 5min 38s\n",
      "Wall time: 5min 39s\n"
     ]
    },
    {
     "data": {
      "text/plain": [
       "GridSearchCV(cv=3, estimator=RandomForestClassifier(),\n",
       "             param_grid={'max_depth': range(1, 13, 2),\n",
       "                         'min_samples_leaf': range(1, 8),\n",
       "                         'min_samples_split': range(2, 10, 2),\n",
       "                         'n_estimators': range(10, 51, 10)})"
      ]
     },
     "execution_count": 172,
     "metadata": {},
     "output_type": "execute_result"
    }
   ],
   "source": [
    "%%time\n",
    "#попробую через GridSearch\n",
    "clf = RandomForestClassifier()\n",
    "parametrs = { 'n_estimators': range (10, 51, 10),\n",
    "              'max_depth': range (1,13, 2),\n",
    "              'min_samples_leaf': range (1,8),\n",
    "              'min_samples_split': range (2,10,2) }\n",
    "grid = GridSearchCV(clf, parametrs, cv=3)\n",
    "grid.fit(features_train_upsampled, target_train_upsampled)"
   ]
  },
  {
   "cell_type": "code",
   "execution_count": 173,
   "metadata": {},
   "outputs": [
    {
     "data": {
      "text/plain": [
       "RandomForestClassifier(max_depth=11, n_estimators=50)"
      ]
     },
     "execution_count": 173,
     "metadata": {},
     "output_type": "execute_result"
    }
   ],
   "source": [
    "grid.best_estimator_"
   ]
  },
  {
   "cell_type": "code",
   "execution_count": 174,
   "metadata": {},
   "outputs": [
    {
     "name": "stdout",
     "output_type": "stream",
     "text": [
      "0.5255972696245734\n"
     ]
    }
   ],
   "source": [
    "pred_valid= grid.best_estimator_.predict(features_valid)\n",
    "print(f1_score(target_valid, predictions_valid ))"
   ]
  },
  {
   "cell_type": "code",
   "execution_count": 175,
   "metadata": {},
   "outputs": [
    {
     "name": "stdout",
     "output_type": "stream",
     "text": [
      "0.862738619104277\n"
     ]
    }
   ],
   "source": [
    "probabilities_valid = grid.best_estimator_.predict_proba(features_valid)\n",
    "probabilities_one_valid = probabilities_valid[:, 1]\n",
    "auc_roc=roc_auc_score(target_valid, probabilities_one_valid)\n",
    "\n",
    "print(auc_roc)"
   ]
  },
  {
   "cell_type": "markdown",
   "metadata": {},
   "source": [
    "Вывод - после сбалансированности качество обучения значительно улучшилось, лучшие результаты показало дерево решений с максимальной глубиной 9 и f1 в 0.62"
   ]
  },
  {
   "cell_type": "markdown",
   "metadata": {},
   "source": [
    "Исследовали два метода борьбы с дисбалансом данных: балансировка весов классов и увеличение выборки.\n",
    "\n",
    "уменьшение выборки нет смысла брать, и так мало примеров.\n"
   ]
  },
  {
   "cell_type": "markdown",
   "metadata": {},
   "source": [
    "## Тестирование модели"
   ]
  },
  {
   "cell_type": "markdown",
   "metadata": {},
   "source": [
    "Соединим обучающие примеры и валидационные"
   ]
  },
  {
   "cell_type": "code",
   "execution_count": 176,
   "metadata": {},
   "outputs": [],
   "source": [
    "features_train_all = pd.concat([features_train_upsampled] + [features_valid] ) # умножаем объекты класса 1 и соединяем датасеты\n",
    "target_train_all = pd.concat([target_train_upsampled] + [target_valid] )"
   ]
  },
  {
   "cell_type": "code",
   "execution_count": 177,
   "metadata": {},
   "outputs": [
    {
     "data": {
      "text/plain": [
       "DecisionTreeClassifier(max_depth=9, random_state=12345)"
      ]
     },
     "execution_count": 177,
     "metadata": {},
     "output_type": "execute_result"
    }
   ],
   "source": [
    "model=DecisionTreeClassifier(max_depth=9,random_state=12345)\n",
    "model.fit(features_train_all, target_train_all)"
   ]
  },
  {
   "cell_type": "code",
   "execution_count": 179,
   "metadata": {},
   "outputs": [
    {
     "name": "stdout",
     "output_type": "stream",
     "text": [
      "на валидационных примерах F1 составляет 0.6612077789150461, AUC ROC составляет 0.893712126906152\n"
     ]
    }
   ],
   "source": [
    "predictions_valid = model.predict(features_valid)\n",
    "f1=f1_score(target_valid, predictions_valid)\n",
    "probabilities_valid = model.predict_proba(features_valid)\n",
    "probabilities_one_valid = probabilities_valid[:, 1]\n",
    "auc_roc=roc_auc_score(target_valid, probabilities_one_valid)\n",
    "print(f'на валидационных примерах F1 составляет {f1}, AUC ROC составляет {auc_roc}')"
   ]
  },
  {
   "cell_type": "markdown",
   "metadata": {},
   "source": [
    "Оценим на тестовом множестве"
   ]
  },
  {
   "cell_type": "code",
   "execution_count": 180,
   "metadata": {},
   "outputs": [
    {
     "name": "stdout",
     "output_type": "stream",
     "text": [
      "F1 составляет 0.5811965811965811, AUC ROC составляет 0.8010981875670489\n"
     ]
    }
   ],
   "source": [
    "predictions_test = model.predict(features_test)\n",
    "f1=f1_score(target_test, predictions_test)\n",
    "probabilities_test = model.predict_proba(features_test)\n",
    "probabilities_one_test = probabilities_test[:, 1]\n",
    "auc_roc=roc_auc_score(target_test, probabilities_one_test)\n",
    "print(f'F1 составляет {f1}, AUC ROC составляет {auc_roc}')"
   ]
  },
  {
   "cell_type": "markdown",
   "metadata": {},
   "source": [
    "Оценим важность фич"
   ]
  },
  {
   "cell_type": "code",
   "execution_count": 187,
   "metadata": {},
   "outputs": [
    {
     "data": {
      "image/png": "[encoded data removed]",
      "text/plain": [
       "<Figure size 1152x1008 with 1 Axes>"
      ]
     },
     "metadata": {
      "needs_background": "light"
     },
     "output_type": "display_data"
    }
   ],
   "source": [
    "imp = pd.Series(model.feature_importances_,\n",
    "                         data.drop(['exited','row_number','customer_id','surname'] , axis=1).columns)\n",
    "\n",
    "fig, ax = plt.subplots(figsize=(16,14))\n",
    "imp.plot.bar(ax=ax)\n",
    "ax.set_title(\"Важность признаков\")\n",
    "ax.set_ylabel('Важность')\n",
    "fig.tight_layout()"
   ]
  },
  {
   "cell_type": "markdown",
   "metadata": {},
   "source": [
    "Вывод - подготовили данные, исследовали обучение моделей при несбалансированности, качество моделей оказалось чуть выше случайных, устранили дисбаланс сэмплированием, качество резко повысилось, наилучшая модель - дерево решений с максимальной глубиной в 9. F1 на тестовом множестве составила 0.58, а AUC-ROC составила 0.80, что является хорошим результатом.\n",
    "\n",
    "Большое значение на уход с банка имеют такие факторы как возраст клиента, баланс на счете и количество продуктов банка, которыми он пользуется."
   ]
  },
  {
   "cell_type": "markdown",
   "metadata": {},
   "source": [
    "# <font color='orange'>Рекомендации студентам GeekBrains для выполнения проекта 🔥</font>\n",
    "* Анализ данных на python и pandas https://www.youtube.com/watch?v=dd3RcafdOQk&t=82s\n",
    "* Курс \"Введение в машинное обучение\" https://stepik.org/course/4852\n",
    "* Разумные способы кодирования категориальных данных для машинного обучения https://machinelearningmastery.ru/smarter-ways-to-encode-categorical-data-for-machine-learning-part-1-of-3-6dca2f71b159/\n",
    "* Статья про \"непонятную\" метрику ROC-AUC https://dyakonov.org/2017/07/28/auc-roc-площадь-под-кривой-ошибок/\n",
    "* Хочешь подтянуть математику для DS?) https://academy.stepik.org/math-for-data-science\n",
    "* Результаты обучения моделей можно визуализировать 😎 https://www.datatechnotes.com/2019/08/elasticnet-regression-example-in-python.html\n",
    "* В нашем деле нужно быть всегда в курсе всех новинок, новостей и тд, вот тут публикуют новости в области DS: https://www.infoq.com/data-analysis/news/\n",
    "* Всем аналитикам данных рекомендую книгу Даниела Канемана \"Думай медленно, решай быстро\""
   ]
  }
 ],
 "metadata": {
  "ExecuteTimeLog": [
   {
    "duration": 1038,
    "start_time": "2022-10-25T08:47:39.922Z"
   },
   {
    "duration": 153,
    "start_time": "2022-10-25T08:48:13.439Z"
   },
   {
    "duration": 11,
    "start_time": "2022-10-25T08:48:20.989Z"
   },
   {
    "duration": 3,
    "start_time": "2022-10-25T08:50:56.927Z"
   },
   {
    "duration": 47,
    "start_time": "2022-10-25T08:51:32.246Z"
   },
   {
    "duration": 5,
    "start_time": "2022-10-25T08:59:46.609Z"
   },
   {
    "duration": 67,
    "start_time": "2022-10-25T09:05:28.119Z"
   },
   {
    "duration": 4,
    "start_time": "2022-10-25T09:54:27.303Z"
   },
   {
    "duration": 127,
    "start_time": "2022-10-25T10:40:16.939Z"
   },
   {
    "duration": 91,
    "start_time": "2022-10-25T10:47:13.969Z"
   },
   {
    "duration": 4,
    "start_time": "2022-10-25T10:47:19.799Z"
   },
   {
    "duration": 4,
    "start_time": "2022-10-25T10:47:25.979Z"
   },
   {
    "duration": 13,
    "start_time": "2022-10-25T10:47:46.018Z"
   },
   {
    "duration": 12,
    "start_time": "2022-10-25T10:48:04.243Z"
   },
   {
    "duration": 8,
    "start_time": "2022-10-25T10:48:49.441Z"
   },
   {
    "duration": 17,
    "start_time": "2022-10-25T10:48:57.064Z"
   },
   {
    "duration": 18,
    "start_time": "2022-10-25T10:52:51.746Z"
   },
   {
    "duration": 8,
    "start_time": "2022-10-25T10:53:52.388Z"
   },
   {
    "duration": 16,
    "start_time": "2022-10-25T10:53:53.219Z"
   },
   {
    "duration": 17,
    "start_time": "2022-10-25T10:53:54.468Z"
   },
   {
    "duration": 8,
    "start_time": "2022-10-25T11:09:36.600Z"
   },
   {
    "duration": 8,
    "start_time": "2022-10-25T11:09:41.940Z"
   },
   {
    "duration": 3,
    "start_time": "2022-10-25T11:09:47.002Z"
   },
   {
    "duration": 5,
    "start_time": "2022-10-25T11:09:50.663Z"
   },
   {
    "duration": 5,
    "start_time": "2022-10-25T11:11:04.667Z"
   },
   {
    "duration": 39,
    "start_time": "2022-10-25T11:11:14.069Z"
   },
   {
    "duration": 3,
    "start_time": "2022-10-25T11:11:18.497Z"
   },
   {
    "duration": 6,
    "start_time": "2022-10-25T11:11:21.806Z"
   },
   {
    "duration": 5,
    "start_time": "2022-10-25T11:15:44.668Z"
   },
   {
    "duration": 9,
    "start_time": "2022-10-25T11:16:02.160Z"
   },
   {
    "duration": 16,
    "start_time": "2022-10-25T11:16:03.601Z"
   },
   {
    "duration": 17,
    "start_time": "2022-10-25T11:16:09.121Z"
   },
   {
    "duration": 9,
    "start_time": "2022-10-25T11:17:37.398Z"
   },
   {
    "duration": 7,
    "start_time": "2022-10-25T11:18:20.359Z"
   },
   {
    "duration": 1143,
    "start_time": "2022-10-25T11:18:33.538Z"
   },
   {
    "duration": 36,
    "start_time": "2022-10-25T11:18:34.683Z"
   },
   {
    "duration": 12,
    "start_time": "2022-10-25T11:18:34.721Z"
   },
   {
    "duration": 4,
    "start_time": "2022-10-25T11:18:34.735Z"
   },
   {
    "duration": 53,
    "start_time": "2022-10-25T11:18:34.741Z"
   },
   {
    "duration": 6,
    "start_time": "2022-10-25T11:18:34.795Z"
   },
   {
    "duration": 24,
    "start_time": "2022-10-25T11:18:34.803Z"
   },
   {
    "duration": 7,
    "start_time": "2022-10-25T11:18:34.829Z"
   },
   {
    "duration": 7,
    "start_time": "2022-10-25T11:18:34.837Z"
   },
   {
    "duration": 6,
    "start_time": "2022-10-25T11:18:34.845Z"
   },
   {
    "duration": 13,
    "start_time": "2022-10-25T11:18:34.853Z"
   },
   {
    "duration": 5,
    "start_time": "2022-10-25T11:18:34.867Z"
   },
   {
    "duration": 10,
    "start_time": "2022-10-25T11:18:34.874Z"
   },
   {
    "duration": 9,
    "start_time": "2022-10-25T11:18:34.886Z"
   },
   {
    "duration": 31,
    "start_time": "2022-10-25T11:18:34.896Z"
   },
   {
    "duration": 14,
    "start_time": "2022-10-25T11:18:34.928Z"
   },
   {
    "duration": 89,
    "start_time": "2022-10-25T11:18:34.943Z"
   },
   {
    "duration": 269,
    "start_time": "2022-10-25T11:20:04.154Z"
   },
   {
    "duration": 10,
    "start_time": "2022-10-25T11:20:26.453Z"
   },
   {
    "duration": 3260,
    "start_time": "2022-10-25T11:20:58.061Z"
   },
   {
    "duration": 17,
    "start_time": "2022-10-25T11:26:50.901Z"
   },
   {
    "duration": 16,
    "start_time": "2022-10-25T11:27:07.786Z"
   },
   {
    "duration": 2,
    "start_time": "2022-10-25T11:31:57.888Z"
   },
   {
    "duration": 71,
    "start_time": "2022-10-25T11:32:16.752Z"
   },
   {
    "duration": 88,
    "start_time": "2022-10-25T11:32:26.944Z"
   },
   {
    "duration": 3,
    "start_time": "2022-10-25T11:33:52.506Z"
   },
   {
    "duration": 46,
    "start_time": "2022-10-25T11:34:09.260Z"
   },
   {
    "duration": 5,
    "start_time": "2022-10-25T11:34:56.344Z"
   },
   {
    "duration": 4,
    "start_time": "2022-10-25T11:36:30.426Z"
   },
   {
    "duration": 4,
    "start_time": "2022-10-25T11:36:33.354Z"
   },
   {
    "duration": 7,
    "start_time": "2022-10-25T11:38:22.503Z"
   },
   {
    "duration": 44,
    "start_time": "2022-10-25T11:38:43.520Z"
   },
   {
    "duration": 3,
    "start_time": "2022-10-25T11:43:40.492Z"
   },
   {
    "duration": 528918,
    "start_time": "2022-10-25T11:44:55.162Z"
   },
   {
    "duration": 4,
    "start_time": "2022-10-25T11:54:05.443Z"
   },
   {
    "duration": 4,
    "start_time": "2022-10-25T11:54:10.469Z"
   },
   {
    "duration": 10,
    "start_time": "2022-10-25T11:54:55.224Z"
   },
   {
    "duration": 16,
    "start_time": "2022-10-25T11:55:51.534Z"
   },
   {
    "duration": 5,
    "start_time": "2022-10-25T11:55:59.338Z"
   },
   {
    "duration": 5,
    "start_time": "2022-10-25T11:56:39.836Z"
   },
   {
    "duration": 7,
    "start_time": "2022-10-25T11:56:40.468Z"
   },
   {
    "duration": 63,
    "start_time": "2022-10-25T11:57:24.886Z"
   },
   {
    "duration": 157,
    "start_time": "2022-10-25T11:57:36.685Z"
   },
   {
    "duration": 6779,
    "start_time": "2022-10-25T11:57:44.021Z"
   },
   {
    "duration": 640,
    "start_time": "2022-10-25T11:57:59.899Z"
   },
   {
    "duration": 8,
    "start_time": "2022-10-25T11:58:11.763Z"
   },
   {
    "duration": 11,
    "start_time": "2022-10-25T12:00:26.928Z"
   },
   {
    "duration": 9,
    "start_time": "2022-10-25T12:00:49.310Z"
   },
   {
    "duration": 413,
    "start_time": "2022-10-25T12:00:54.341Z"
   },
   {
    "duration": 8,
    "start_time": "2022-10-25T12:00:57.703Z"
   },
   {
    "duration": 7,
    "start_time": "2022-10-25T12:01:14.028Z"
   },
   {
    "duration": 4,
    "start_time": "2022-10-25T12:01:18.189Z"
   },
   {
    "duration": 447,
    "start_time": "2022-10-25T12:02:04.982Z"
   },
   {
    "duration": 686,
    "start_time": "2022-10-25T12:02:11.049Z"
   },
   {
    "duration": 11,
    "start_time": "2022-10-25T12:02:37.567Z"
   },
   {
    "duration": 16,
    "start_time": "2022-10-25T12:05:00.586Z"
   },
   {
    "duration": 6,
    "start_time": "2022-10-25T12:05:06.101Z"
   },
   {
    "duration": 464,
    "start_time": "2022-10-25T12:05:33.263Z"
   },
   {
    "duration": 378,
    "start_time": "2022-10-25T12:05:42.454Z"
   },
   {
    "duration": 488,
    "start_time": "2022-10-25T12:05:46.940Z"
   },
   {
    "duration": 9,
    "start_time": "2022-10-25T12:05:54.857Z"
   },
   {
    "duration": 792,
    "start_time": "2022-10-25T12:06:36.868Z"
   },
   {
    "duration": 6,
    "start_time": "2022-10-25T12:07:15.214Z"
   },
   {
    "duration": 383125,
    "start_time": "2022-10-25T12:08:44.397Z"
   },
   {
    "duration": 4,
    "start_time": "2022-10-25T12:32:18.011Z"
   },
   {
    "duration": 34,
    "start_time": "2022-10-25T12:32:56.385Z"
   },
   {
    "duration": 34,
    "start_time": "2022-10-25T12:33:29.635Z"
   },
   {
    "duration": 32,
    "start_time": "2022-10-25T12:33:47.895Z"
   },
   {
    "duration": 456,
    "start_time": "2022-10-25T12:38:39.948Z"
   },
   {
    "duration": 30,
    "start_time": "2022-10-25T12:38:52.089Z"
   },
   {
    "duration": 36,
    "start_time": "2022-10-25T12:38:56.623Z"
   },
   {
    "duration": 1079,
    "start_time": "2022-10-25T12:42:58.389Z"
   },
   {
    "duration": 38,
    "start_time": "2022-10-25T12:42:59.470Z"
   },
   {
    "duration": 13,
    "start_time": "2022-10-25T12:42:59.509Z"
   },
   {
    "duration": 5,
    "start_time": "2022-10-25T12:42:59.524Z"
   },
   {
    "duration": 56,
    "start_time": "2022-10-25T12:42:59.530Z"
   },
   {
    "duration": 7,
    "start_time": "2022-10-25T12:42:59.588Z"
   },
   {
    "duration": 26,
    "start_time": "2022-10-25T12:42:59.596Z"
   },
   {
    "duration": 5,
    "start_time": "2022-10-25T12:42:59.623Z"
   },
   {
    "duration": 9,
    "start_time": "2022-10-25T12:42:59.630Z"
   },
   {
    "duration": 4,
    "start_time": "2022-10-25T12:42:59.641Z"
   },
   {
    "duration": 12,
    "start_time": "2022-10-25T12:42:59.646Z"
   },
   {
    "duration": 5,
    "start_time": "2022-10-25T12:42:59.659Z"
   },
   {
    "duration": 10,
    "start_time": "2022-10-25T12:42:59.665Z"
   },
   {
    "duration": 9,
    "start_time": "2022-10-25T12:42:59.676Z"
   },
   {
    "duration": 36,
    "start_time": "2022-10-25T12:42:59.686Z"
   },
   {
    "duration": 9,
    "start_time": "2022-10-25T12:42:59.725Z"
   },
   {
    "duration": 25,
    "start_time": "2022-10-25T12:42:59.736Z"
   },
   {
    "duration": 44,
    "start_time": "2022-10-25T12:42:59.762Z"
   },
   {
    "duration": 18,
    "start_time": "2022-10-25T12:42:59.808Z"
   },
   {
    "duration": 97,
    "start_time": "2022-10-25T12:42:59.828Z"
   },
   {
    "duration": 0,
    "start_time": "2022-10-25T12:42:59.927Z"
   },
   {
    "duration": 0,
    "start_time": "2022-10-25T12:42:59.928Z"
   },
   {
    "duration": 0,
    "start_time": "2022-10-25T12:42:59.929Z"
   },
   {
    "duration": 0,
    "start_time": "2022-10-25T12:42:59.930Z"
   },
   {
    "duration": 0,
    "start_time": "2022-10-25T12:42:59.931Z"
   },
   {
    "duration": 0,
    "start_time": "2022-10-25T12:42:59.932Z"
   },
   {
    "duration": 0,
    "start_time": "2022-10-25T12:42:59.933Z"
   },
   {
    "duration": 0,
    "start_time": "2022-10-25T12:42:59.934Z"
   },
   {
    "duration": 0,
    "start_time": "2022-10-25T12:42:59.935Z"
   },
   {
    "duration": 0,
    "start_time": "2022-10-25T12:42:59.936Z"
   },
   {
    "duration": 0,
    "start_time": "2022-10-25T12:42:59.937Z"
   },
   {
    "duration": 0,
    "start_time": "2022-10-25T12:42:59.938Z"
   },
   {
    "duration": 0,
    "start_time": "2022-10-25T12:42:59.939Z"
   },
   {
    "duration": 0,
    "start_time": "2022-10-25T12:42:59.940Z"
   },
   {
    "duration": 0,
    "start_time": "2022-10-25T12:42:59.942Z"
   },
   {
    "duration": 0,
    "start_time": "2022-10-25T12:42:59.943Z"
   },
   {
    "duration": 0,
    "start_time": "2022-10-25T12:42:59.944Z"
   },
   {
    "duration": 0,
    "start_time": "2022-10-25T12:42:59.945Z"
   },
   {
    "duration": 0,
    "start_time": "2022-10-25T12:42:59.947Z"
   },
   {
    "duration": 0,
    "start_time": "2022-10-25T12:42:59.948Z"
   },
   {
    "duration": 0,
    "start_time": "2022-10-25T12:42:59.950Z"
   },
   {
    "duration": 0,
    "start_time": "2022-10-25T12:42:59.951Z"
   },
   {
    "duration": 0,
    "start_time": "2022-10-25T12:42:59.952Z"
   },
   {
    "duration": 0,
    "start_time": "2022-10-25T12:42:59.954Z"
   },
   {
    "duration": 4,
    "start_time": "2022-10-25T12:51:06.623Z"
   },
   {
    "duration": 1038,
    "start_time": "2022-10-25T12:51:22.059Z"
   },
   {
    "duration": 37,
    "start_time": "2022-10-25T12:51:23.099Z"
   },
   {
    "duration": 12,
    "start_time": "2022-10-25T12:51:23.138Z"
   },
   {
    "duration": 3,
    "start_time": "2022-10-25T12:51:23.152Z"
   },
   {
    "duration": 66,
    "start_time": "2022-10-25T12:51:23.157Z"
   },
   {
    "duration": 7,
    "start_time": "2022-10-25T12:51:23.224Z"
   },
   {
    "duration": 5,
    "start_time": "2022-10-25T12:51:23.233Z"
   },
   {
    "duration": 7,
    "start_time": "2022-10-25T12:51:23.240Z"
   },
   {
    "duration": 8,
    "start_time": "2022-10-25T12:51:23.249Z"
   },
   {
    "duration": 4,
    "start_time": "2022-10-25T12:51:23.260Z"
   },
   {
    "duration": 15,
    "start_time": "2022-10-25T12:51:23.265Z"
   },
   {
    "duration": 42,
    "start_time": "2022-10-25T12:51:23.281Z"
   },
   {
    "duration": 5,
    "start_time": "2022-10-25T12:51:23.324Z"
   },
   {
    "duration": 10,
    "start_time": "2022-10-25T12:51:23.330Z"
   },
   {
    "duration": 7,
    "start_time": "2022-10-25T12:51:23.341Z"
   },
   {
    "duration": 12,
    "start_time": "2022-10-25T12:51:23.349Z"
   },
   {
    "duration": 14,
    "start_time": "2022-10-25T12:51:23.363Z"
   },
   {
    "duration": 69,
    "start_time": "2022-10-25T12:51:23.378Z"
   },
   {
    "duration": 8,
    "start_time": "2022-10-25T12:51:23.449Z"
   },
   {
    "duration": 518776,
    "start_time": "2022-10-25T12:51:23.459Z"
   },
   {
    "duration": 4,
    "start_time": "2022-10-25T13:00:02.237Z"
   },
   {
    "duration": 54,
    "start_time": "2022-10-25T13:00:02.243Z"
   },
   {
    "duration": 71,
    "start_time": "2022-10-25T13:00:02.299Z"
   },
   {
    "duration": 64,
    "start_time": "2022-10-25T13:00:02.371Z"
   },
   {
    "duration": 84,
    "start_time": "2022-10-25T13:00:02.436Z"
   },
   {
    "duration": 700,
    "start_time": "2022-10-25T13:00:02.522Z"
   },
   {
    "duration": 7,
    "start_time": "2022-10-25T13:00:03.223Z"
   },
   {
    "duration": 394,
    "start_time": "2022-10-25T13:00:03.233Z"
   },
   {
    "duration": 100,
    "start_time": "2022-10-25T13:00:03.628Z"
   },
   {
    "duration": 96,
    "start_time": "2022-10-25T13:00:03.730Z"
   },
   {
    "duration": 16,
    "start_time": "2022-10-25T13:00:03.827Z"
   },
   {
    "duration": 18,
    "start_time": "2022-10-25T13:00:03.845Z"
   },
   {
    "duration": 28,
    "start_time": "2022-10-25T13:00:03.865Z"
   },
   {
    "duration": 437,
    "start_time": "2022-10-25T13:00:03.895Z"
   },
   {
    "duration": 96,
    "start_time": "2022-10-25T13:00:04.334Z"
   },
   {
    "duration": 837,
    "start_time": "2022-10-25T13:00:04.522Z"
   },
   {
    "duration": 6,
    "start_time": "2022-10-25T13:00:05.362Z"
   },
   {
    "duration": 376613,
    "start_time": "2022-10-25T13:00:05.371Z"
   },
   {
    "duration": 4,
    "start_time": "2022-10-25T13:06:21.986Z"
   },
   {
    "duration": 32,
    "start_time": "2022-10-25T13:06:21.992Z"
   },
   {
    "duration": 22,
    "start_time": "2022-10-25T13:06:22.027Z"
   },
   {
    "duration": 245,
    "start_time": "2022-10-25T13:06:22.051Z"
   },
   {
    "duration": 33,
    "start_time": "2022-10-25T13:06:22.298Z"
   },
   {
    "duration": 19,
    "start_time": "2022-10-25T13:06:22.333Z"
   },
   {
    "duration": 1143,
    "start_time": "2022-10-26T05:31:41.565Z"
   },
   {
    "duration": 80,
    "start_time": "2022-10-26T05:31:43.691Z"
   },
   {
    "duration": 14,
    "start_time": "2022-10-26T05:31:44.289Z"
   },
   {
    "duration": 96,
    "start_time": "2022-10-26T05:31:45.939Z"
   },
   {
    "duration": 4,
    "start_time": "2022-10-26T05:31:57.517Z"
   },
   {
    "duration": 5,
    "start_time": "2022-10-26T05:31:59.291Z"
   },
   {
    "duration": 4,
    "start_time": "2022-10-26T05:32:59.647Z"
   },
   {
    "duration": 57,
    "start_time": "2022-10-26T05:33:02.727Z"
   },
   {
    "duration": 3,
    "start_time": "2022-10-26T05:37:33.886Z"
   },
   {
    "duration": 42,
    "start_time": "2022-10-26T05:37:34.557Z"
   },
   {
    "duration": 11,
    "start_time": "2022-10-26T05:37:35.109Z"
   },
   {
    "duration": 3,
    "start_time": "2022-10-26T05:37:36.645Z"
   },
   {
    "duration": 47,
    "start_time": "2022-10-26T05:37:38.605Z"
   },
   {
    "duration": 4,
    "start_time": "2022-10-26T05:37:54.353Z"
   },
   {
    "duration": 3,
    "start_time": "2022-10-26T05:39:08.273Z"
   },
   {
    "duration": 38,
    "start_time": "2022-10-26T05:39:08.822Z"
   },
   {
    "duration": 12,
    "start_time": "2022-10-26T05:39:09.314Z"
   },
   {
    "duration": 4,
    "start_time": "2022-10-26T05:39:10.392Z"
   },
   {
    "duration": 50,
    "start_time": "2022-10-26T05:39:12.582Z"
   },
   {
    "duration": 7,
    "start_time": "2022-10-26T05:40:44.392Z"
   },
   {
    "duration": 5,
    "start_time": "2022-10-26T05:40:46.545Z"
   },
   {
    "duration": 6,
    "start_time": "2022-10-26T05:40:47.169Z"
   },
   {
    "duration": 3,
    "start_time": "2022-10-26T05:40:48.619Z"
   },
   {
    "duration": 4,
    "start_time": "2022-10-26T05:40:49.390Z"
   },
   {
    "duration": 12,
    "start_time": "2022-10-26T05:41:05.968Z"
   },
   {
    "duration": 7,
    "start_time": "2022-10-26T05:41:07.352Z"
   },
   {
    "duration": 5,
    "start_time": "2022-10-26T05:41:09.862Z"
   },
   {
    "duration": 7,
    "start_time": "2022-10-26T05:41:11.294Z"
   },
   {
    "duration": 5,
    "start_time": "2022-10-26T05:41:12.716Z"
   },
   {
    "duration": 21,
    "start_time": "2022-10-26T05:44:22.572Z"
   },
   {
    "duration": 6,
    "start_time": "2022-10-26T05:44:34.565Z"
   },
   {
    "duration": 10,
    "start_time": "2022-10-26T07:11:19.610Z"
   },
   {
    "duration": 3,
    "start_time": "2022-10-26T07:11:35.638Z"
   },
   {
    "duration": 5,
    "start_time": "2022-10-26T07:13:38.149Z"
   },
   {
    "duration": 8,
    "start_time": "2022-10-26T07:13:48.688Z"
   },
   {
    "duration": 3,
    "start_time": "2022-10-26T07:14:45.031Z"
   },
   {
    "duration": 8,
    "start_time": "2022-10-26T07:15:23.635Z"
   },
   {
    "duration": 5,
    "start_time": "2022-10-26T07:15:32.937Z"
   },
   {
    "duration": 35,
    "start_time": "2022-10-26T07:16:28.802Z"
   },
   {
    "duration": 11,
    "start_time": "2022-10-26T07:47:16.859Z"
   },
   {
    "duration": 3,
    "start_time": "2022-10-26T07:47:38.549Z"
   },
   {
    "duration": 88,
    "start_time": "2022-10-26T07:47:42.998Z"
   },
   {
    "duration": 4,
    "start_time": "2022-10-26T07:48:52.857Z"
   },
   {
    "duration": 137,
    "start_time": "2022-10-26T07:49:30.541Z"
   },
   {
    "duration": 32,
    "start_time": "2022-10-26T07:49:31.557Z"
   },
   {
    "duration": 7,
    "start_time": "2022-10-26T07:51:49.898Z"
   },
   {
    "duration": 2,
    "start_time": "2022-10-26T07:51:50.999Z"
   },
   {
    "duration": 9,
    "start_time": "2022-10-26T07:51:51.465Z"
   },
   {
    "duration": 4,
    "start_time": "2022-10-26T07:51:52.970Z"
   },
   {
    "duration": 14,
    "start_time": "2022-10-26T07:51:55.557Z"
   },
   {
    "duration": 88,
    "start_time": "2022-10-26T07:52:03.890Z"
   },
   {
    "duration": 8,
    "start_time": "2022-10-26T07:52:14.291Z"
   },
   {
    "duration": 11,
    "start_time": "2022-10-26T07:52:23.753Z"
   },
   {
    "duration": 598,
    "start_time": "2022-10-26T07:56:16.468Z"
   },
   {
    "duration": 606,
    "start_time": "2022-10-26T07:56:24.095Z"
   },
   {
    "duration": 575,
    "start_time": "2022-10-26T07:56:33.709Z"
   },
   {
    "duration": 557,
    "start_time": "2022-10-26T07:57:23.249Z"
   },
   {
    "duration": 62,
    "start_time": "2022-10-26T07:57:49.048Z"
   },
   {
    "duration": 563,
    "start_time": "2022-10-26T07:57:58.861Z"
   },
   {
    "duration": 552,
    "start_time": "2022-10-26T07:58:07.495Z"
   },
   {
    "duration": 494730,
    "start_time": "2022-10-26T07:59:41.471Z"
   },
   {
    "duration": 4,
    "start_time": "2022-10-26T08:07:56.203Z"
   },
   {
    "duration": 8,
    "start_time": "2022-10-26T08:07:56.208Z"
   },
   {
    "duration": 25,
    "start_time": "2022-10-26T08:07:56.217Z"
   },
   {
    "duration": 5,
    "start_time": "2022-10-26T08:07:56.244Z"
   },
   {
    "duration": 40,
    "start_time": "2022-10-26T08:07:56.251Z"
   },
   {
    "duration": 4,
    "start_time": "2022-10-26T08:10:19.401Z"
   },
   {
    "duration": 111,
    "start_time": "2022-10-26T09:09:37.270Z"
   },
   {
    "duration": 7,
    "start_time": "2022-10-26T09:09:53.145Z"
   },
   {
    "duration": 7,
    "start_time": "2022-10-26T09:10:01.774Z"
   },
   {
    "duration": 600,
    "start_time": "2022-10-26T09:11:22.544Z"
   },
   {
    "duration": 6,
    "start_time": "2022-10-26T09:12:37.856Z"
   },
   {
    "duration": 496832,
    "start_time": "2022-10-26T09:13:05.572Z"
   },
   {
    "duration": 3,
    "start_time": "2022-10-26T09:21:37.301Z"
   },
   {
    "duration": 4,
    "start_time": "2022-10-26T09:21:38.159Z"
   },
   {
    "duration": 18,
    "start_time": "2022-10-26T09:21:39.439Z"
   },
   {
    "duration": 6,
    "start_time": "2022-10-26T09:21:40.529Z"
   },
   {
    "duration": 24,
    "start_time": "2022-10-26T09:21:41.700Z"
   },
   {
    "duration": 492997,
    "start_time": "2022-10-26T09:22:16.947Z"
   },
   {
    "duration": 4,
    "start_time": "2022-10-26T09:32:28.648Z"
   },
   {
    "duration": 4,
    "start_time": "2022-10-26T09:32:29.433Z"
   },
   {
    "duration": 34,
    "start_time": "2022-10-26T09:32:30.776Z"
   },
   {
    "duration": 6,
    "start_time": "2022-10-26T09:32:32.373Z"
   },
   {
    "duration": 36,
    "start_time": "2022-10-26T09:32:34.009Z"
   },
   {
    "duration": 4,
    "start_time": "2022-10-26T09:33:12.661Z"
   },
   {
    "duration": 18,
    "start_time": "2022-10-26T09:33:14.703Z"
   },
   {
    "duration": 4,
    "start_time": "2022-10-26T09:33:53.365Z"
   },
   {
    "duration": 4,
    "start_time": "2022-10-26T09:33:59.330Z"
   },
   {
    "duration": 11,
    "start_time": "2022-10-26T09:34:00.946Z"
   },
   {
    "duration": 19,
    "start_time": "2022-10-26T09:34:05.246Z"
   },
   {
    "duration": 5,
    "start_time": "2022-10-26T09:34:34.541Z"
   },
   {
    "duration": 451,
    "start_time": "2022-10-26T09:36:08.433Z"
   },
   {
    "duration": 12,
    "start_time": "2022-10-26T09:36:15.794Z"
   },
   {
    "duration": 16,
    "start_time": "2022-10-26T09:36:32.455Z"
   },
   {
    "duration": 715,
    "start_time": "2022-10-26T09:37:41.960Z"
   },
   {
    "duration": 9,
    "start_time": "2022-10-26T09:37:49.133Z"
   },
   {
    "duration": 358798,
    "start_time": "2022-10-26T09:39:41.295Z"
   },
   {
    "duration": 4,
    "start_time": "2022-10-26T09:46:06.534Z"
   },
   {
    "duration": 24,
    "start_time": "2022-10-26T09:46:07.295Z"
   },
   {
    "duration": 24,
    "start_time": "2022-10-26T09:46:08.684Z"
   },
   {
    "duration": 7,
    "start_time": "2022-10-26T09:59:44.393Z"
   },
   {
    "duration": 21,
    "start_time": "2022-10-26T09:59:47.665Z"
   },
   {
    "duration": 26,
    "start_time": "2022-10-26T10:00:19.435Z"
   },
   {
    "duration": 11,
    "start_time": "2022-10-26T10:02:10.603Z"
   },
   {
    "duration": 18,
    "start_time": "2022-10-26T10:03:15.083Z"
   },
   {
    "duration": 12,
    "start_time": "2022-10-26T10:04:00.083Z"
   },
   {
    "duration": 11,
    "start_time": "2022-10-26T10:04:47.902Z"
   },
   {
    "duration": 5,
    "start_time": "2022-10-26T12:28:25.751Z"
   },
   {
    "duration": 8,
    "start_time": "2022-10-26T12:28:30.568Z"
   },
   {
    "duration": 5,
    "start_time": "2022-10-26T12:28:35.188Z"
   },
   {
    "duration": 8,
    "start_time": "2022-10-26T12:28:45.164Z"
   },
   {
    "duration": 7,
    "start_time": "2022-10-26T12:28:52.605Z"
   },
   {
    "duration": 10,
    "start_time": "2022-10-26T12:29:35.777Z"
   },
   {
    "duration": 8,
    "start_time": "2022-10-26T12:29:40.548Z"
   },
   {
    "duration": 5,
    "start_time": "2022-10-26T12:29:47.786Z"
   },
   {
    "duration": 955,
    "start_time": "2022-10-26T12:31:06.428Z"
   },
   {
    "duration": 14,
    "start_time": "2022-10-26T12:31:08.294Z"
   },
   {
    "duration": 18,
    "start_time": "2022-10-26T12:31:36.182Z"
   },
   {
    "duration": 659,
    "start_time": "2022-10-26T12:32:12.069Z"
   },
   {
    "duration": 4,
    "start_time": "2022-10-26T12:49:45.760Z"
   },
   {
    "duration": 39,
    "start_time": "2022-10-26T12:49:46.731Z"
   },
   {
    "duration": 13,
    "start_time": "2022-10-26T12:49:47.660Z"
   },
   {
    "duration": 4,
    "start_time": "2022-10-26T12:49:52.686Z"
   },
   {
    "duration": 49,
    "start_time": "2022-10-26T12:49:57.767Z"
   },
   {
    "duration": 9,
    "start_time": "2022-10-26T12:50:03.523Z"
   },
   {
    "duration": 11,
    "start_time": "2022-10-26T12:50:20.454Z"
   },
   {
    "duration": 14,
    "start_time": "2022-10-26T12:50:32.645Z"
   },
   {
    "duration": 8,
    "start_time": "2022-10-26T12:50:45.927Z"
   },
   {
    "duration": 8,
    "start_time": "2022-10-26T12:50:47.637Z"
   },
   {
    "duration": 7,
    "start_time": "2022-10-26T12:50:48.724Z"
   },
   {
    "duration": 4,
    "start_time": "2022-10-26T12:50:50.053Z"
   },
   {
    "duration": 5,
    "start_time": "2022-10-26T12:50:50.694Z"
   },
   {
    "duration": 12,
    "start_time": "2022-10-26T12:50:55.546Z"
   },
   {
    "duration": 9,
    "start_time": "2022-10-26T12:50:58.927Z"
   },
   {
    "duration": 7,
    "start_time": "2022-10-26T12:51:16.328Z"
   },
   {
    "duration": 7,
    "start_time": "2022-10-26T12:51:18.575Z"
   },
   {
    "duration": 12,
    "start_time": "2022-10-26T12:51:20.482Z"
   },
   {
    "duration": 6,
    "start_time": "2022-10-26T12:51:30.873Z"
   },
   {
    "duration": 9,
    "start_time": "2022-10-26T12:51:31.862Z"
   },
   {
    "duration": 4,
    "start_time": "2022-10-26T12:51:33.476Z"
   },
   {
    "duration": 9,
    "start_time": "2022-10-26T12:51:36.531Z"
   },
   {
    "duration": 2,
    "start_time": "2022-10-26T12:51:37.530Z"
   },
   {
    "duration": 9,
    "start_time": "2022-10-26T12:51:38.390Z"
   },
   {
    "duration": 5,
    "start_time": "2022-10-26T12:51:42.601Z"
   },
   {
    "duration": 23,
    "start_time": "2022-10-26T12:51:50.170Z"
   },
   {
    "duration": 10,
    "start_time": "2022-10-26T12:51:51.571Z"
   },
   {
    "duration": 11,
    "start_time": "2022-10-26T12:51:53.259Z"
   },
   {
    "duration": 572,
    "start_time": "2022-10-26T12:51:55.724Z"
   },
   {
    "duration": 466312,
    "start_time": "2022-10-26T12:52:09.362Z"
   },
   {
    "duration": 4,
    "start_time": "2022-10-26T13:02:26.351Z"
   },
   {
    "duration": 5,
    "start_time": "2022-10-26T13:02:27.278Z"
   },
   {
    "duration": 19,
    "start_time": "2022-10-26T13:02:28.749Z"
   },
   {
    "duration": 6,
    "start_time": "2022-10-26T13:02:29.403Z"
   },
   {
    "duration": 23,
    "start_time": "2022-10-26T13:02:30.601Z"
   },
   {
    "duration": 186,
    "start_time": "2022-10-26T13:02:49.394Z"
   },
   {
    "duration": 9,
    "start_time": "2022-10-26T13:03:05.330Z"
   },
   {
    "duration": 12,
    "start_time": "2022-10-26T13:03:11.065Z"
   },
   {
    "duration": 598,
    "start_time": "2022-10-26T13:03:19.946Z"
   },
   {
    "duration": 472762,
    "start_time": "2022-10-26T13:03:53.826Z"
   },
   {
    "duration": 4,
    "start_time": "2022-10-26T13:11:58.630Z"
   },
   {
    "duration": 5,
    "start_time": "2022-10-26T13:11:59.447Z"
   },
   {
    "duration": 22,
    "start_time": "2022-10-26T13:12:00.348Z"
   },
   {
    "duration": 6,
    "start_time": "2022-10-26T13:12:01.458Z"
   },
   {
    "duration": 29,
    "start_time": "2022-10-26T13:12:02.547Z"
   },
   {
    "duration": 5,
    "start_time": "2022-10-26T13:12:21.621Z"
   },
   {
    "duration": 12,
    "start_time": "2022-10-26T13:12:22.661Z"
   },
   {
    "duration": 18,
    "start_time": "2022-10-26T13:12:23.364Z"
   },
   {
    "duration": 5,
    "start_time": "2022-10-26T13:12:27.655Z"
   },
   {
    "duration": 759,
    "start_time": "2022-10-26T13:12:31.322Z"
   },
   {
    "duration": 18,
    "start_time": "2022-10-26T13:12:45.250Z"
   },
   {
    "duration": 730,
    "start_time": "2022-10-26T13:13:08.793Z"
   },
   {
    "duration": 339121,
    "start_time": "2022-10-26T13:13:19.031Z"
   },
   {
    "duration": 4,
    "start_time": "2022-10-26T13:19:59.576Z"
   },
   {
    "duration": 29,
    "start_time": "2022-10-26T13:20:00.222Z"
   },
   {
    "duration": 30,
    "start_time": "2022-10-26T13:20:01.324Z"
   },
   {
    "duration": 6,
    "start_time": "2022-10-26T13:21:14.995Z"
   },
   {
    "duration": 40,
    "start_time": "2022-10-26T13:21:46.803Z"
   },
   {
    "duration": 15,
    "start_time": "2022-10-26T13:21:55.467Z"
   },
   {
    "duration": 12,
    "start_time": "2022-10-26T13:22:10.830Z"
   },
   {
    "duration": 12,
    "start_time": "2022-10-26T13:22:15.167Z"
   },
   {
    "duration": 412,
    "start_time": "2022-10-26T13:23:59.112Z"
   },
   {
    "duration": 144,
    "start_time": "2022-10-26T13:24:50.545Z"
   },
   {
    "duration": 19,
    "start_time": "2022-10-26T13:26:53.440Z"
   },
   {
    "duration": 21,
    "start_time": "2022-10-26T13:30:11.375Z"
   },
   {
    "duration": 13,
    "start_time": "2022-10-26T13:30:23.426Z"
   },
   {
    "duration": 4,
    "start_time": "2022-10-26T13:30:49.611Z"
   },
   {
    "duration": 430,
    "start_time": "2022-10-26T13:31:15.435Z"
   }
  ],
  "kernelspec": {
   "display_name": "Python 3 (ipykernel)",
   "language": "python",
   "name": "python3"
  },
  "language_info": {
   "codemirror_mode": {
    "name": "ipython",
    "version": 3
   },
   "file_extension": ".py",
   "mimetype": "text/x-python",
   "name": "python",
   "nbconvert_exporter": "python",
   "pygments_lexer": "ipython3",
   "version": "3.10.9"
  },
  "toc": {
   "base_numbering": 1,
   "nav_menu": {},
   "number_sections": true,
   "sideBar": true,
   "skip_h1_title": true,
   "title_cell": "Содержание",
   "title_sidebar": "Contents",
   "toc_cell": true,
   "toc_position": {
    "height": "calc(100% - 180px)",
    "left": "10px",
    "top": "150px",
    "width": "165px"
   },
   "toc_section_display": true,
   "toc_window_display": true
  },
  "vscode": {
   "interpreter": {
    "hash": "3b7e9cb8e453d6cda0fe8c8dd13f891a1f09162f0e7c66ffeae7751a7aecf00d"
   }
  }
 },
 "nbformat": 4,
 "nbformat_minor": 2
}
